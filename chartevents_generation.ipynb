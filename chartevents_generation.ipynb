{
 "cells": [
  {
   "cell_type": "code",
   "execution_count": 7,
   "id": "ca8b7c1f",
   "metadata": {},
   "outputs": [
    {
     "name": "stdout",
     "output_type": "stream",
     "text": [
      "First few rows of the dataset:\n",
      "   subject_id   hadm_id   stay_id  caregiver_id            charttime  \\\n",
      "0    10005817  20626031  32604416        6770.0  2132-12-16 00:00:00   \n",
      "1    10005817  20626031  32604416        6770.0  2132-12-16 00:00:00   \n",
      "2    10005817  20626031  32604416        6770.0  2132-12-16 00:00:00   \n",
      "3    10005817  20626031  32604416        6770.0  2132-12-16 00:00:00   \n",
      "4    10005817  20626031  32604416        6770.0  2132-12-16 00:00:00   \n",
      "\n",
      "             storetime  itemid          value  valuenum valueuom  warning  \n",
      "0  2132-12-15 23:45:00  225054            On        NaN      NaN      0.0  \n",
      "1  2132-12-15 23:43:00  223769            100     100.0        %      0.0  \n",
      "2  2132-12-15 23:47:00  223956  Atrial demand       NaN      NaN      0.0  \n",
      "3  2132-12-15 23:47:00  224866            Yes       NaN      NaN      0.0  \n",
      "4  2132-12-15 23:45:00  227341             No       0.0      NaN      0.0  \n"
     ]
    }
   ],
   "source": [
    "import pandas as pd\n",

    "import warnings\n",
    "warnings.filterwarnings(\"ignore\")\n",
    "\n",

    "file_path = r\"C:\\Users\\Lenovo\\OneDrive - University of Leeds\\Project\\mimic-iv-clinical-database-demo-2.2\\mimic-iv-clinical-database-demo-2.2\\chartevents.csv\"\n",
    "data = pd.read_csv(file_path)\n",
    "\n",

    "print(\"First few rows of the dataset:\")\n",
    "print(data.head())"
   ]
  },
  {
   "cell_type": "code",
   "execution_count": 8,
   "id": "58089fff",
   "metadata": {},
   "outputs": [
    {
     "name": "stdout",
     "output_type": "stream",
     "text": [
      "Total columns: 11\n",
      "Total rows: 668862\n",
      "-------------\n",
      "subject_id           0\n",
      "hadm_id              0\n",
      "stay_id              0\n",
      "caregiver_id     24240\n",
      "charttime            0\n",
      "storetime         1159\n",
      "itemid               0\n",
      "value            20730\n",
      "valuenum        411388\n",
      "valueuom        506291\n",
      "warning           1159\n",
      "dtype: int64\n"
     ]
    }
   ],
   "source": [

    "null_values = data.isnull().sum()\n",
    "\n",

    "total_columns = data.shape[1]\n",
    "total_rows = data.shape[0]\n",
    "print(f\"Total columns: {total_columns}\")\n",
    "print(f\"Total rows: {total_rows}\")\n",
    "print(\"-------------\")\n",
    "\n",

    "print(null_values)\n"
   ]
  },
  {
   "cell_type": "code",
   "execution_count": 9,
   "id": "a76725b2",
   "metadata": {},
   "outputs": [],
   "source": [
    "data.drop(columns=['valueuom'], inplace=True)\n"
   ]
  },
  {
   "cell_type": "code",
   "execution_count": 10,
   "id": "84908300",
   "metadata": {},
   "outputs": [],
   "source": [
    "data['caregiver_id'].fillna(-1, inplace=True)  # Example: Fill with -1 or another placeholder\n",
    "data['warning'].fillna(0, inplace=True) "
   ]
  },
  {
   "cell_type": "code",
   "execution_count": 11,
   "id": "1859df97",
   "metadata": {},
   "outputs": [
    {
     "name": "stdout",
     "output_type": "stream",
     "text": [
      "Total columns: 10\n",
      "Total rows: 668862\n",
      "-------------\n",
      "subject_id           0\n",
      "hadm_id              0\n",
      "stay_id              0\n",
      "caregiver_id         0\n",
      "charttime            0\n",
      "storetime         1159\n",
      "itemid               0\n",
      "value            20730\n",
      "valuenum        411388\n",
      "warning              0\n",
      "dtype: int64\n"
     ]
    }
   ],
   "source": [
 
    "null_values = data.isnull().sum()\n",
    "\n",

    "total_columns = data.shape[1]\n",
    "total_rows = data.shape[0]\n",
    "print(f\"Total columns: {total_columns}\")\n",
    "print(f\"Total rows: {total_rows}\")\n",
    "print(\"-------------\")\n",
    "\n",

    "print(null_values)\n"
   ]
  },
  {
   "cell_type": "code",
   "execution_count": 12,
   "id": "a9660ad2",
   "metadata": {},
   "outputs": [],
   "source": [
    "from sdv.metadata import SingleTableMetadata\n",
    "from sdv.single_table import CTGANSynthesizer\n",
    "import time"
   ]
  },
  {
   "cell_type": "code",
   "execution_count": 13,
   "id": "838e2625",
   "metadata": {},
   "outputs": [],
   "source": [
    "df_data = data.head(3000)\n"
   ]
  },
  {
   "cell_type": "code",
   "execution_count": 14,
   "id": "ff868a70",
   "metadata": {},
   "outputs": [],
   "source": [
    "# Define the metadata\n",
    "metadata = SingleTableMetadata()\n",
    "metadata.detect_from_dataframe(data=df_data)\n"
   ]
  },
  {
   "cell_type": "code",
   "execution_count": 15,
   "id": "bdcc86a6",
   "metadata": {},
   "outputs": [
    {
     "name": "stdout",
     "output_type": "stream",
     "text": [
      "Training time: 2445.5108625888824 seconds\n"
     ]
    }
   ],
   "source": [

    "custom_synthesizer = CTGANSynthesizer(metadata, epochs=1000)\n",
    "\n",

    "start_time = time.time()\n",
    "\n",

    "custom_synthesizer.fit(df_data)\n",
    "\n",

    "end_time = time.time()\n",
    "\n",

    "elapsed_time = end_time - start_time\n",
    "print(f\"Training time: {elapsed_time} seconds\")\n",
    "\n"
   ]
  },
  {
   "cell_type": "code",
   "execution_count": 16,
   "id": "03523c4a",
   "metadata": {},
   "outputs": [
    {
     "name": "stdout",
     "output_type": "stream",
     "text": [
      "   subject_id   hadm_id   stay_id  caregiver_id            charttime  \\\n",
      "0    10005817  20626031  32604416        6376.0  2132-12-15 22:58:09   \n",
      "1    10005817  20626031  32604416       20870.0  2132-12-17 07:14:51   \n",
      "2    10005817  20626031  32604416        5441.0  2132-12-17 13:41:22   \n",
      "3    10005817  20626031  32604416        7822.0  2132-12-17 09:50:23   \n",
      "4    10005817  20626031  32604416       21820.0  2132-12-17 05:56:59   \n",
      "\n",
      "             storetime  itemid         value  valuenum  warning  \n",
      "0  2132-12-16 04:34:46  220045          Dry        NaN      0.0  \n",
      "1  2132-12-17 07:44:08  224159  Not assessed      37.7      0.0  \n",
      "2  2132-12-17 10:50:39  224076          36.5       NaN      0.0  \n",
      "3  2132-12-17 09:59:25  224107        Normal       NaN      0.0  \n",
      "4  2132-12-17 12:35:14  224062            54       NaN      0.0  \n"
     ]
    }
   ],
   "source": [

    "synthetic_data = custom_synthesizer.sample(1000)  # Generate 1000 rows of synthetic data\n",
    "\n",

    "print(synthetic_data.head())"
   ]
  },
  {
   "cell_type": "code",
   "execution_count": 17,
   "id": "577dd4d4",
   "metadata": {},
   "outputs": [],
   "source": [

    "synthetic_data['subject_id'] = range(400000, 400000 + len(synthetic_data))\n",
    "synthetic_data['hadm_id'] = synthetic_data['subject_id'].apply(lambda x: f\"{x}{str(synthetic_data.index.get_loc(synthetic_data.index[synthetic_data['subject_id'] == x][0])).zfill(2)}\")\n",
    "\n"
   ]
  },
  {
   "cell_type": "code",
   "execution_count": 18,
   "id": "1bafad4e",
   "metadata": {},
   "outputs": [
    {
     "name": "stdout",
     "output_type": "stream",
     "text": [
      "Synthetic data generated, updated, and saved successfully.\n"
     ]
    }
   ],
   "source": [
    "synthetic_data.to_csv('synthetic_chartevents.csv', index=False)\n",
    "\n",
    "print(\"Synthetic data generated, updated, and saved successfully.\")"
   ]
  },
  {
   "cell_type": "code",
   "execution_count": 19,
   "id": "153e9a25",
   "metadata": {},
   "outputs": [
    {
     "name": "stdout",
     "output_type": "stream",
     "text": [
      "Total columns: 10\n",
      "Total rows: 1000\n",
      "-------------\n",
      "subject_id        0\n",
      "hadm_id           0\n",
      "stay_id           0\n",
      "caregiver_id      0\n",
      "charttime         0\n",
      "storetime         0\n",
      "itemid            0\n",
      "value            10\n",
      "valuenum        591\n",
      "warning           0\n",
      "dtype: int64\n"
     ]
    }
   ],
   "source": [

    "null_values = synthetic_data.isnull().sum()\n",
    "\n",

    "total_columns = synthetic_data.shape[1]\n",
    "total_rows = synthetic_data.shape[0]\n",
    "print(f\"Total columns: {total_columns}\")\n",
    "print(f\"Total rows: {total_rows}\")\n",
    "print(\"-------------\")\n",
    "\n",

    "print(null_values)\n"
   ]
  },
  {
   "cell_type": "code",
   "execution_count": 21,
   "id": "e25b3eb0",
   "metadata": {},
   "outputs": [
    {
     "name": "stdout",
     "output_type": "stream",
     "text": [
      "Generating report ...\n",
      "\n",
      "(1/2) Evaluating Data Validity: |█████████████████████████████████████████████████████| 10/10 [00:00<00:00, 28.53it/s]|\n",
      "Data Validity Score: 80.0%\n",
      "\n",
      "(2/2) Evaluating Data Structure: |█████████████████████████████████████████████████████| 1/1 [00:00<00:00, 250.36it/s]|\n",
      "Data Structure Score: 100.0%\n",
      "\n",
      "Overall Score (Average): 90.0%\n",
      "\n"
     ]
    }
   ],
   "source": [
    "from sdv.evaluation.single_table import run_diagnostic\n",
    "\n",
    "diagnostic = run_diagnostic(\n",
    "    real_data=data,\n",
    "    synthetic_data=synthetic_data,\n",
    "    metadata=metadata\n",
    ")\n"
   ]
  },
  {
   "cell_type": "code",
   "execution_count": 23,
   "id": "353d453f",
   "metadata": {},
   "outputs": [
    {
     "name": "stdout",
     "output_type": "stream",
     "text": [
      "Generating report ...\n",
      "\n",
      "(1/2) Evaluating Column Shapes: |█████████████████████████████████████████████████████| 10/10 [00:00<00:00, 95.61it/s]|\n",
      "Column Shapes Score: 68.98%\n",
      "\n",
      "(2/2) Evaluating Column Pair Trends: |████████████████████████████████████████████████| 45/45 [00:18<00:00,  2.50it/s]|\n",
      "Column Pair Trends Score: 48.2%\n",
      "\n",
      "Overall Score (Average): 58.59%\n",
      "\n"
     ]
    }
   ],
   "source": [
    "from sdv.evaluation.single_table import evaluate_quality\n",
    "\n",
    "quality_report = evaluate_quality(\n",
    "    df_data,\n",
    "    synthetic_data,\n",
    "    metadata\n",
    ")"
   ]
  },
  {
   "cell_type": "code",
   "execution_count": 24,
   "id": "2300502a",
   "metadata": {},
   "outputs": [
    {
     "data": {
      "text/html": [
       "<div>\n",
       "<style scoped>\n",
       "    .dataframe tbody tr th:only-of-type {\n",
       "        vertical-align: middle;\n",
       "    }\n",
       "\n",
       "    .dataframe tbody tr th {\n",
       "        vertical-align: top;\n",
       "    }\n",
       "\n",
       "    .dataframe thead th {\n",
       "        text-align: right;\n",
       "    }\n",
       "</style>\n",
       "<table border=\"1\" class=\"dataframe\">\n",
       "  <thead>\n",
       "    <tr style=\"text-align: right;\">\n",
       "      <th></th>\n",
       "      <th>Column</th>\n",
       "      <th>Metric</th>\n",
       "      <th>Score</th>\n",
       "    </tr>\n",
       "  </thead>\n",
       "  <tbody>\n",
       "    <tr>\n",
       "      <th>0</th>\n",
       "      <td>subject_id</td>\n",
       "      <td>TVComplement</td>\n",
       "      <td>3.333332e-07</td>\n",
       "    </tr>\n",
       "    <tr>\n",
       "      <th>1</th>\n",
       "      <td>hadm_id</td>\n",
       "      <td>TVComplement</td>\n",
       "      <td>3.333332e-07</td>\n",
       "    </tr>\n",
       "    <tr>\n",
       "      <th>2</th>\n",
       "      <td>stay_id</td>\n",
       "      <td>TVComplement</td>\n",
       "      <td>1.000000e+00</td>\n",
       "    </tr>\n",
       "    <tr>\n",
       "      <th>3</th>\n",
       "      <td>caregiver_id</td>\n",
       "      <td>KSComplement</td>\n",
       "      <td>8.370000e-01</td>\n",
       "    </tr>\n",
       "    <tr>\n",
       "      <th>4</th>\n",
       "      <td>charttime</td>\n",
       "      <td>KSComplement</td>\n",
       "      <td>9.433333e-01</td>\n",
       "    </tr>\n",
       "    <tr>\n",
       "      <th>5</th>\n",
       "      <td>storetime</td>\n",
       "      <td>KSComplement</td>\n",
       "      <td>9.306667e-01</td>\n",
       "    </tr>\n",
       "    <tr>\n",
       "      <th>6</th>\n",
       "      <td>itemid</td>\n",
       "      <td>KSComplement</td>\n",
       "      <td>9.180000e-01</td>\n",
       "    </tr>\n",
       "    <tr>\n",
       "      <th>7</th>\n",
       "      <td>value</td>\n",
       "      <td>TVComplement</td>\n",
       "      <td>7.161637e-01</td>\n",
       "    </tr>\n",
       "    <tr>\n",
       "      <th>8</th>\n",
       "      <td>valuenum</td>\n",
       "      <td>KSComplement</td>\n",
       "      <td>6.271543e-01</td>\n",
       "    </tr>\n",
       "    <tr>\n",
       "      <th>9</th>\n",
       "      <td>warning</td>\n",
       "      <td>TVComplement</td>\n",
       "      <td>9.260000e-01</td>\n",
       "    </tr>\n",
       "  </tbody>\n",
       "</table>\n",
       "</div>"
      ],
      "text/plain": [
       "         Column        Metric         Score\n",
       "0    subject_id  TVComplement  3.333332e-07\n",
       "1       hadm_id  TVComplement  3.333332e-07\n",
       "2       stay_id  TVComplement  1.000000e+00\n",
       "3  caregiver_id  KSComplement  8.370000e-01\n",
       "4     charttime  KSComplement  9.433333e-01\n",
       "5     storetime  KSComplement  9.306667e-01\n",
       "6        itemid  KSComplement  9.180000e-01\n",
       "7         value  TVComplement  7.161637e-01\n",
       "8      valuenum  KSComplement  6.271543e-01\n",
       "9       warning  TVComplement  9.260000e-01"
      ]
     },
     "execution_count": 24,
     "metadata": {},
     "output_type": "execute_result"
    }
   ],
   "source": [
    "quality_report.get_details('Column Shapes')"
   ]
  },
  {
   "cell_type": "code",
   "execution_count": 26,
   "id": "4e69d142",
   "metadata": {},
   "outputs": [
    {
     "data": {
      "text/html": [
       "<iframe\n",
       "    scrolling=\"no\"\n",
       "    width=\"100%\"\n",
       "    height=\"545px\"\n",
       "    src=\"iframe_figures/figure_26.html\"\n",
       "    frameborder=\"0\"\n",
       "    allowfullscreen\n",
       "></iframe>\n"
      ]
     },
     "metadata": {},
     "output_type": "display_data"
    }
   ],
   "source": [
    "from sdv.evaluation.single_table import get_column_plot\n",
    "\n",
    "fig = get_column_plot(\n",
    "    real_data=df_data,\n",
    "    synthetic_data=synthetic_data,\n",
    "    column_name='value',\n",
    "    metadata=metadata\n",
    ")\n",
    "\n",
    "fig.show()"
   ]
  },
  {
   "cell_type": "code",
   "execution_count": 27,
   "id": "aa3ab685",
   "metadata": {},
   "outputs": [
    {
     "name": "stdout",
     "output_type": "stream",
     "text": [
      "subject_id meets the threshold with a score of 3.33e-07.\n",
      "hadm_id does not meet the threshold. Score: 3.33e-07, Threshold: 7.00e-01\n",
      "stay_id meets the threshold with a score of 1.00e+00.\n",
      "caregiver_id meets the threshold with a score of 8.37e-01.\n",
      "charttime meets the threshold with a score of 9.43e-01.\n",
      "storetime meets the threshold with a score of 9.31e-01.\n",
      "itemid meets the threshold with a score of 9.18e-01.\n",
      "value meets the threshold with a score of 7.16e-01.\n",
      "valuenum does not meet the threshold. Score: 6.27e-01, Threshold: 7.00e-01\n",
      "warning meets the threshold with a score of 9.26e-01.\n"
     ]
    }
   ],
   "source": [
    "import pandas as pd\n",
    "\n",

    "data = [\n",
    "    {'Column': 'subject_id', 'Metric': 'TVComplement', 'Score': 3.333332e-07},\n",
    "    {'Column': 'hadm_id', 'Metric': 'TVComplement', 'Score': 3.333332e-07},\n",
    "    {'Column': 'stay_id', 'Metric': 'TVComplement', 'Score': 1.000000e+00},\n",
    "    {'Column': 'caregiver_id', 'Metric': 'KSComplement', 'Score': 8.370000e-01},\n",
    "    {'Column': 'charttime', 'Metric': 'KSComplement', 'Score': 9.433333e-01},\n",
    "    {'Column': 'storetime', 'Metric': 'KSComplement', 'Score': 9.306667e-01},\n",
    "    {'Column': 'itemid', 'Metric': 'KSComplement', 'Score': 9.180000e-01},\n",
    "    {'Column': 'value', 'Metric': 'TVComplement', 'Score': 7.161637e-01},\n",
    "    {'Column': 'valuenum', 'Metric': 'KSComplement', 'Score': 6.271543e-01},\n",
    "    {'Column': 'warning', 'Metric': 'TVComplement', 'Score': 9.260000e-01}\n",
    "]\n",
    "\n",

    "df = pd.DataFrame(data)\n",
    "\n",

    "thresholds = {\n",
    "    'KSComplement': 0.7,\n",
    "    'TVComplement': 0.7,\n",
    "    'critical_columns': {\n",
    "        'admittime': 0.8,\n",
    "        'dischtime': 0.8,\n",
    "        'admission_type': 0.9,\n",
    "        'admission_location': 0.9,\n",
    "        'discharge_location': 0.9,\n",
    "        'insurance': 0.9,\n",
    "        'marital_status': 0.9,\n",
    "    },\n",
    "    'non_critical_columns': {\n",
    "        'subject_id': 0.0,\n",
    "        'language': 0.0,\n",
    "        'race': 0.0,\n",
    "        'edregtime': 0.7,\n",
    "        'edouttime': 0.7,\n",
    "    }\n",
    "}\n",
    "\n",

    "def check_thresholds(df, thresholds):\n",
    "    results = []\n",
    "    for _, row in df.iterrows():\n",
    "        column_name = row['Column']\n",
    "        metric = row['Metric']\n",
    "        score = row['Score']\n",
    "\n",
    "        if column_name in thresholds['critical_columns']:\n",
    "            threshold = thresholds['critical_columns'][column_name]\n",
    "        else:\n",
    "            threshold = thresholds['non_critical_columns'].get(column_name, thresholds.get(metric, 0))\n",
    "\n",
    "        if pd.isna(score):\n",
    "            results.append(f\"{column_name} does not have a valid score.\")\n",
    "        elif score >= threshold:\n",
    "            results.append(f\"{column_name} meets the threshold with a score of {score:.2e}.\")\n",
    "        else:\n",
    "            results.append(f\"{column_name} does not meet the threshold. Score: {score:.2e}, Threshold: {threshold:.2e}\")\n",
    "    \n",
    "    return results\n",
    "\n",

    "results = check_thresholds(df, thresholds)\n",
    "\n",

    "for result in results:\n",
    "    print(result)\n"
   ]
  },
  {
   "cell_type": "code",
   "execution_count": null,
   "id": "e08f5200",
   "metadata": {},
   "outputs": [],
   "source": []
  }
 ],
 "metadata": {
  "kernelspec": {
   "display_name": "Python 3 (ipykernel)",
   "language": "python",
   "name": "python3"
  },
  "language_info": {
   "codemirror_mode": {
    "name": "ipython",
    "version": 3
   },
   "file_extension": ".py",
   "mimetype": "text/x-python",
   "name": "python",
   "nbconvert_exporter": "python",
   "pygments_lexer": "ipython3",
   "version": "3.11.5"
  }
 },
 "nbformat": 4,
 "nbformat_minor": 5
}
