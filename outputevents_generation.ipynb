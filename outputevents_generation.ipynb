{
 "cells": [
  {
   "cell_type": "code",
   "execution_count": 1,
   "id": "dd172500",
   "metadata": {},
   "outputs": [
    {
     "name": "stdout",
     "output_type": "stream",
     "text": [
      "First few rows of the dataset:\n",
      "   subject_id   hadm_id   stay_id  caregiver_id            charttime  \\\n",
      "0    10002428  23473524  35479615         29441  2156-05-15 18:00:00   \n",
      "1    10002428  23473524  35479615         29441  2156-05-15 12:00:00   \n",
      "2    10002428  23473524  35479615         29441  2156-05-15 13:00:00   \n",
      "3    10002428  23473524  35479615         29441  2156-05-15 08:00:00   \n",
      "4    10002428  23473524  35479615         29441  2156-05-15 14:00:00   \n",
      "\n",
      "             storetime  itemid  value valueuom  \n",
      "0  2156-05-15 17:42:00  226583    600       ml  \n",
      "1  2156-05-15 12:08:00  226559     60       ml  \n",
      "2  2156-05-15 13:00:00  226559     45       ml  \n",
      "3  2156-05-15 08:39:00  226559    125       ml  \n",
      "4  2156-05-15 13:56:00  226559     60       ml  \n"
     ]
    }
   ],
   "source": [
    "import pandas as pd\n",
    "# Ignore warnings\n",
    "import warnings\n",
    "warnings.filterwarnings(\"ignore\")\n",
    "\n",
    "# Load the data\n",
    "file_path = r\"C:\\Users\\Lenovo\\OneDrive - University of Leeds\\Project\\mimic-iv-clinical-database-demo-2.2\\mimic-iv-clinical-database-demo-2.2\\outputevents.csv\"\n",
    "data = pd.read_csv(file_path)\n",
    "\n",
    "# Display the first few rows of the dataset\n",
    "print(\"First few rows of the dataset:\")\n",
    "print(data.head())"
   ]
  },
  {
   "cell_type": "code",
   "execution_count": 2,
   "id": "dfe5ee95",
   "metadata": {},
   "outputs": [
    {
     "name": "stdout",
     "output_type": "stream",
     "text": [
      "Total columns: 9\n",
      "Total rows: 9362\n",
      "-------------\n",
      "subject_id      0\n",
      "hadm_id         0\n",
      "stay_id         0\n",
      "caregiver_id    0\n",
      "charttime       0\n",
      "storetime       0\n",
      "itemid          0\n",
      "value           0\n",
      "valueuom        0\n",
      "dtype: int64\n"
     ]
    }
   ],
   "source": [
    "# Calculate the number of null values in each column\n",
    "null_values = data.isnull().sum()\n",
    "\n",
    "# Display the total number of columns and rows\n",
    "total_columns = data.shape[1]\n",
    "total_rows = data.shape[0]\n",
    "print(f\"Total columns: {total_columns}\")\n",
    "print(f\"Total rows: {total_rows}\")\n",
    "print(\"-------------\")\n",
    "\n",
    "# Display the null values in each column\n",
    "print(null_values)\n"
   ]
  },
  {
   "cell_type": "code",
   "execution_count": 3,
   "id": "99bddb01",
   "metadata": {},
   "outputs": [
    {
     "data": {
      "text/plain": [
       "subject_id       int64\n",
       "hadm_id          int64\n",
       "stay_id          int64\n",
       "caregiver_id     int64\n",
       "charttime       object\n",
       "storetime       object\n",
       "itemid           int64\n",
       "value            int64\n",
       "valueuom        object\n",
       "dtype: object"
      ]
     },
     "execution_count": 3,
     "metadata": {},
     "output_type": "execute_result"
    }
   ],
   "source": [
    "data.dtypes"
   ]
  },
  {
   "cell_type": "code",
   "execution_count": 4,
   "id": "7b472f91",
   "metadata": {},
   "outputs": [],
   "source": [
    "data['charttime'] = pd.to_datetime(data['charttime'], errors='coerce')\n",
    "data['storetime'] = pd.to_datetime(data['storetime'], errors='coerce')"
   ]
  },
  {
   "cell_type": "code",
   "execution_count": 5,
   "id": "001e6131",
   "metadata": {},
   "outputs": [
    {
     "data": {
      "text/plain": [
       "subject_id               int64\n",
       "hadm_id                  int64\n",
       "stay_id                  int64\n",
       "caregiver_id             int64\n",
       "charttime       datetime64[ns]\n",
       "storetime       datetime64[ns]\n",
       "itemid                   int64\n",
       "value                    int64\n",
       "valueuom                object\n",
       "dtype: object"
      ]
     },
     "execution_count": 5,
     "metadata": {},
     "output_type": "execute_result"
    }
   ],
   "source": [
    "data.dtypes"
   ]
  },
  {
   "cell_type": "code",
   "execution_count": 6,
   "id": "3a9a45b6",
   "metadata": {},
   "outputs": [],
   "source": [
    "from sdv.metadata import SingleTableMetadata\n",
    "from sdv.single_table import CTGANSynthesizer\n",
    "import time"
   ]
  },
  {
   "cell_type": "code",
   "execution_count": 7,
   "id": "1edc125a",
   "metadata": {},
   "outputs": [],
   "source": [
    "df_data = data.head(2000)\n"
   ]
  },
  {
   "cell_type": "code",
   "execution_count": 8,
   "id": "9929650f",
   "metadata": {},
   "outputs": [],
   "source": [
    "# Define the metadata\n",
    "metadata = SingleTableMetadata()\n",
    "metadata.detect_from_dataframe(data=df_data)\n"
   ]
  },
  {
   "cell_type": "code",
   "execution_count": 9,
   "id": "892ad9dc",
   "metadata": {},
   "outputs": [
    {
     "name": "stdout",
     "output_type": "stream",
     "text": [
      "Training time: 530.9363780021667 seconds\n"
     ]
    }
   ],
   "source": [
    "# Initialize the CTGANSynthesizer\n",
    "custom_synthesizer = CTGANSynthesizer(metadata, epochs=1000)\n",
    "\n",
    "# Start timing\n",
    "start_time = time.time()\n",
    "\n",
    "# Train the synthesizer on the real data\n",
    "custom_synthesizer.fit(df_data)\n",
    "\n",
    "# End timing\n",
    "end_time = time.time()\n",
    "\n",
    "# Calculate elapsed time\n",
    "elapsed_time = end_time - start_time\n",
    "print(f\"Training time: {elapsed_time} seconds\")\n",
    "\n"
   ]
  },
  {
   "cell_type": "code",
   "execution_count": 10,
   "id": "3bf051b1",
   "metadata": {},
   "outputs": [
    {
     "name": "stdout",
     "output_type": "stream",
     "text": [
      "   subject_id   hadm_id   stay_id  caregiver_id           charttime  \\\n",
      "0    10031120  27544731  32375292         25603 2201-12-13 06:00:00   \n",
      "1    10026993  28690972  32526900         68570 2201-12-13 06:00:00   \n",
      "2    10005849  22681533  35461496         15564 2146-08-31 03:48:05   \n",
      "3    10027261  27695598  32668617          2826 2191-12-09 13:02:49   \n",
      "4    10030321  27352183  35078296         26669 2201-12-13 06:00:00   \n",
      "\n",
      "            storetime  itemid  value valueuom  \n",
      "0 2201-12-13 05:49:00  226559    149       ml  \n",
      "1 2149-06-05 14:15:07  226561     45       ml  \n",
      "2 2150-10-09 18:20:31  226565     55       ml  \n",
      "3 2192-05-14 08:22:50  226562     48       ml  \n",
      "4 2201-05-13 07:32:24  226559      0       ml  \n"
     ]
    }
   ],
   "source": [
    "# Generate synthetic data\n",
    "synthetic_data = custom_synthesizer.sample(1000)  # Generate 1000 rows of synthetic data\n",
    "\n",
    "# Display the first few rows of synthetic data\n",
    "print(synthetic_data.head())"
   ]
  },
  {
   "cell_type": "code",
   "execution_count": 11,
   "id": "c1b70b6c",
   "metadata": {},
   "outputs": [],
   "source": [
    "# Update the 'subject_id' to start from 400000\n",
    "synthetic_data['subject_id'] = range(400000, 400000 + len(synthetic_data))\n",
    "synthetic_data['hadm_id'] = synthetic_data['subject_id'].apply(lambda x: f\"{x}{str(synthetic_data.index.get_loc(synthetic_data.index[synthetic_data['subject_id'] == x][0])).zfill(2)}\")\n",
    "\n"
   ]
  },
  {
   "cell_type": "code",
   "execution_count": 12,
   "id": "04dadc69",
   "metadata": {},
   "outputs": [
    {
     "name": "stdout",
     "output_type": "stream",
     "text": [
      "Synthetic data generated, updated, and saved successfully.\n"
     ]
    }
   ],
   "source": [
    "synthetic_data.to_csv('synthetic_outputevents.csv', index=False)\n",
    "\n",
    "print(\"Synthetic data generated, updated, and saved successfully.\")"
   ]
  },
  {
   "cell_type": "code",
   "execution_count": 13,
   "id": "93723ae5",
   "metadata": {},
   "outputs": [
    {
     "name": "stdout",
     "output_type": "stream",
     "text": [
      "Total columns: 9\n",
      "Total rows: 1000\n",
      "-------------\n",
      "subject_id      0\n",
      "hadm_id         0\n",
      "stay_id         0\n",
      "caregiver_id    0\n",
      "charttime       0\n",
      "storetime       0\n",
      "itemid          0\n",
      "value           0\n",
      "valueuom        0\n",
      "dtype: int64\n"
     ]
    }
   ],
   "source": [
    "# Calculate the number of null values in each column\n",
    "null_values = synthetic_data.isnull().sum()\n",
    "\n",
    "# Display the total number of columns and rows\n",
    "total_columns = synthetic_data.shape[1]\n",
    "total_rows = synthetic_data.shape[0]\n",
    "print(f\"Total columns: {total_columns}\")\n",
    "print(f\"Total rows: {total_rows}\")\n",
    "print(\"-------------\")\n",
    "\n",
    "# Display the null values in each column\n",
    "print(null_values)\n"
   ]
  },
  {
   "cell_type": "code",
   "execution_count": 14,
   "id": "9a7636ac",
   "metadata": {},
   "outputs": [
    {
     "name": "stdout",
     "output_type": "stream",
     "text": [
      "Generating report ...\n",
      "\n",
      "(1/2) Evaluating Data Validity: |██████████████████████████████████████████████████████| 9/9 [00:00<00:00, 470.08it/s]|\n",
      "Data Validity Score: 87.5%\n",
      "\n",
      "(2/2) Evaluating Data Structure: |█████████████████████████████████████████████████████| 1/1 [00:00<00:00, 143.13it/s]|\n",
      "Data Structure Score: 100.0%\n",
      "\n",
      "Overall Score (Average): 93.75%\n",
      "\n"
     ]
    }
   ],
   "source": [
    "from sdv.evaluation.single_table import run_diagnostic\n",
    "\n",
    "diagnostic = run_diagnostic(\n",
    "    real_data=df_data,\n",
    "    synthetic_data=synthetic_data,\n",
    "    metadata=metadata\n",
    ")\n"
   ]
  },
  {
   "cell_type": "code",
   "execution_count": 15,
   "id": "c5c275ad",
   "metadata": {},
   "outputs": [
    {
     "name": "stdout",
     "output_type": "stream",
     "text": [
      "Generating report ...\n",
      "\n",
      "(1/2) Evaluating Column Shapes: |██████████████████████████████████████████████████████| 9/9 [00:00<00:00, 100.32it/s]|\n",
      "Column Shapes Score: 76.23%\n",
      "\n",
      "(2/2) Evaluating Column Pair Trends: |████████████████████████████████████████████████| 36/36 [00:00<00:00, 46.73it/s]|\n",
      "Column Pair Trends Score: 92.21%\n",
      "\n",
      "Overall Score (Average): 84.22%\n",
      "\n"
     ]
    }
   ],
   "source": [
    "from sdv.evaluation.single_table import evaluate_quality\n",
    "\n",
    "quality_report = evaluate_quality(\n",
    "    df_data,\n",
    "    synthetic_data,\n",
    "    metadata\n",
    ")"
   ]
  },
  {
   "cell_type": "code",
   "execution_count": 16,
   "id": "61a9d2e9",
   "metadata": {},
   "outputs": [
    {
     "data": {
      "text/html": [
       "<div>\n",
       "<style scoped>\n",
       "    .dataframe tbody tr th:only-of-type {\n",
       "        vertical-align: middle;\n",
       "    }\n",
       "\n",
       "    .dataframe tbody tr th {\n",
       "        vertical-align: top;\n",
       "    }\n",
       "\n",
       "    .dataframe thead th {\n",
       "        text-align: right;\n",
       "    }\n",
       "</style>\n",
       "<table border=\"1\" class=\"dataframe\">\n",
       "  <thead>\n",
       "    <tr style=\"text-align: right;\">\n",
       "      <th></th>\n",
       "      <th>Column</th>\n",
       "      <th>Metric</th>\n",
       "      <th>Score</th>\n",
       "      <th>Error</th>\n",
       "    </tr>\n",
       "  </thead>\n",
       "  <tbody>\n",
       "    <tr>\n",
       "      <th>0</th>\n",
       "      <td>subject_id</td>\n",
       "      <td>KSComplement</td>\n",
       "      <td>0.0000</td>\n",
       "      <td>None</td>\n",
       "    </tr>\n",
       "    <tr>\n",
       "      <th>1</th>\n",
       "      <td>hadm_id</td>\n",
       "      <td>KSComplement</td>\n",
       "      <td>NaN</td>\n",
       "      <td>TypeError: '&lt;' not supported between instances...</td>\n",
       "    </tr>\n",
       "    <tr>\n",
       "      <th>2</th>\n",
       "      <td>stay_id</td>\n",
       "      <td>KSComplement</td>\n",
       "      <td>0.9005</td>\n",
       "      <td>None</td>\n",
       "    </tr>\n",
       "    <tr>\n",
       "      <th>3</th>\n",
       "      <td>caregiver_id</td>\n",
       "      <td>KSComplement</td>\n",
       "      <td>0.9030</td>\n",
       "      <td>None</td>\n",
       "    </tr>\n",
       "    <tr>\n",
       "      <th>4</th>\n",
       "      <td>charttime</td>\n",
       "      <td>KSComplement</td>\n",
       "      <td>0.9155</td>\n",
       "      <td>None</td>\n",
       "    </tr>\n",
       "    <tr>\n",
       "      <th>5</th>\n",
       "      <td>storetime</td>\n",
       "      <td>KSComplement</td>\n",
       "      <td>0.8865</td>\n",
       "      <td>None</td>\n",
       "    </tr>\n",
       "    <tr>\n",
       "      <th>6</th>\n",
       "      <td>itemid</td>\n",
       "      <td>KSComplement</td>\n",
       "      <td>0.5815</td>\n",
       "      <td>None</td>\n",
       "    </tr>\n",
       "    <tr>\n",
       "      <th>7</th>\n",
       "      <td>value</td>\n",
       "      <td>KSComplement</td>\n",
       "      <td>0.9110</td>\n",
       "      <td>None</td>\n",
       "    </tr>\n",
       "    <tr>\n",
       "      <th>8</th>\n",
       "      <td>valueuom</td>\n",
       "      <td>TVComplement</td>\n",
       "      <td>1.0000</td>\n",
       "      <td>None</td>\n",
       "    </tr>\n",
       "  </tbody>\n",
       "</table>\n",
       "</div>"
      ],
      "text/plain": [
       "         Column        Metric   Score  \\\n",
       "0    subject_id  KSComplement  0.0000   \n",
       "1       hadm_id  KSComplement     NaN   \n",
       "2       stay_id  KSComplement  0.9005   \n",
       "3  caregiver_id  KSComplement  0.9030   \n",
       "4     charttime  KSComplement  0.9155   \n",
       "5     storetime  KSComplement  0.8865   \n",
       "6        itemid  KSComplement  0.5815   \n",
       "7         value  KSComplement  0.9110   \n",
       "8      valueuom  TVComplement  1.0000   \n",
       "\n",
       "                                               Error  \n",
       "0                                               None  \n",
       "1  TypeError: '<' not supported between instances...  \n",
       "2                                               None  \n",
       "3                                               None  \n",
       "4                                               None  \n",
       "5                                               None  \n",
       "6                                               None  \n",
       "7                                               None  \n",
       "8                                               None  "
      ]
     },
     "execution_count": 16,
     "metadata": {},
     "output_type": "execute_result"
    }
   ],
   "source": [
    "quality_report.get_details('Column Shapes')"
   ]
  },
  {
   "cell_type": "code",
   "execution_count": 17,
   "id": "2235ffbe",
   "metadata": {},
   "outputs": [
    {
     "data": {
      "text/html": [
       "<iframe\n",
       "    scrolling=\"no\"\n",
       "    width=\"100%\"\n",
       "    height=\"545px\"\n",
       "    src=\"iframe_figures/figure_17.html\"\n",
       "    frameborder=\"0\"\n",
       "    allowfullscreen\n",
       "></iframe>\n"
      ]
     },
     "metadata": {},
     "output_type": "display_data"
    }
   ],
   "source": [
    "from sdv.evaluation.single_table import get_column_plot\n",
    "\n",
    "fig = get_column_plot(\n",
    "    real_data=data,\n",
    "    synthetic_data=synthetic_data,\n",
    "    column_name='value',\n",
    "    metadata=metadata\n",
    ")\n",
    "\n",
    "fig.show()"
   ]
  },
  {
   "cell_type": "code",
   "execution_count": 20,
   "id": "2cb38799",
   "metadata": {},
   "outputs": [
    {
     "name": "stdout",
     "output_type": "stream",
     "text": [
      "subject_id meets the threshold with a score of 0.00e+00.\n",
      "hadm_id does not have a valid score. Error: TypeError: '<' not supported between instances\n",
      "stay_id meets the threshold with a score of 9.00e-01.\n",
      "caregiver_id meets the threshold with a score of 9.03e-01.\n",
      "charttime meets the threshold with a score of 9.15e-01.\n",
      "storetime meets the threshold with a score of 8.86e-01.\n",
      "itemid does not meet the threshold. Score: 5.82e-01, Threshold: 7.00e-01\n",
      "value meets the threshold with a score of 9.11e-01.\n",
      "valueuom meets the threshold with a score of 1.00e+00.\n"
     ]
    }
   ],
   "source": [
    "import pandas as pd\n",
    "\n",
    "# Load the provided data\n",
    "data = [\n",
    "    {'Column': 'subject_id', 'Metric': 'KSComplement', 'Score': 0.0, 'Error': None},\n",
    "    {'Column': 'hadm_id', 'Metric': 'KSComplement', 'Score': None, 'Error': \"TypeError: '<' not supported between instances\"},\n",
    "    {'Column': 'stay_id', 'Metric': 'KSComplement', 'Score': 0.9005, 'Error': None},\n",
    "    {'Column': 'caregiver_id', 'Metric': 'KSComplement', 'Score': 0.9030, 'Error': None},\n",
    "    {'Column': 'charttime', 'Metric': 'KSComplement', 'Score': 0.9155, 'Error': None},\n",
    "    {'Column': 'storetime', 'Metric': 'KSComplement', 'Score': 0.8865, 'Error': None},\n",
    "    {'Column': 'itemid', 'Metric': 'KSComplement', 'Score': 0.5815, 'Error': None},\n",
    "    {'Column': 'value', 'Metric': 'KSComplement', 'Score': 0.9110, 'Error': None},\n",
    "    {'Column': 'valueuom', 'Metric': 'TVComplement', 'Score': 1.0000, 'Error': None}\n",
    "]\n",
    "\n",
    "# Create a DataFrame from the provided data\n",
    "df = pd.DataFrame(data)\n",
    "\n",
    "# Define the thresholds\n",
    "thresholds = {\n",
    "    'KSComplement': 0.7,\n",
    "    'TVComplement': 0.7,\n",
    "    'critical_columns': {\n",
    "        'admittime': 0.8,\n",
    "        'dischtime': 0.8,\n",
    "        'admission_type': 0.9,\n",
    "        'admission_location': 0.9,\n",
    "        'discharge_location': 0.9,\n",
    "        'insurance': 0.9,\n",
    "        'marital_status': 0.9,\n",
    "    },\n",
    "    'non_critical_columns': {\n",
    "        'subject_id': 0.0,\n",
    "        'language': 0.0,\n",
    "        'race': 0.0,\n",
    "        'edregtime': 0.7,\n",
    "        'edouttime': 0.7,\n",
    "    }\n",
    "}\n",
    "\n",
    "# Function to check if columns meet the threshold\n",
    "def check_thresholds(df, thresholds):\n",
    "    results = []\n",
    "    for _, row in df.iterrows():\n",
    "        column_name = row['Column']\n",
    "        metric = row['Metric']\n",
    "        score = row['Score']\n",
    "\n",
    "        if column_name in thresholds['critical_columns']:\n",
    "            threshold = thresholds['critical_columns'][column_name]\n",
    "        else:\n",
    "            threshold = thresholds['non_critical_columns'].get(column_name, thresholds.get(metric, 0))\n",
    "\n",
    "        if pd.isna(score):\n",
    "            results.append(f\"{column_name} does not have a valid score. Error: {row['Error']}\")\n",
    "        elif score >= threshold:\n",
    "            results.append(f\"{column_name} meets the threshold with a score of {score:.2e}.\")\n",
    "        else:\n",
    "            results.append(f\"{column_name} does not meet the threshold. Score: {score:.2e}, Threshold: {threshold:.2e}\")\n",
    "    \n",
    "    return results\n",
    "\n",
    "# Call the function with the data\n",
    "results = check_thresholds(df, thresholds)\n",
    "\n",
    "# Print the results\n",
    "for result in results:\n",
    "    print(result)\n"
   ]
  },
  {
   "cell_type": "code",
   "execution_count": null,
   "id": "393a4490",
   "metadata": {},
   "outputs": [],
   "source": []
  }
 ],
 "metadata": {
  "kernelspec": {
   "display_name": "Python 3 (ipykernel)",
   "language": "python",
   "name": "python3"
  },
  "language_info": {
   "codemirror_mode": {
    "name": "ipython",
    "version": 3
   },
   "file_extension": ".py",
   "mimetype": "text/x-python",
   "name": "python",
   "nbconvert_exporter": "python",
   "pygments_lexer": "ipython3",
   "version": "3.11.5"
  }
 },
 "nbformat": 4,
 "nbformat_minor": 5
}
