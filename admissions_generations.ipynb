{
 "cells": [
  {
   "cell_type": "code",
   "execution_count": 1,
   "id": "e5c78446",
   "metadata": {},
   "outputs": [],
   "source": [
    "import pandas as pd\n",
    "import matplotlib.pyplot as plt\n",
    "import seaborn as sns"
   ]
  },
  {
   "cell_type": "code",
   "execution_count": 27,
   "id": "99615be3",
   "metadata": {},
   "outputs": [
    {
     "name": "stdout",
     "output_type": "stream",
     "text": [
      "First few rows of the dataset:\n",
      "   subject_id   hadm_id            admittime            dischtime  \\\n",
      "0    10004235  24181354  2196-02-24 14:38:00  2196-03-04 14:02:00   \n",
      "1    10009628  25926192  2153-09-17 17:08:00  2153-09-25 13:20:00   \n",
      "2    10018081  23983182  2134-08-18 02:02:00  2134-08-23 19:35:00   \n",
      "3    10006053  22942076  2111-11-13 23:39:00  2111-11-15 17:20:00   \n",
      "4    10031404  21606243  2113-08-04 18:46:00  2113-08-06 20:57:00   \n",
      "\n",
      "             deathtime admission_type admit_provider_id  \\\n",
      "0                  NaN         URGENT            P03YMR   \n",
      "1                  NaN         URGENT            P41R5N   \n",
      "2                  NaN         URGENT            P233F6   \n",
      "3  2111-11-15 17:20:00         URGENT            P38TI6   \n",
      "4                  NaN         URGENT            P07HDB   \n",
      "\n",
      "       admission_location        discharge_location insurance language  \\\n",
      "0  TRANSFER FROM HOSPITAL  SKILLED NURSING FACILITY  Medicaid  ENGLISH   \n",
      "1  TRANSFER FROM HOSPITAL          HOME HEALTH CARE  Medicaid        ?   \n",
      "2  TRANSFER FROM HOSPITAL  SKILLED NURSING FACILITY  Medicare  ENGLISH   \n",
      "3  TRANSFER FROM HOSPITAL                      DIED  Medicaid  ENGLISH   \n",
      "4  TRANSFER FROM HOSPITAL                      HOME     Other  ENGLISH   \n",
      "\n",
      "  marital_status                            race            edregtime  \\\n",
      "0         SINGLE              BLACK/CAPE VERDEAN  2196-02-24 12:15:00   \n",
      "1        MARRIED  HISPANIC/LATINO - PUERTO RICAN                  NaN   \n",
      "2        MARRIED                           WHITE  2134-08-17 16:24:00   \n",
      "3            NaN                         UNKNOWN                  NaN   \n",
      "4        WIDOWED                           WHITE                  NaN   \n",
      "\n",
      "             edouttime  hospital_expire_flag  \n",
      "0  2196-02-24 17:07:00                     0  \n",
      "1                  NaN                     0  \n",
      "2  2134-08-18 03:15:00                     0  \n",
      "3                  NaN                     1  \n",
      "4                  NaN                     0  \n",
      "\n",
      "Missing data in each column:\n",
      "subject_id                0\n",
      "hadm_id                   0\n",
      "admittime                 0\n",
      "dischtime                 0\n",
      "deathtime               260\n",
      "admission_type            0\n",
      "admit_provider_id         0\n",
      "admission_location        0\n",
      "discharge_location       42\n",
      "insurance                 0\n",
      "language                  0\n",
      "marital_status           12\n",
      "race                      0\n",
      "edregtime                93\n",
      "edouttime                93\n",
      "hospital_expire_flag      0\n",
      "dtype: int64\n"
     ]
    }
   ],
   "source": [
    "# Load the data\n",
    "file_path = r\"C:\\Users\\Lenovo\\OneDrive - University of Leeds\\Project\\mimic-iv-clinical-database-demo-2.2\\mimic-iv-clinical-database-demo-2.2\\admissions.csv\"\n",
    "admissions_df = pd.read_csv(file_path)\n",
    "\n",
    "# Display the first few rows of the dataset\n",
    "print(\"First few rows of the dataset:\")\n",
    "print(admissions_df.head())\n",
    "\n",
    "# Display the total number of missing values in each column\n",
    "missing_data = admissions_df.isnull().sum()\n",
    "print(\"\\nMissing data in each column:\")\n",
    "print(missing_data)\n"
   ]
  },
  {
   "cell_type": "code",
   "execution_count": 28,
   "id": "4555a01b",
   "metadata": {},
   "outputs": [
    {
     "name": "stdout",
     "output_type": "stream",
     "text": [
      "\n",
      "Summary of missing data:\n",
      "                  Column  Missing Values  Percentage\n",
      "0             subject_id               0    0.000000\n",
      "1                hadm_id               0    0.000000\n",
      "2              admittime               0    0.000000\n",
      "3              dischtime               0    0.000000\n",
      "4              deathtime             260   94.545455\n",
      "5         admission_type               0    0.000000\n",
      "6      admit_provider_id               0    0.000000\n",
      "7     admission_location               0    0.000000\n",
      "8     discharge_location              42   15.272727\n",
      "9              insurance               0    0.000000\n",
      "10              language               0    0.000000\n",
      "11        marital_status              12    4.363636\n",
      "12                  race               0    0.000000\n",
      "13             edregtime              93   33.818182\n",
      "14             edouttime              93   33.818182\n",
      "15  hospital_expire_flag               0    0.000000\n"
     ]
    }
   ],
   "source": [
    "\n",
    "# Additional summary of missing data\n",
    "missing_summary = admissions_df.isnull().sum().reset_index()\n",
    "missing_summary.columns = ['Column', 'Missing Values']\n",
    "missing_summary['Percentage'] = (missing_summary['Missing Values'] / admissions_df.shape[0]) * 100\n",
    "print(\"\\nSummary of missing data:\")\n",
    "print(missing_summary)\n"
   ]
  },
  {
   "cell_type": "code",
   "execution_count": 29,
   "id": "348fa864",
   "metadata": {},
   "outputs": [],
   "source": [
    "admissions_df.drop(['hospital_expire_flag'], axis=1, inplace=True)"
   ]
  },
  {
   "cell_type": "code",
   "execution_count": 30,
   "id": "a11f9835",
   "metadata": {},
   "outputs": [
    {
     "name": "stdout",
     "output_type": "stream",
     "text": [
      "\n",
      "Summary of missing data:\n",
      "                Column  Missing Values  Percentage\n",
      "0           subject_id               0    0.000000\n",
      "1              hadm_id               0    0.000000\n",
      "2            admittime               0    0.000000\n",
      "3            dischtime               0    0.000000\n",
      "4            deathtime             260   94.545455\n",
      "5       admission_type               0    0.000000\n",
      "6    admit_provider_id               0    0.000000\n",
      "7   admission_location               0    0.000000\n",
      "8   discharge_location              42   15.272727\n",
      "9            insurance               0    0.000000\n",
      "10            language               0    0.000000\n",
      "11      marital_status              12    4.363636\n",
      "12                race               0    0.000000\n",
      "13           edregtime              93   33.818182\n",
      "14           edouttime              93   33.818182\n"
     ]
    }
   ],
   "source": [
    "\n",
    "# Additional summary of missing data\n",
    "missing_summary = admissions_df.isnull().sum().reset_index()\n",
    "missing_summary.columns = ['Column', 'Missing Values']\n",
    "missing_summary['Percentage'] = (missing_summary['Missing Values'] / admissions_df.shape[0]) * 100\n",
    "print(\"\\nSummary of missing data:\")\n",
    "print(missing_summary)\n"
   ]
  },
  {
   "cell_type": "code",
   "execution_count": 31,
   "id": "94086a63",
   "metadata": {},
   "outputs": [],
   "source": [
    "import numpy as np\n",
    "from datetime import datetime, timedelta\n",
    "from sdv.metadata import SingleTableMetadata\n",
    "from sdv.single_table import CTGANSynthesizer\n"
   ]
  },
  {
   "cell_type": "code",
   "execution_count": 32,
   "id": "c99451f5",
   "metadata": {},
   "outputs": [],
   "source": [
    "# Function to generate random datetime within a range and format it\n",
    "def generate_random_datetime(start, end):\n",
    "    random_date = start + (end - start) * np.random.rand()\n",
    "    return random_date.strftime('%d/%m/%Y %H:%M')\n",
    "\n",
    "# Define the range for the random datetime\n",
    "start_date = datetime(2100, 1, 1)\n",
    "end_date = datetime(2200, 12, 31)\n",
    "\n",
    "# Generate random datetime data for 'admittime' and 'dischtime'\n",
    "admissions_df['admittime'] = [generate_random_datetime(start_date, end_date) for _ in range(len(admissions_df))]\n",
    "admissions_df['dischtime'] = [generate_random_datetime(start_date, end_date) for _ in range(len(admissions_df))]\n",
    "\n"
   ]
  },
  {
   "cell_type": "code",
   "execution_count": 33,
   "id": "53460581",
   "metadata": {},
   "outputs": [
    {
     "name": "stderr",
     "output_type": "stream",
     "text": [
      "C:\\Users\\Lenovo\\anaconda3\\Lib\\site-packages\\sdv\\_utils.py:47: UserWarning: Parsing dates in %d/%m/%Y %H:%M format when dayfirst=False (the default) was specified. Pass `dayfirst=True` or specify a format to silence this warning.\n",
      "  return _guess_datetime_format_for_array(value)\n",
      "C:\\Users\\Lenovo\\anaconda3\\Lib\\site-packages\\sdv\\_utils.py:47: UserWarning: Parsing dates in %d/%m/%Y %H:%M format when dayfirst=False (the default) was specified. Pass `dayfirst=True` or specify a format to silence this warning.\n",
      "  return _guess_datetime_format_for_array(value)\n"
     ]
    }
   ],
   "source": [
    "# Define the metadata\n",
    "metadata = SingleTableMetadata()\n",
    "metadata.detect_from_dataframe(data=admissions_df)\n",
    "\n",
    "# Modify the metadata to handle datetime fields appropriately\n",
    "metadata.update_column('admittime', sdtype='datetime', datetime_format='%d/%m/%Y %H:%M')\n",
    "metadata.update_column('dischtime', sdtype='datetime', datetime_format='%d/%m/%Y %H:%M')\n",
    "\n"
   ]
  },
  {
   "cell_type": "code",
   "execution_count": 34,
   "id": "8be15c28",
   "metadata": {},
   "outputs": [
    {
     "name": "stderr",
     "output_type": "stream",
     "text": [
      "C:\\Users\\Lenovo\\anaconda3\\Lib\\site-packages\\sdv\\single_table\\base.py:92: UserWarning: We strongly recommend saving the metadata using 'save_to_json' for replicability in future SDV versions.\n",
      "  warnings.warn(\n"
     ]
    }
   ],
   "source": [
    "# Initialize the CTGAN synthesizer\n",
    "synthesizer = CTGANSynthesizer(metadata)\n",
    "\n",
    "# Fit the synthesizer on the real data\n",
    "synthesizer.fit(admissions_df)\n",
    "\n",
    "# Generate synthetic data\n",
    "synthetic_data = synthesizer.sample(1000)  # Generate 1000 synthetic rows\n"
   ]
  },
  {
   "cell_type": "code",
   "execution_count": 35,
   "id": "1259137b",
   "metadata": {},
   "outputs": [],
   "source": [
    "# Update the 'subject_id' to start from 400000\n",
    "synthetic_data['subject_id'] = range(400000, 400000 + len(synthetic_data))\n",
    "synthetic_data['hadm_id'] = synthetic_data['subject_id'].apply(lambda x: f\"{x}{str(synthetic_data.index.get_loc(synthetic_data.index[synthetic_data['subject_id'] == x][0])).zfill(2)}\")\n",
    "\n"
   ]
  },
  {
   "cell_type": "code",
   "execution_count": 36,
   "id": "db765fb2",
   "metadata": {},
   "outputs": [],
   "source": [
    "# Define the function to assign religion based on percentages\n",
    "def assign_religion():\n",
    "    r = np.random.rand()\n",
    "    if r < 0.825:\n",
    "        return \"Muslim\"\n",
    "    elif r < 0.965:\n",
    "        return \"Jewish\"\n",
    "    elif r < 0.99:\n",
    "        return \"Christian\"\n",
    "    else:\n",
    "        return \"Other religious minorities include Palestinian Metawalis, Palestinian Druze, and Palestinian Baha'is.\"\n",
    "\n"
   ]
  },
  {
   "cell_type": "code",
   "execution_count": 37,
   "id": "c3f656b7",
   "metadata": {},
   "outputs": [],
   "source": [
    "# Define the function to assign languages based on percentages\n",
    "def assign_language():\n",
    "    r = np.random.rand()\n",
    "    if r < 0.96:\n",
    "        return \"Arabic\"\n",
    "    else:\n",
    "        return \"Hebrew\"\n"
   ]
  },
  {
   "cell_type": "code",
   "execution_count": 38,
   "id": "8037ab80",
   "metadata": {},
   "outputs": [],
   "source": [
    "\n",
    "# Apply the religion function to the synthetic data\n",
    "synthetic_data['race'] = synthetic_data.apply(lambda _: assign_religion(), axis=1)\n",
    "\n",
    "# Apply the language function to the synthetic data\n",
    "synthetic_data['language'] = synthetic_data.apply(lambda _: assign_language(), axis=1)\n"
   ]
  },
  {
   "cell_type": "code",
   "execution_count": 39,
   "id": "296c3aee",
   "metadata": {},
   "outputs": [
    {
     "name": "stdout",
     "output_type": "stream",
     "text": [
      "   subject_id   hadm_id         admittime         dischtime deathtime  \\\n",
      "0      400000  40000000  25/06/2170 00:10  03/11/2126 06:15       NaN   \n",
      "1      400001  40000101  03/07/2176 23:40  22/09/2200 14:08       NaN   \n",
      "2      400002  40000202  26/03/2105 04:14  19/01/2170 15:56       NaN   \n",
      "3      400003  40000303  13/12/2127 20:59  19/12/2113 03:54       NaN   \n",
      "4      400004  40000404  04/02/2106 08:20  30/06/2100 03:36       NaN   \n",
      "\n",
      "                admission_type admit_provider_id      admission_location  \\\n",
      "0  SURGICAL SAME DAY ADMISSION     sdv-pii-h6qup          EMERGENCY ROOM   \n",
      "1                     EW EMER.     sdv-pii-7r2xw          EMERGENCY ROOM   \n",
      "2  SURGICAL SAME DAY ADMISSION     sdv-pii-zwba1          EMERGENCY ROOM   \n",
      "3  SURGICAL SAME DAY ADMISSION     sdv-pii-h9c8o          EMERGENCY ROOM   \n",
      "4                     EW EMER.     sdv-pii-o1xff  TRANSFER FROM HOSPITAL   \n",
      "\n",
      "         discharge_location insurance language marital_status    race  \\\n",
      "0                       NaN  Medicare   Arabic         SINGLE  Muslim   \n",
      "1                     REHAB     Other   Arabic        MARRIED  Muslim   \n",
      "2          HOME HEALTH CARE  Medicare   Arabic         SINGLE  Muslim   \n",
      "3  SKILLED NURSING FACILITY     Other   Arabic        MARRIED  Jewish   \n",
      "4  SKILLED NURSING FACILITY  Medicaid   Arabic         SINGLE  Muslim   \n",
      "\n",
      "             edregtime            edouttime  \n",
      "0  2154-09-14 08:48:19  2154-11-22 13:29:33  \n",
      "1                  NaN  2159-07-30 01:20:06  \n",
      "2                  NaN  2156-11-27 18:46:01  \n",
      "3  2146-02-07 13:46:47  2184-09-03 19:04:28  \n",
      "4                  NaN                  NaN  \n",
      "Synthetic data generated, updated, and saved successfully.\n"
     ]
    }
   ],
   "source": [
    "synthetic_data.to_csv('synthetic_admissions.csv', index=False)\n",
    "\n",
    "print(synthetic_data.head())\n",
    "print(\"Synthetic data generated, updated, and saved successfully.\")\n"
   ]
  },
  {
   "cell_type": "code",
   "execution_count": 40,
   "id": "c7bb3ad2",
   "metadata": {},
   "outputs": [
    {
     "name": "stdout",
     "output_type": "stream",
     "text": [
      "\n",
      "Missing data in each column:\n",
      "subject_id              0\n",
      "hadm_id                 0\n",
      "admittime               0\n",
      "dischtime               0\n",
      "deathtime             950\n",
      "admission_type          0\n",
      "admit_provider_id       0\n",
      "admission_location      0\n",
      "discharge_location    139\n",
      "insurance               0\n",
      "language                0\n",
      "marital_status         63\n",
      "race                    0\n",
      "edregtime             323\n",
      "edouttime             315\n",
      "dtype: int64\n"
     ]
    }
   ],
   "source": [
    "missing_data1 = synthetic_data.isnull().sum()\n",
    "print(\"\\nMissing data in each column:\")\n",
    "print(missing_data1)"
   ]
  },
  {
   "cell_type": "code",
   "execution_count": 41,
   "id": "f3e8a810",
   "metadata": {},
   "outputs": [
    {
     "data": {
      "image/png": "[encoded data removed]",
      "text/plain": [
       "<Figure size 1200x600 with 1 Axes>"
      ]
     },
     "metadata": {},
     "output_type": "display_data"
    }
   ],
   "source": [
    "# Visualize the distribution of the 'religions' column\n",
    "plt.figure(figsize=(12, 6))\n",
    "sns.countplot(data=synthetic_data, y='race', order=synthetic_data['race'].value_counts().index)\n",
    "plt.title('Distribution of Religions')\n",
    "plt.xlabel('Count')\n",
    "plt.ylabel('Race')\n",
    "plt.show()\n"
   ]
  },
  {
   "cell_type": "code",
   "execution_count": 42,
   "id": "0fc763f4",
   "metadata": {},
   "outputs": [
    {
     "data": {
      "image/png": "[encoded data removed]",
      "text/plain": [
       "<Figure size 1200x600 with 1 Axes>"
      ]
     },
     "metadata": {},
     "output_type": "display_data"
    }
   ],
   "source": [
    "\n",
    "# Visualize the distribution of the 'languages' column\n",
    "plt.figure(figsize=(12, 6))\n",
    "sns.countplot(data=synthetic_data, y='language', order=synthetic_data['language'].value_counts().index)\n",
    "plt.title('Distribution of Languages')\n",
    "plt.xlabel('Count')\n",
    "plt.ylabel('Language')\n",
    "plt.show()"
   ]
  },
  {
   "cell_type": "code",
   "execution_count": 43,
   "id": "9221880c",
   "metadata": {},
   "outputs": [
    {
     "name": "stdout",
     "output_type": "stream",
     "text": [
      "Generating report ...\n",
      "\n",
      "(1/2) Evaluating Data Validity: |████████████████████████████████████████████████████| 15/15 [00:00<00:00, 994.23it/s]|\n",
      "Data Validity Score: 78.57%\n",
      "\n",
      "(2/2) Evaluating Data Structure: |█████████████████████████████████████████████████████| 1/1 [00:00<00:00, 333.20it/s]|\n",
      "Data Structure Score: 100.0%\n",
      "\n",
      "Overall Score (Average): 89.29%\n",
      "\n"
     ]
    }
   ],
   "source": [
    "from sdv.evaluation.single_table import run_diagnostic\n",
    "\n",
    "diagnostic = run_diagnostic(\n",
    "    real_data=admissions_df,\n",
    "    synthetic_data=synthetic_data,\n",
    "    metadata=metadata\n",
    ")"
   ]
  },
  {
   "cell_type": "code",
   "execution_count": 44,
   "id": "d011208a",
   "metadata": {},
   "outputs": [
    {
     "name": "stdout",
     "output_type": "stream",
     "text": [
      "Generating report ...\n",
      "\n",
      "(1/2) Evaluating Column Shapes: |████████████████████████████████████████████████████| 15/15 [00:00<00:00, 784.63it/s]|\n",
      "Column Shapes Score: 60.42%\n",
      "\n",
      "(2/2) Evaluating Column Pair Trends: |██████████████████████████████████████████████| 105/105 [00:01<00:00, 78.72it/s]|\n",
      "Column Pair Trends Score: 51.35%\n",
      "\n",
      "Overall Score (Average): 55.89%\n",
      "\n"
     ]
    }
   ],
   "source": [
    "from sdv.evaluation.single_table import evaluate_quality\n",
    "\n",
    "quality_report = evaluate_quality(\n",
    "    admissions_df,\n",
    "    synthetic_data,\n",
    "    metadata\n",
    ")"
   ]
  },
  {
   "cell_type": "code",
   "execution_count": 45,
   "id": "aae7eab9",
   "metadata": {},
   "outputs": [
    {
     "data": {
      "text/html": [
       "<div>\n",
       "<style scoped>\n",
       "    .dataframe tbody tr th:only-of-type {\n",
       "        vertical-align: middle;\n",
       "    }\n",
       "\n",
       "    .dataframe tbody tr th {\n",
       "        vertical-align: top;\n",
       "    }\n",
       "\n",
       "    .dataframe thead th {\n",
       "        text-align: right;\n",
       "    }\n",
       "</style>\n",
       "<table border=\"1\" class=\"dataframe\">\n",
       "  <thead>\n",
       "    <tr style=\"text-align: right;\">\n",
       "      <th></th>\n",
       "      <th>Column</th>\n",
       "      <th>Metric</th>\n",
       "      <th>Score</th>\n",
       "    </tr>\n",
       "  </thead>\n",
       "  <tbody>\n",
       "    <tr>\n",
       "      <th>0</th>\n",
       "      <td>subject_id</td>\n",
       "      <td>KSComplement</td>\n",
       "      <td>0.000000e+00</td>\n",
       "    </tr>\n",
       "    <tr>\n",
       "      <th>1</th>\n",
       "      <td>admittime</td>\n",
       "      <td>KSComplement</td>\n",
       "      <td>7.023636e-01</td>\n",
       "    </tr>\n",
       "    <tr>\n",
       "      <th>2</th>\n",
       "      <td>dischtime</td>\n",
       "      <td>KSComplement</td>\n",
       "      <td>8.044545e-01</td>\n",
       "    </tr>\n",
       "    <tr>\n",
       "      <th>3</th>\n",
       "      <td>deathtime</td>\n",
       "      <td>KSComplement</td>\n",
       "      <td>4.600000e-01</td>\n",
       "    </tr>\n",
       "    <tr>\n",
       "      <th>4</th>\n",
       "      <td>admission_type</td>\n",
       "      <td>TVComplement</td>\n",
       "      <td>9.387273e-01</td>\n",
       "    </tr>\n",
       "    <tr>\n",
       "      <th>5</th>\n",
       "      <td>admission_location</td>\n",
       "      <td>TVComplement</td>\n",
       "      <td>9.114545e-01</td>\n",
       "    </tr>\n",
       "    <tr>\n",
       "      <th>6</th>\n",
       "      <td>discharge_location</td>\n",
       "      <td>TVComplement</td>\n",
       "      <td>9.380947e-01</td>\n",
       "    </tr>\n",
       "    <tr>\n",
       "      <th>7</th>\n",
       "      <td>insurance</td>\n",
       "      <td>TVComplement</td>\n",
       "      <td>9.371818e-01</td>\n",
       "    </tr>\n",
       "    <tr>\n",
       "      <th>8</th>\n",
       "      <td>language</td>\n",
       "      <td>TVComplement</td>\n",
       "      <td>7.272727e-09</td>\n",
       "    </tr>\n",
       "    <tr>\n",
       "      <th>9</th>\n",
       "      <td>marital_status</td>\n",
       "      <td>TVComplement</td>\n",
       "      <td>9.614740e-01</td>\n",
       "    </tr>\n",
       "    <tr>\n",
       "      <th>10</th>\n",
       "      <td>race</td>\n",
       "      <td>TVComplement</td>\n",
       "      <td>1.454545e-08</td>\n",
       "    </tr>\n",
       "    <tr>\n",
       "      <th>11</th>\n",
       "      <td>edregtime</td>\n",
       "      <td>KSComplement</td>\n",
       "      <td>6.073579e-01</td>\n",
       "    </tr>\n",
       "    <tr>\n",
       "      <th>12</th>\n",
       "      <td>edouttime</td>\n",
       "      <td>KSComplement</td>\n",
       "      <td>5.940403e-01</td>\n",
       "    </tr>\n",
       "  </tbody>\n",
       "</table>\n",
       "</div>"
      ],
      "text/plain": [
       "                Column        Metric         Score\n",
       "0           subject_id  KSComplement  0.000000e+00\n",
       "1            admittime  KSComplement  7.023636e-01\n",
       "2            dischtime  KSComplement  8.044545e-01\n",
       "3            deathtime  KSComplement  4.600000e-01\n",
       "4       admission_type  TVComplement  9.387273e-01\n",
       "5   admission_location  TVComplement  9.114545e-01\n",
       "6   discharge_location  TVComplement  9.380947e-01\n",
       "7            insurance  TVComplement  9.371818e-01\n",
       "8             language  TVComplement  7.272727e-09\n",
       "9       marital_status  TVComplement  9.614740e-01\n",
       "10                race  TVComplement  1.454545e-08\n",
       "11           edregtime  KSComplement  6.073579e-01\n",
       "12           edouttime  KSComplement  5.940403e-01"
      ]
     },
     "execution_count": 45,
     "metadata": {},
     "output_type": "execute_result"
    }
   ],
   "source": [
    "quality_report.get_details('Column Shapes')"
   ]
  },
  {
   "cell_type": "code",
   "execution_count": 47,
   "id": "883eb303",
   "metadata": {},
   "outputs": [
    {
     "name": "stdout",
     "output_type": "stream",
     "text": [
      "subject_id meets the threshold with a score of 0.00e+00.\n",
      "admittime does not meet the threshold. Score: 7.02e-01, Threshold: 8.00e-01\n",
      "dischtime meets the threshold with a score of 8.04e-01.\n",
      "deathtime does not meet the threshold. Score: 4.60e-01, Threshold: 7.00e-01\n",
      "admission_type meets the threshold with a score of 9.39e-01.\n",
      "admission_location meets the threshold with a score of 9.11e-01.\n",
      "discharge_location meets the threshold with a score of 9.38e-01.\n",
      "insurance meets the threshold with a score of 9.37e-01.\n",
      "language meets the threshold with a score of 7.27e-09.\n",
      "marital_status meets the threshold with a score of 9.61e-01.\n",
      "race meets the threshold with a score of 1.45e-08.\n",
      "edregtime does not meet the threshold. Score: 6.07e-01, Threshold: 7.00e-01\n",
      "edouttime does not meet the threshold. Score: 5.94e-01, Threshold: 7.00e-01\n"
     ]
    }
   ],
   "source": [
    "# Define the thresholds\n",
    "thresholds = {\n",
    "    'KSComplement': 0.7,\n",
    "    'TVComplement': 0.7,\n",
    "    'critical_columns': {\n",
    "        'admittime': 0.8,\n",
    "        'dischtime': 0.8,\n",
    "        'admission_type': 0.9,\n",
    "        'admission_location': 0.9,\n",
    "        'discharge_location': 0.9,\n",
    "        'insurance': 0.9,\n",
    "        'marital_status': 0.9,\n",
    "    },\n",
    "    'non_critical_columns': {\n",
    "        'subject_id': 0.0,\n",
    "        'language': 0.0,\n",
    "        'race': 0.0,\n",
    "        'edregtime': 0.7,\n",
    "        'edouttime': 0.7,\n",
    "    }\n",
    "}\n",
    "\n",
    "# Sample quality report details (mimicking your data structure)\n",
    "quality_report_details = [\n",
    "    {'Column': 'subject_id', 'Metric': 'KSComplement', 'Score': 0.0},\n",
    "    {'Column': 'admittime', 'Metric': 'KSComplement', 'Score': 0.7023636},\n",
    "    {'Column': 'dischtime', 'Metric': 'KSComplement', 'Score': 0.8044545},\n",
    "    {'Column': 'deathtime', 'Metric': 'KSComplement', 'Score': 0.46},\n",
    "    {'Column': 'admission_type', 'Metric': 'TVComplement', 'Score': 0.9387273},\n",
    "    {'Column': 'admission_location', 'Metric': 'TVComplement', 'Score': 0.9114545},\n",
    "    {'Column': 'discharge_location', 'Metric': 'TVComplement', 'Score': 0.9380947},\n",
    "    {'Column': 'insurance', 'Metric': 'TVComplement', 'Score': 0.9371818},\n",
    "    {'Column': 'language', 'Metric': 'TVComplement', 'Score': 7.272727e-09},\n",
    "    {'Column': 'marital_status', 'Metric': 'TVComplement', 'Score': 0.9614740},\n",
    "    {'Column': 'race', 'Metric': 'TVComplement', 'Score': 1.454545e-08},\n",
    "    {'Column': 'edregtime', 'Metric': 'KSComplement', 'Score': 0.6073759},\n",
    "    {'Column': 'edouttime', 'Metric': 'KSComplement', 'Score': 0.5940430},\n",
    "]\n",
    "\n",
    "# Function to check if columns meet the threshold\n",
    "def check_thresholds(quality_report_details, thresholds):\n",
    "    for column_detail in quality_report_details:\n",
    "        column_name = column_detail['Column']\n",
    "        metric = column_detail['Metric']\n",
    "        score = column_detail['Score']\n",
    "\n",
    "        if column_name in thresholds['critical_columns']:\n",
    "            threshold = thresholds['critical_columns'][column_name]\n",
    "        else:\n",
    "            threshold = thresholds['non_critical_columns'].get(column_name, thresholds[metric])\n",
    "\n",
    "        if score >= threshold:\n",
    "            print(f\"{column_name} meets the threshold with a score of {score:.2e}.\")\n",
    "        else:\n",
    "            print(f\"{column_name} does not meet the threshold. Score: {score:.2e}, Threshold: {threshold:.2e}\")\n",
    "\n",
    "# Call the function with the sample data\n",
    "check_thresholds(quality_report_details, thresholds)\n"
   ]
  },
  {
   "cell_type": "code",
   "execution_count": null,
   "id": "7f3d2375",
   "metadata": {},
   "outputs": [],
   "source": []
  },
  {
   "cell_type": "code",
   "execution_count": null,
   "id": "4824b912",
   "metadata": {},
   "outputs": [],
   "source": []
  },
  {
   "cell_type": "code",
   "execution_count": null,
   "id": "3ef78254",
   "metadata": {},
   "outputs": [],
   "source": []
  },
  {
   "cell_type": "code",
   "execution_count": null,
   "id": "e38fc334",
   "metadata": {},
   "outputs": [],
   "source": []
  }
 ],
 "metadata": {
  "kernelspec": {
   "display_name": "Python 3 (ipykernel)",
   "language": "python",
   "name": "python3"
  },
  "language_info": {
   "codemirror_mode": {
    "name": "ipython",
    "version": 3
   },
   "file_extension": ".py",
   "mimetype": "text/x-python",
   "name": "python",
   "nbconvert_exporter": "python",
   "pygments_lexer": "ipython3",
   "version": "3.11.5"
  }
 },
 "nbformat": 4,
 "nbformat_minor": 5
}
