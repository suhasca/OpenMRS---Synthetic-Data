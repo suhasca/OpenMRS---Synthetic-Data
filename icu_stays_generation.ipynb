{
 "cells": [
  {
   "cell_type": "code",
   "execution_count": 25,
   "id": "9696e61c",
   "metadata": {},
   "outputs": [
    {
     "name": "stdout",
     "output_type": "stream",
     "text": [
      "First few rows of the dataset:\n",
      "   subject_id   hadm_id   stay_id  \\\n",
      "0    10000032  29079034  39553978   \n",
      "1    10000980  26913865  39765666   \n",
      "2    10001217  24597018  37067082   \n",
      "3    10001217  27703517  34592300   \n",
      "4    10001725  25563031  31205490   \n",
      "\n",
      "                                     first_careunit  \\\n",
      "0                Medical Intensive Care Unit (MICU)   \n",
      "1                Medical Intensive Care Unit (MICU)   \n",
      "2               Surgical Intensive Care Unit (SICU)   \n",
      "3               Surgical Intensive Care Unit (SICU)   \n",
      "4  Medical/Surgical Intensive Care Unit (MICU/SICU)   \n",
      "\n",
      "                                      last_careunit               intime  \\\n",
      "0                Medical Intensive Care Unit (MICU)  2180-07-23 14:00:00   \n",
      "1                Medical Intensive Care Unit (MICU)  2189-06-27 08:42:00   \n",
      "2               Surgical Intensive Care Unit (SICU)  2157-11-20 19:18:02   \n",
      "3               Surgical Intensive Care Unit (SICU)  2157-12-19 15:42:24   \n",
      "4  Medical/Surgical Intensive Care Unit (MICU/SICU)  2110-04-11 15:52:22   \n",
      "\n",
      "               outtime       los  \n",
      "0  2180-07-23 23:50:47  0.410266  \n",
      "1  2189-06-27 20:38:27  0.497535  \n",
      "2  2157-11-21 22:08:00  1.118032  \n",
      "3  2157-12-20 14:27:41  0.948113  \n",
      "4  2110-04-12 23:59:56  1.338588  \n"
     ]
    }
   ],
   "source": [
    "import pandas as pd\n",
    "# Ignore warnings\n",
    "import warnings\n",
    "warnings.filterwarnings(\"ignore\")\n",
    "\n",
    "# Load the data\n",
    "file_path = r\"D:\\coursework\\Main Project\\mimic-iv-2.2\\mimic-iv-2.2\\icustays.csv\"\n",
    "data = pd.read_csv(file_path)\n",
    "\n",
    "# Display the first few rows of the dataset\n",
    "print(\"First few rows of the dataset:\")\n",
    "print(data.head())"
   ]
  },
  {
   "cell_type": "code",
   "execution_count": 26,
   "id": "28d96921",
   "metadata": {},
   "outputs": [
    {
     "data": {
      "text/plain": [
       "subject_id        0\n",
       "hadm_id           0\n",
       "stay_id           0\n",
       "first_careunit    0\n",
       "last_careunit     0\n",
       "intime            0\n",
       "outtime           0\n",
       "los               0\n",
       "dtype: int64"
      ]
     },
     "execution_count": 26,
     "metadata": {},
     "output_type": "execute_result"
    }
   ],
   "source": [
    "missing_values = data.isnull().sum()\n",
    "missing_values\n"
   ]
  },
  {
   "cell_type": "code",
   "execution_count": 27,
   "id": "44f7eeb7",
   "metadata": {},
   "outputs": [
    {
     "data": {
      "text/plain": [
       "subject_id          int64\n",
       "hadm_id             int64\n",
       "stay_id             int64\n",
       "first_careunit     object\n",
       "last_careunit      object\n",
       "intime             object\n",
       "outtime            object\n",
       "los               float64\n",
       "dtype: object"
      ]
     },
     "execution_count": 27,
     "metadata": {},
     "output_type": "execute_result"
    }
   ],
   "source": [
    "data.dtypes"
   ]
  },
  {
   "cell_type": "code",
   "execution_count": 28,
   "id": "1b0e7df6",
   "metadata": {},
   "outputs": [],
   "source": [
    "data['intime'] = pd.to_datetime(data['intime'])\n",
    "data['outtime'] = pd.to_datetime(data['outtime'])"
   ]
  },
  {
   "cell_type": "code",
   "execution_count": 29,
   "id": "295e37f8",
   "metadata": {},
   "outputs": [
    {
     "data": {
      "text/plain": [
       "subject_id                 int64\n",
       "hadm_id                    int64\n",
       "stay_id                    int64\n",
       "first_careunit            object\n",
       "last_careunit             object\n",
       "intime            datetime64[ns]\n",
       "outtime           datetime64[ns]\n",
       "los                      float64\n",
       "dtype: object"
      ]
     },
     "execution_count": 29,
     "metadata": {},
     "output_type": "execute_result"
    }
   ],
   "source": [
    "data.dtypes"
   ]
  },
  {
   "cell_type": "code",
   "execution_count": 30,
   "id": "8cc9df93",
   "metadata": {},
   "outputs": [],
   "source": [
    "from sdv.metadata import SingleTableMetadata\n",
    "from sdv.single_table import CTGANSynthesizer\n",
    "import time"
   ]
  },
  {
   "cell_type": "code",
   "execution_count": 31,
   "id": "09b3fd40",
   "metadata": {},
   "outputs": [],
   "source": [
    "df_data = data.head(2000)\n"
   ]
  },
  {
   "cell_type": "code",
   "execution_count": 32,
   "id": "bf74c987",
   "metadata": {},
   "outputs": [],
   "source": [
    "# Define the metadata\n",
    "metadata = SingleTableMetadata()\n",
    "metadata.detect_from_dataframe(data=df_data)\n"
   ]
  },
  {
   "cell_type": "code",
   "execution_count": 33,
   "id": "69a733b8",
   "metadata": {},
   "outputs": [
    {
     "name": "stdout",
     "output_type": "stream",
     "text": [
      "Training time: 286.9878821372986 seconds\n"
     ]
    }
   ],
   "source": [
    "# Initialize the CTGANSynthesizer\n",
    "custom_synthesizer = CTGANSynthesizer(metadata, epochs=1000)\n",
    "\n",
    "# Start timing\n",
    "start_time = time.time()\n",
    "\n",
    "# Train the synthesizer on the real data\n",
    "custom_synthesizer.fit(df_data)\n",
    "\n",
    "# End timing\n",
    "end_time = time.time()\n",
    "\n",
    "# Calculate elapsed time\n",
    "elapsed_time = end_time - start_time\n",
    "print(f\"Training time: {elapsed_time} seconds\")\n",
    "\n"
   ]
  },
  {
   "cell_type": "code",
   "execution_count": 41,
   "id": "8322fdeb",
   "metadata": {},
   "outputs": [
    {
     "name": "stdout",
     "output_type": "stream",
     "text": [
      "   subject_id   hadm_id    stay_id  \\\n",
      "0    10044823  27208906  284992628   \n",
      "1    10081871  27068547  617653576   \n",
      "2    10248415  27547578  477559727   \n",
      "3    10047893  20285494   64786691   \n",
      "4    10024181  28155571  254917403   \n",
      "\n",
      "                                     first_careunit  \\\n",
      "0                               Trauma SICU (TSICU)   \n",
      "1                               Trauma SICU (TSICU)   \n",
      "2                               Trauma SICU (TSICU)   \n",
      "3                          Coronary Care Unit (CCU)   \n",
      "4  Medical/Surgical Intensive Care Unit (MICU/SICU)   \n",
      "\n",
      "                                      last_careunit              intime  \\\n",
      "0  Medical/Surgical Intensive Care Unit (MICU/SICU) 2159-04-18 10:55:55   \n",
      "1                               Trauma SICU (TSICU) 2175-12-11 12:08:52   \n",
      "2                               Trauma SICU (TSICU) 2142-08-31 00:56:01   \n",
      "3                          Coronary Care Unit (CCU) 2177-01-01 17:54:35   \n",
      "4  Medical/Surgical Intensive Care Unit (MICU/SICU) 2152-05-14 17:33:18   \n",
      "\n",
      "              outtime       los  \n",
      "0 2134-04-20 16:25:44  1.433417  \n",
      "1 2189-02-14 00:33:57  3.403190  \n",
      "2 2138-07-15 00:58:00  1.020147  \n",
      "3 2158-06-18 02:07:03  1.749211  \n",
      "4 2141-09-10 04:35:26  0.662673  \n"
     ]
    }
   ],
   "source": [
    "# Generate synthetic data\n",
    "synthetic_data = custom_synthesizer.sample(1000)  # Generate 1000 rows of synthetic data\n",
    "\n",
    "# Display the first few rows of synthetic data\n",
    "print(synthetic_data.head())"
   ]
  },
  {
   "cell_type": "code",
   "execution_count": 42,
   "id": "bee6e76b",
   "metadata": {},
   "outputs": [],
   "source": [
    "# Update the 'subject_id' to start from 400000\n",
    "synthetic_data['subject_id'] = range(400000, 400000 + len(synthetic_data))\n",
    "synthetic_data['hadm_id'] = synthetic_data['subject_id'].apply(lambda x: f\"{x}{str(synthetic_data.index.get_loc(synthetic_data.index[synthetic_data['subject_id'] == x][0])).zfill(2)}\")\n",
    "\n"
   ]
  },
  {
   "cell_type": "code",
   "execution_count": 43,
   "id": "b0ea5037",
   "metadata": {},
   "outputs": [
    {
     "name": "stdout",
     "output_type": "stream",
     "text": [
      "Synthetic data generated, updated, and saved successfully.\n"
     ]
    }
   ],
   "source": [
    "synthetic_data.to_csv('synthetic_icu_events.csv', index=False)\n",
    "\n",
    "print(\"Synthetic data generated, updated, and saved successfully.\")"
   ]
  },
  {
   "cell_type": "code",
   "execution_count": 44,
   "id": "0124c7e2",
   "metadata": {},
   "outputs": [
    {
     "name": "stdout",
     "output_type": "stream",
     "text": [
      "Total columns: 8\n",
      "Total rows: 1000\n",
      "-------------\n",
      "subject_id        0\n",
      "hadm_id           0\n",
      "stay_id           0\n",
      "first_careunit    0\n",
      "last_careunit     0\n",
      "intime            0\n",
      "outtime           0\n",
      "los               0\n",
      "dtype: int64\n"
     ]
    }
   ],
   "source": [
    "# Calculate the number of null values in each column\n",
    "null_values = synthetic_data.isnull().sum()\n",
    "\n",
    "# Display the total number of columns and rows\n",
    "total_columns = synthetic_data.shape[1]\n",
    "total_rows = synthetic_data.shape[0]\n",
    "print(f\"Total columns: {total_columns}\")\n",
    "print(f\"Total rows: {total_rows}\")\n",
    "print(\"-------------\")\n",
    "\n",
    "# Display the null values in each column\n",
    "print(null_values)\n"
   ]
  },
  {
   "cell_type": "code",
   "execution_count": 45,
   "id": "a82b1536",
   "metadata": {},
   "outputs": [
    {
     "name": "stdout",
     "output_type": "stream",
     "text": [
      "Generating report ...\n",
      "\n",
      "\n",
      "|                                                                                               | 0/8 [00:00<?, ?it/s]|\u001b[A\n",
      "(1/2) Evaluating Data Validity: |██████████████████████████████████████████████████████| 8/8 [00:00<00:00, 164.07it/s]|\u001b[A\n",
      "Data Validity Score: 85.71%\n",
      "\n",
      "\n",
      "|                                                                                               | 0/1 [00:00<?, ?it/s]|\u001b[A\n",
      "(2/2) Evaluating Data Structure: |█████████████████████████████████████████████████████| 1/1 [00:00<00:00, 249.72it/s]|\u001b[A\n",
      "Data Structure Score: 100.0%\n",
      "\n",
      "Overall Score (Average): 92.86%\n",
      "\n"
     ]
    }
   ],
   "source": [
    "from sdv.evaluation.single_table import run_diagnostic\n",
    "\n",
    "diagnostic = run_diagnostic(\n",
    "    real_data=data,\n",
    "    synthetic_data=synthetic_data,\n",
    "    metadata=metadata\n",
    ")\n"
   ]
  },
  {
   "cell_type": "code",
   "execution_count": 47,
   "id": "bc143e36",
   "metadata": {},
   "outputs": [
    {
     "name": "stdout",
     "output_type": "stream",
     "text": [
      "Generating report ...\n",
      "\n",
      "\n",
      "|                                                                                               | 0/8 [00:00<?, ?it/s]|\u001b[A\n",
      "(1/2) Evaluating Column Shapes: |                                                               | 0/8 [00:00<?, ?it/s]|\u001b[A\n",
      "(1/2) Evaluating Column Shapes: |███████████████████████████████████████████████████████| 8/8 [00:00<00:00, 55.98it/s]|\u001b[A\n",
      "Column Shapes Score: 72.45%\n",
      "\n",
      "\n",
      "|                                                                                              | 0/28 [00:00<?, ?it/s]|\u001b[A\n",
      "(2/2) Evaluating Column Pair Trends: |                                                         | 0/28 [00:00<?, ?it/s]|\u001b[A\n",
      "(2/2) Evaluating Column Pair Trends: |███████                                          | 4/28 [00:00<00:00, 28.71it/s]|\u001b[A\n",
      "(2/2) Evaluating Column Pair Trends: |████████████████████████████████▌               | 19/28 [00:00<00:00, 79.07it/s]|\u001b[A\n",
      "(2/2) Evaluating Column Pair Trends: |████████████████████████████████████████████████| 28/28 [00:00<00:00, 47.60it/s]|\u001b[A\n",
      "Column Pair Trends Score: 84.05%\n",
      "\n",
      "Overall Score (Average): 78.25%\n",
      "\n"
     ]
    }
   ],
   "source": [
    "from sdv.evaluation.single_table import evaluate_quality\n",
    "\n",
    "quality_report = evaluate_quality(\n",
    "    data,\n",
    "    synthetic_data,\n",
    "    metadata\n",
    ")"
   ]
  },
  {
   "cell_type": "code",
   "execution_count": 48,
   "id": "c3f5a10e",
   "metadata": {},
   "outputs": [
    {
     "data": {
      "text/html": [
       "<div>\n",
       "<style scoped>\n",
       "    .dataframe tbody tr th:only-of-type {\n",
       "        vertical-align: middle;\n",
       "    }\n",
       "\n",
       "    .dataframe tbody tr th {\n",
       "        vertical-align: top;\n",
       "    }\n",
       "\n",
       "    .dataframe thead th {\n",
       "        text-align: right;\n",
       "    }\n",
       "</style>\n",
       "<table border=\"1\" class=\"dataframe\">\n",
       "  <thead>\n",
       "    <tr style=\"text-align: right;\">\n",
       "      <th></th>\n",
       "      <th>Column</th>\n",
       "      <th>Metric</th>\n",
       "      <th>Score</th>\n",
       "      <th>Error</th>\n",
       "    </tr>\n",
       "  </thead>\n",
       "  <tbody>\n",
       "    <tr>\n",
       "      <th>0</th>\n",
       "      <td>subject_id</td>\n",
       "      <td>KSComplement</td>\n",
       "      <td>0.000000</td>\n",
       "      <td>None</td>\n",
       "    </tr>\n",
       "    <tr>\n",
       "      <th>1</th>\n",
       "      <td>hadm_id</td>\n",
       "      <td>KSComplement</td>\n",
       "      <td>NaN</td>\n",
       "      <td>TypeError: '&lt;' not supported between instances...</td>\n",
       "    </tr>\n",
       "    <tr>\n",
       "      <th>2</th>\n",
       "      <td>first_careunit</td>\n",
       "      <td>TVComplement</td>\n",
       "      <td>0.819987</td>\n",
       "      <td>None</td>\n",
       "    </tr>\n",
       "    <tr>\n",
       "      <th>3</th>\n",
       "      <td>last_careunit</td>\n",
       "      <td>TVComplement</td>\n",
       "      <td>0.810145</td>\n",
       "      <td>None</td>\n",
       "    </tr>\n",
       "    <tr>\n",
       "      <th>4</th>\n",
       "      <td>intime</td>\n",
       "      <td>KSComplement</td>\n",
       "      <td>0.921659</td>\n",
       "      <td>None</td>\n",
       "    </tr>\n",
       "    <tr>\n",
       "      <th>5</th>\n",
       "      <td>outtime</td>\n",
       "      <td>KSComplement</td>\n",
       "      <td>0.917455</td>\n",
       "      <td>None</td>\n",
       "    </tr>\n",
       "    <tr>\n",
       "      <th>6</th>\n",
       "      <td>los</td>\n",
       "      <td>KSComplement</td>\n",
       "      <td>0.877598</td>\n",
       "      <td>None</td>\n",
       "    </tr>\n",
       "  </tbody>\n",
       "</table>\n",
       "</div>"
      ],
      "text/plain": [
       "           Column        Metric     Score  \\\n",
       "0      subject_id  KSComplement  0.000000   \n",
       "1         hadm_id  KSComplement       NaN   \n",
       "2  first_careunit  TVComplement  0.819987   \n",
       "3   last_careunit  TVComplement  0.810145   \n",
       "4          intime  KSComplement  0.921659   \n",
       "5         outtime  KSComplement  0.917455   \n",
       "6             los  KSComplement  0.877598   \n",
       "\n",
       "                                               Error  \n",
       "0                                               None  \n",
       "1  TypeError: '<' not supported between instances...  \n",
       "2                                               None  \n",
       "3                                               None  \n",
       "4                                               None  \n",
       "5                                               None  \n",
       "6                                               None  "
      ]
     },
     "execution_count": 48,
     "metadata": {},
     "output_type": "execute_result"
    }
   ],
   "source": [
    "quality_report.get_details('Column Shapes')"
   ]
  },
  {
   "cell_type": "code",
   "execution_count": 49,
   "id": "6c34e013",
   "metadata": {},
   "outputs": [
    {
     "data": {
      "text/html": [
       "<iframe\n",
       "    scrolling=\"no\"\n",
       "    width=\"100%\"\n",
       "    height=\"545px\"\n",
       "    src=\"iframe_figures/figure_49.html\"\n",
       "    frameborder=\"0\"\n",
       "    allowfullscreen\n",
       "></iframe>\n"
      ]
     },
     "metadata": {},
     "output_type": "display_data"
    }
   ],
   "source": [
    "from sdv.evaluation.single_table import get_column_plot\n",
    "\n",
    "fig = get_column_plot(\n",
    "    real_data=data,\n",
    "    synthetic_data=synthetic_data,\n",
    "    column_name='last_careunit',\n",
    "    metadata=metadata\n",
    ")\n",
    "\n",
    "fig.show()"
   ]
  },
  {
   "cell_type": "code",
   "execution_count": 50,
   "id": "13574d45",
   "metadata": {},
   "outputs": [
    {
     "data": {
      "text/html": [
       "<iframe\n",
       "    scrolling=\"no\"\n",
       "    width=\"100%\"\n",
       "    height=\"545px\"\n",
       "    src=\"iframe_figures/figure_50.html\"\n",
       "    frameborder=\"0\"\n",
       "    allowfullscreen\n",
       "></iframe>\n"
      ]
     },
     "metadata": {},
     "output_type": "display_data"
    }
   ],
   "source": [
    "from sdv.evaluation.single_table import get_column_plot\n",
    "\n",
    "fig = get_column_plot(\n",
    "    real_data=data,\n",
    "    synthetic_data=synthetic_data,\n",
    "    column_name='first_careunit',\n",
    "    metadata=metadata\n",
    ")\n",
    "\n",
    "fig.show()"
   ]
  },
  {
   "cell_type": "code",
   "execution_count": 51,
   "id": "e364fdc8",
   "metadata": {},
   "outputs": [
    {
     "name": "stdout",
     "output_type": "stream",
     "text": [
      "subject_id meets the threshold with a score of 0.00e+00.\n",
      "hadm_id does not have a valid score. Error: TypeError: '<' not supported between instances\n",
      "first_careunit meets the threshold with a score of 8.20e-01.\n",
      "last_careunit meets the threshold with a score of 8.10e-01.\n",
      "intime meets the threshold with a score of 9.22e-01.\n",
      "outtime meets the threshold with a score of 9.17e-01.\n",
      "los meets the threshold with a score of 8.78e-01.\n"
     ]
    }
   ],
   "source": [
    "import pandas as pd\n",
    "\n",
    "# Load the new provided data\n",
    "updated_data = [\n",
    "    {'Column': 'subject_id', 'Metric': 'KSComplement', 'Score': 0.0, 'Error': 'None'},\n",
    "    {'Column': 'hadm_id', 'Metric': 'KSComplement', 'Score': None, 'Error': \"TypeError: '<' not supported between instances\"},\n",
    "    {'Column': 'first_careunit', 'Metric': 'TVComplement', 'Score': 0.819987, 'Error': 'None'},\n",
    "    {'Column': 'last_careunit', 'Metric': 'TVComplement', 'Score': 0.810145, 'Error': 'None'},\n",
    "    {'Column': 'intime', 'Metric': 'KSComplement', 'Score': 0.921659, 'Error': 'None'},\n",
    "    {'Column': 'outtime', 'Metric': 'KSComplement', 'Score': 0.917455, 'Error': 'None'},\n",
    "    {'Column': 'los', 'Metric': 'KSComplement', 'Score': 0.877598, 'Error': 'None'}\n",
    "]\n",
    "\n",
    "# Define the updated thresholds\n",
    "thresholds_updated = {\n",
    "    'KSComplement': 0.7,\n",
    "    'TVComplement': 0.7,\n",
    "    'critical_columns': {\n",
    "        'first_careunit': 0.8,\n",
    "        'last_careunit': 0.8,\n",
    "        'intime': 0.9,\n",
    "        'outtime': 0.9,\n",
    "        'los': 0.8,\n",
    "    },\n",
    "    'non_critical_columns': {\n",
    "        'subject_id': 0.0,\n",
    "        'hadm_id': 0.0,\n",
    "    }\n",
    "}\n",
    "\n",
    "# Function to check if columns meet the threshold\n",
    "def check_thresholds_updated(quality_report_details, thresholds):\n",
    "    for column_detail in quality_report_details:\n",
    "        column_name = column_detail['Column']\n",
    "        metric = column_detail['Metric']\n",
    "        score = column_detail['Score']\n",
    "\n",
    "        if column_name in thresholds['critical_columns']:\n",
    "            threshold = thresholds['critical_columns'][column_name]\n",
    "        else:\n",
    "            threshold = thresholds['non_critical_columns'].get(column_name, thresholds[metric])\n",
    "\n",
    "        if score is None:\n",
    "            print(f\"{column_name} does not have a valid score. Error: {column_detail['Error']}\")\n",
    "        elif score >= threshold:\n",
    "            print(f\"{column_name} meets the threshold with a score of {score:.2e}.\")\n",
    "        else:\n",
    "            print(f\"{column_name} does not meet the threshold. Score: {score:.2e}, Threshold: {threshold:.2e}\")\n",
    "\n",
    "# Call the function with the updated data\n",
    "check_thresholds_updated(updated_data, thresholds_updated)\n"
   ]
  },
  {
   "cell_type": "code",
   "execution_count": null,
   "id": "58b7e08c",
   "metadata": {},
   "outputs": [],
   "source": []
  }
 ],
 "metadata": {
  "kernelspec": {
   "display_name": "Python 3 (ipykernel)",
   "language": "python",
   "name": "python3"
  },
  "language_info": {
   "codemirror_mode": {
    "name": "ipython",
    "version": 3
   },
   "file_extension": ".py",
   "mimetype": "text/x-python",
   "name": "python",
   "nbconvert_exporter": "python",
   "pygments_lexer": "ipython3",
   "version": "3.11.5"
  }
 },
 "nbformat": 4,
 "nbformat_minor": 5
}
