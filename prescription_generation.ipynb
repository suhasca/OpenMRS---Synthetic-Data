{
 "cells": [
  {
   "cell_type": "code",
   "execution_count": 1,
   "id": "69eee605",
   "metadata": {},
   "outputs": [
    {
     "name": "stdout",
     "output_type": "stream",
     "text": [
      "First few rows of the dataset:\n",
      "   subject_id   hadm_id  pharmacy_id poe_id  poe_seq order_provider_id  \\\n",
      "0    10027602  28166872     27168639    NaN      NaN               NaN   \n",
      "1    10027602  28166872     40720238    NaN      NaN               NaN   \n",
      "2    10027602  28166872     62845687    NaN      NaN               NaN   \n",
      "3    10027602  28166872     24340150    NaN      NaN               NaN   \n",
      "4    10027602  28166872     14435820    NaN      NaN               NaN   \n",
      "\n",
      "             starttime stoptime drug_type              drug  ...  gsn ndc  \\\n",
      "0  2201-10-30 12:00:00      NaN      MAIN  Fentanyl Citrate  ...  NaN NaN   \n",
      "1  2201-10-30 12:00:00      NaN      MAIN  Fentanyl Citrate  ...  NaN NaN   \n",
      "2  2201-10-31 12:00:00      NaN      MAIN         Lorazepam  ...  NaN NaN   \n",
      "3  2201-10-30 12:00:00      NaN      MAIN         Midazolam  ...  NaN NaN   \n",
      "4  2201-10-30 12:00:00      NaN      MAIN         Midazolam  ...  NaN NaN   \n",
      "\n",
      "   prod_strength form_rx dose_val_rx dose_unit_rx form_val_disp  \\\n",
      "0            NaN     NaN         NaN          NaN           NaN   \n",
      "1            NaN     NaN         NaN          NaN           NaN   \n",
      "2            NaN     NaN         NaN          NaN           NaN   \n",
      "3            NaN     NaN         NaN          NaN           NaN   \n",
      "4            NaN     NaN         NaN          NaN           NaN   \n",
      "\n",
      "  form_unit_disp doses_per_24_hrs  route  \n",
      "0            NaN              NaN    NaN  \n",
      "1            NaN              NaN    NaN  \n",
      "2            NaN              NaN    NaN  \n",
      "3            NaN              NaN    NaN  \n",
      "4            NaN              NaN    NaN  \n",
      "\n",
      "[5 rows x 21 columns]\n"
     ]
    }
   ],
   "source": [
    "import pandas as pd\n",
 
    "import warnings\n",
    "warnings.filterwarnings(\"ignore\")\n",
    "\n",
    "# Loading the data\n",
    "file_path = r\"C:\\Users\\Lenovo\\OneDrive - University of Leeds\\Project\\mimic-iv-clinical-database-demo-2.2\\mimic-iv-clinical-database-demo-2.2\\prescriptions.csv\"\n",
    "data = pd.read_csv(file_path)\n",
    "\n",

    "print(\"First few rows of the dataset:\")\n",
    "print(data.head())"
   ]
  },
  {
   "cell_type": "code",
   "execution_count": 2,
   "id": "698cd0aa",
   "metadata": {},
   "outputs": [
    {
     "name": "stdout",
     "output_type": "stream",
     "text": [
      "Total columns: 21\n",
      "Total rows: 18087\n",
      "-------------\n",
      "subject_id               0\n",
      "hadm_id                  0\n",
      "pharmacy_id              0\n",
      "poe_id                 118\n",
      "poe_seq                118\n",
      "order_provider_id       94\n",
      "starttime                0\n",
      "stoptime                14\n",
      "drug_type                0\n",
      "drug                     0\n",
      "formulary_drug_cd       12\n",
      "gsn                   2519\n",
      "ndc                     21\n",
      "prod_strength            9\n",
      "form_rx              18075\n",
      "dose_val_rx              9\n",
      "dose_unit_rx             9\n",
      "form_val_disp            9\n",
      "form_unit_disp           9\n",
      "doses_per_24_hrs      7383\n",
      "route                    6\n",
      "dtype: int64\n"
     ]
    }
   ],
   "source": [
  
    "null_values = data.isnull().sum()\n",
    "\n",

    "total_columns = data.shape[1]\n",
    "total_rows = data.shape[0]\n",
    "print(f\"Total columns: {total_columns}\")\n",
    "print(f\"Total rows: {total_rows}\")\n",
    "print(\"-------------\")\n",
    "\n",
  
    "print(null_values)\n"
   ]
  },
  {
   "cell_type": "code",
   "execution_count": 3,
   "id": "9b29e1d9",
   "metadata": {},
   "outputs": [],
   "source": [
    "data.drop(columns=['form_rx'], inplace=True)\n"
   ]
  },
  {
   "cell_type": "code",
   "execution_count": 4,
   "id": "b00d0849",
   "metadata": {},
   "outputs": [],
   "source": [
    "\n",

    "data['starttime'] = pd.to_datetime(data['starttime'], errors='coerce')\n",
    "data['stoptime'] = pd.to_datetime(data['stoptime'], errors='coerce')\n",
    "\n"
   ]
  },
  {
   "cell_type": "code",
   "execution_count": 5,
   "id": "4e9278ee",
   "metadata": {},
   "outputs": [],
   "source": [

    "data['poe_id'].fillna('Unknown', inplace=True)\n",
    "data['poe_seq'].fillna(0, inplace=True)\n",
    "data['order_provider_id'].fillna('Unknown', inplace=True)\n",
    "data['doses_per_24_hrs'].fillna(data['doses_per_24_hrs'].median(), inplace=True)  # Filling with median\n"
   ]
  },
  {
   "cell_type": "code",
   "execution_count": 7,
   "id": "287fe057",
   "metadata": {},
   "outputs": [
    {
     "name": "stdout",
     "output_type": "stream",
     "text": [
      "<class 'pandas.core.frame.DataFrame'>\n",
      "RangeIndex: 18087 entries, 0 to 18086\n",
      "Data columns (total 20 columns):\n",
      " #   Column             Non-Null Count  Dtype         \n",
      "---  ------             --------------  -----         \n",
      " 0   subject_id         18087 non-null  int64         \n",
      " 1   hadm_id            18087 non-null  int64         \n",
      " 2   pharmacy_id        18087 non-null  int64         \n",
      " 3   poe_id             18087 non-null  object        \n",
      " 4   poe_seq            18087 non-null  float64       \n",
      " 5   order_provider_id  18087 non-null  object        \n",
      " 6   starttime          18087 non-null  datetime64[ns]\n",
      " 7   stoptime           18073 non-null  datetime64[ns]\n",
      " 8   drug_type          18087 non-null  object        \n",
      " 9   drug               18087 non-null  object        \n",
      " 10  formulary_drug_cd  18075 non-null  object        \n",
      " 11  gsn                15568 non-null  object        \n",
      " 12  ndc                18066 non-null  float64       \n",
      " 13  prod_strength      18078 non-null  object        \n",
      " 14  dose_val_rx        18078 non-null  object        \n",
      " 15  dose_unit_rx       18078 non-null  object        \n",
      " 16  form_val_disp      18078 non-null  object        \n",
      " 17  form_unit_disp     18078 non-null  object        \n",
      " 18  doses_per_24_hrs   18087 non-null  float64       \n",
      " 19  route              18081 non-null  object        \n",
      "dtypes: datetime64[ns](2), float64(3), int64(3), object(12)\n",
      "memory usage: 2.8+ MB\n"
     ]
    },
    {
     "data": {
      "text/plain": [
       "(None,\n",
       "    subject_id   hadm_id  pharmacy_id   poe_id  poe_seq order_provider_id  \\\n",
       " 0    10027602  28166872     27168639  Unknown      0.0           Unknown   \n",
       " 1    10027602  28166872     40720238  Unknown      0.0           Unknown   \n",
       " 2    10027602  28166872     62845687  Unknown      0.0           Unknown   \n",
       " 3    10027602  28166872     24340150  Unknown      0.0           Unknown   \n",
       " 4    10027602  28166872     14435820  Unknown      0.0           Unknown   \n",
       " \n",
       "             starttime stoptime drug_type              drug formulary_drug_cd  \\\n",
       " 0 2201-10-30 12:00:00      NaT      MAIN  Fentanyl Citrate            FENT2I   \n",
       " 1 2201-10-30 12:00:00      NaT      MAIN  Fentanyl Citrate            FENT2I   \n",
       " 2 2201-10-31 12:00:00      NaT      MAIN         Lorazepam            LORA2I   \n",
       " 3 2201-10-30 12:00:00      NaT      MAIN         Midazolam            MIDA2I   \n",
       " 4 2201-10-30 12:00:00      NaT      MAIN         Midazolam            MIDA2I   \n",
       " \n",
       "    gsn  ndc prod_strength dose_val_rx dose_unit_rx form_val_disp  \\\n",
       " 0  NaN  NaN           NaN         NaN          NaN           NaN   \n",
       " 1  NaN  NaN           NaN         NaN          NaN           NaN   \n",
       " 2  NaN  NaN           NaN         NaN          NaN           NaN   \n",
       " 3  NaN  NaN           NaN         NaN          NaN           NaN   \n",
       " 4  NaN  NaN           NaN         NaN          NaN           NaN   \n",
       " \n",
       "   form_unit_disp  doses_per_24_hrs route  \n",
       " 0            NaN               1.0   NaN  \n",
       " 1            NaN               1.0   NaN  \n",
       " 2            NaN               1.0   NaN  \n",
       " 3            NaN               1.0   NaN  \n",
       " 4            NaN               1.0   NaN  )"
      ]
     },
     "execution_count": 7,
     "metadata": {},
     "output_type": "execute_result"
    }
   ],
   "source": [
    "data.info(), data.head()"
   ]
  },
  {
   "cell_type": "code",
   "execution_count": 8,
   "id": "93b27841",
   "metadata": {},
   "outputs": [
    {
     "name": "stdout",
     "output_type": "stream",
     "text": [
      "Total columns: 20\n",
      "Total rows: 18087\n",
      "-------------\n",
      "subject_id              0\n",
      "hadm_id                 0\n",
      "pharmacy_id             0\n",
      "poe_id                  0\n",
      "poe_seq                 0\n",
      "order_provider_id       0\n",
      "starttime               0\n",
      "stoptime               14\n",
      "drug_type               0\n",
      "drug                    0\n",
      "formulary_drug_cd      12\n",
      "gsn                  2519\n",
      "ndc                    21\n",
      "prod_strength           9\n",
      "dose_val_rx             9\n",
      "dose_unit_rx            9\n",
      "form_val_disp           9\n",
      "form_unit_disp          9\n",
      "doses_per_24_hrs        0\n",
      "route                   6\n",
      "dtype: int64\n"
     ]
    }
   ],
   "source": [
   
    "null_values = data.isnull().sum()\n",
    "\n",

    "total_columns = data.shape[1]\n",
    "total_rows = data.shape[0]\n",
    "print(f\"Total columns: {total_columns}\")\n",
    "print(f\"Total rows: {total_rows}\")\n",
    "print(\"-------------\")\n",
    "\n",
    "# Display the null values in each column\n",
    "print(null_values)\n"
   ]
  },
  {
   "cell_type": "code",
   "execution_count": 9,
   "id": "35389264",
   "metadata": {},
   "outputs": [],
   "source": [
    "from sdv.metadata import SingleTableMetadata\n",
    "from sdv.single_table import CTGANSynthesizer\n",
    "import time"
   ]
  },
  {
   "cell_type": "code",
   "execution_count": 10,
   "id": "236d9ce1",
   "metadata": {},
   "outputs": [],
   "source": [
    "df_data = data.head(2000)\n"
   ]
  },
  {
   "cell_type": "code",
   "execution_count": 11,
   "id": "bacfa8bf",
   "metadata": {},
   "outputs": [],
   "source": [

    "metadata = SingleTableMetadata()\n",
    "metadata.detect_from_dataframe(data=df_data)\n"
   ]
  },
  {
   "cell_type": "code",
   "execution_count": 12,
   "id": "5917543a",
   "metadata": {},
   "outputs": [
    {
     "name": "stdout",
     "output_type": "stream",
     "text": [
      "Training time: 1654.0911722183228 seconds\n"
     ]
    }
   ],
   "source": [
 
    "custom_synthesizer = CTGANSynthesizer(metadata, epochs=1000)\n",
    "\n",

    "start_time = time.time()\n",
    "\n",
    "# Training the synthesizer on the real data\n",
    "custom_synthesizer.fit(df_data)\n",
    "\n",
   
    "end_time = time.time()\n",
    "\n",
  
    "elapsed_time = end_time - start_time\n",
    "print(f\"Training time: {elapsed_time} seconds\")\n",
    "\n"
   ]
  },
  {
   "cell_type": "code",
   "execution_count": 13,
   "id": "219cf3f4",
   "metadata": {},
   "outputs": [
    {
     "name": "stdout",
     "output_type": "stream",
     "text": [
      "   subject_id   hadm_id  pharmacy_id         poe_id  poe_seq  \\\n",
      "0    10015338  25853702     49857517  sdv-pii-fnwyq    577.0   \n",
      "1    10020568  27198653     25281963  sdv-pii-38eyu    116.0   \n",
      "2    10037360  27838579     13809890  sdv-pii-l5fxh    202.0   \n",
      "3    10026705  23180943     23076466  sdv-pii-y3pi7    462.0   \n",
      "4    10021028  29732658     27750829  sdv-pii-dtqnh    108.0   \n",
      "\n",
      "  order_provider_id           starttime            stoptime drug_type  \\\n",
      "0     sdv-pii-0xi01 2149-11-14 14:37:52 2120-12-02 18:10:13      MAIN   \n",
      "1     sdv-pii-3egq9 2152-01-09 16:47:23 2187-06-07 03:07:18      MAIN   \n",
      "2     sdv-pii-2rih0 2154-09-15 09:00:32 2148-08-17 00:35:34      MAIN   \n",
      "3     sdv-pii-okm0a 2146-11-05 05:47:59 2150-11-29 20:08:47      MAIN   \n",
      "4     sdv-pii-87skc 2188-04-30 20:50:42 2151-02-10 18:05:24      MAIN   \n",
      "\n",
      "                                           drug formulary_drug_cd  \\\n",
      "0                            Losartan Potassium            CLOP75   \n",
      "1                  Clonidine Patch 0.2 mg/24 hr             WARF0   \n",
      "2                                 Multivitamins            ATEN50   \n",
      "3                                     BusPIRone               NaN   \n",
      "4  Insulin Pump (Self Administering Medication)          INSUPUMP   \n",
      "\n",
      "                                                 gsn           ndc  \\\n",
      "0                                             003757  5.467603e+10   \n",
      "1                                             001226  8.362392e+08   \n",
      "2                                             004376  6.537139e+10   \n",
      "3                                             000393  5.335778e+10   \n",
      "4  027413 001723 029916 016311 001750 001740 0163...  2.196045e+10   \n",
      "\n",
      "      prod_strength dose_val_rx dose_unit_rx form_val_disp form_unit_disp  \\\n",
      "0      325mg Tablet           5           mg             1            TAB   \n",
      "1  0.25 mcg Capsule        1000          CAP             1            CAP   \n",
      "2        2mg Tablet         250           mg             1            TAB   \n",
      "3       80mg Tablet          20           mg             1            TAB   \n",
      "4               NaN         NaN          NaN           NaN            NaN   \n",
      "\n",
      "   doses_per_24_hrs  route  \n",
      "0               1.0  PO/NG  \n",
      "1               1.0  PO/NG  \n",
      "2               1.0     PO  \n",
      "3               1.0     PO  \n",
      "4               1.0     SC  \n"
     ]
    }
   ],
   "source": [
    "# Generating synthetic data\n",
    "synthetic_data = custom_synthesizer.sample(1000)  # Generate 1000 rows of synthetic data\n",
    "\n",
    "# Displaying the first few rows of synthetic data\n",
    "print(synthetic_data.head())"
   ]
  },
  {
   "cell_type": "code",
   "execution_count": 14,
   "id": "868342e9",
   "metadata": {},
   "outputs": [],
   "source": [
 
    "synthetic_data['subject_id'] = range(400000, 400000 + len(synthetic_data))\n",
    "synthetic_data['hadm_id'] = synthetic_data['subject_id'].apply(lambda x: f\"{x}{str(synthetic_data.index.get_loc(synthetic_data.index[synthetic_data['subject_id'] == x][0])).zfill(2)}\")\n",
    "\n"
   ]
  },
  {
   "cell_type": "code",
   "execution_count": 26,
   "id": "f391d3da",
   "metadata": {},
   "outputs": [
    {
     "name": "stdout",
     "output_type": "stream",
     "text": [
      "Synthetic data generated, updated, and saved successfully.\n"
     ]
    }
   ],
   "source": [
    "synthetic_data.to_csv('synthetic_prescription.csv', index=False)\n",
    "\n",
    "print(\"Synthetic data generated, updated, and saved successfully.\")"
   ]
  },
  {
   "cell_type": "code",
   "execution_count": 16,
   "id": "d562dca1",
   "metadata": {},
   "outputs": [
    {
     "name": "stdout",
     "output_type": "stream",
     "text": [
      "Total columns: 20\n",
      "Total rows: 1000\n",
      "-------------\n",
      "subject_id             0\n",
      "hadm_id                0\n",
      "pharmacy_id            0\n",
      "poe_id                 0\n",
      "poe_seq                0\n",
      "order_provider_id      0\n",
      "starttime              0\n",
      "stoptime               6\n",
      "drug_type              0\n",
      "drug                   0\n",
      "formulary_drug_cd      5\n",
      "gsn                  144\n",
      "ndc                    8\n",
      "prod_strength         36\n",
      "dose_val_rx           34\n",
      "dose_unit_rx          30\n",
      "form_val_disp         36\n",
      "form_unit_disp        35\n",
      "doses_per_24_hrs       0\n",
      "route                 21\n",
      "dtype: int64\n"
     ]
    }
   ],
   "source": [

    "null_values = synthetic_data.isnull().sum()\n",
    "\n",
 
    "total_columns = synthetic_data.shape[1]\n",
    "total_rows = synthetic_data.shape[0]\n",
    "print(f\"Total columns: {total_columns}\")\n",
    "print(f\"Total rows: {total_rows}\")\n",
    "print(\"-------------\")\n",
    "\n",
   
    "print(null_values)\n"
   ]
  },
  {
   "cell_type": "code",
   "execution_count": 20,
   "id": "857da798",
   "metadata": {},
   "outputs": [
    {
     "name": "stdout",
     "output_type": "stream",
     "text": [
      "Generating report ...\n",
      "\n",
      "(1/2) Evaluating Data Validity: |████████████████████████████████████████████████████| 20/20 [00:00<00:00, 404.72it/s]|\n",
      "Data Validity Score: 94.12%\n",
      "\n",
      "(2/2) Evaluating Data Structure: |█████████████████████████████████████████████████████| 1/1 [00:00<00:00, 322.64it/s]|\n",
      "Data Structure Score: 100.0%\n",
      "\n",
      "Overall Score (Average): 97.06%\n",
      "\n"
     ]
    }
   ],
   "source": [
    "from sdv.evaluation.single_table import run_diagnostic\n",
    "\n",
    "diagnostic = run_diagnostic(\n",
    "    real_data=data,\n",
    "    synthetic_data=synthetic_data,\n",
    "    metadata=metadata\n",
    ")\n"
   ]
  },
  {
   "cell_type": "code",
   "execution_count": 21,
   "id": "2fd1de8a",
   "metadata": {},
   "outputs": [
    {
     "name": "stdout",
     "output_type": "stream",
     "text": [
      "Generating report ...\n",
      "\n",
      "(1/2) Evaluating Column Shapes: |████████████████████████████████████████████████████| 20/20 [00:00<00:00, 136.44it/s]|\n",
      "Column Shapes Score: 57.83%\n",
      "\n",
      "(2/2) Evaluating Column Pair Trends: |██████████████████████████████████████████████| 190/190 [00:33<00:00,  5.62it/s]|\n",
      "Column Pair Trends Score: 43.63%\n",
      "\n",
      "Overall Score (Average): 50.73%\n",
      "\n"
     ]
    }
   ],
   "source": [
    "from sdv.evaluation.single_table import evaluate_quality\n",
    "\n",
    "quality_report = evaluate_quality(\n",
    "    data,\n",
    "    synthetic_data,\n",
    "    metadata\n",
    ")"
   ]
  },
  {
   "cell_type": "code",
   "execution_count": 22,
   "id": "43e36e0e",
   "metadata": {},
   "outputs": [
    {
     "data": {
      "text/html": [
       "<div>\n",
       "<style scoped>\n",
       "    .dataframe tbody tr th:only-of-type {\n",
       "        vertical-align: middle;\n",
       "    }\n",
       "\n",
       "    .dataframe tbody tr th {\n",
       "        vertical-align: top;\n",
       "    }\n",
       "\n",
       "    .dataframe thead th {\n",
       "        text-align: right;\n",
       "    }\n",
       "</style>\n",
       "<table border=\"1\" class=\"dataframe\">\n",
       "  <thead>\n",
       "    <tr style=\"text-align: right;\">\n",
       "      <th></th>\n",
       "      <th>Column</th>\n",
       "      <th>Metric</th>\n",
       "      <th>Score</th>\n",
       "      <th>Error</th>\n",
       "    </tr>\n",
       "  </thead>\n",
       "  <tbody>\n",
       "    <tr>\n",
       "      <th>0</th>\n",
       "      <td>subject_id</td>\n",
       "      <td>KSComplement</td>\n",
       "      <td>0.000000</td>\n",
       "      <td>None</td>\n",
       "    </tr>\n",
       "    <tr>\n",
       "      <th>1</th>\n",
       "      <td>hadm_id</td>\n",
       "      <td>KSComplement</td>\n",
       "      <td>NaN</td>\n",
       "      <td>TypeError: '&lt;' not supported between instances...</td>\n",
       "    </tr>\n",
       "    <tr>\n",
       "      <th>2</th>\n",
       "      <td>pharmacy_id</td>\n",
       "      <td>KSComplement</td>\n",
       "      <td>0.805124</td>\n",
       "      <td>None</td>\n",
       "    </tr>\n",
       "    <tr>\n",
       "      <th>3</th>\n",
       "      <td>poe_seq</td>\n",
       "      <td>KSComplement</td>\n",
       "      <td>0.937979</td>\n",
       "      <td>None</td>\n",
       "    </tr>\n",
       "    <tr>\n",
       "      <th>4</th>\n",
       "      <td>starttime</td>\n",
       "      <td>KSComplement</td>\n",
       "      <td>0.855818</td>\n",
       "      <td>None</td>\n",
       "    </tr>\n",
       "    <tr>\n",
       "      <th>5</th>\n",
       "      <td>stoptime</td>\n",
       "      <td>KSComplement</td>\n",
       "      <td>0.845656</td>\n",
       "      <td>None</td>\n",
       "    </tr>\n",
       "    <tr>\n",
       "      <th>6</th>\n",
       "      <td>drug_type</td>\n",
       "      <td>TVComplement</td>\n",
       "      <td>0.926654</td>\n",
       "      <td>None</td>\n",
       "    </tr>\n",
       "    <tr>\n",
       "      <th>7</th>\n",
       "      <td>drug</td>\n",
       "      <td>TVComplement</td>\n",
       "      <td>0.245343</td>\n",
       "      <td>None</td>\n",
       "    </tr>\n",
       "    <tr>\n",
       "      <th>8</th>\n",
       "      <td>formulary_drug_cd</td>\n",
       "      <td>TVComplement</td>\n",
       "      <td>0.175859</td>\n",
       "      <td>None</td>\n",
       "    </tr>\n",
       "    <tr>\n",
       "      <th>9</th>\n",
       "      <td>gsn</td>\n",
       "      <td>TVComplement</td>\n",
       "      <td>0.169410</td>\n",
       "      <td>None</td>\n",
       "    </tr>\n",
       "    <tr>\n",
       "      <th>10</th>\n",
       "      <td>ndc</td>\n",
       "      <td>KSComplement</td>\n",
       "      <td>0.681090</td>\n",
       "      <td>None</td>\n",
       "    </tr>\n",
       "    <tr>\n",
       "      <th>11</th>\n",
       "      <td>prod_strength</td>\n",
       "      <td>TVComplement</td>\n",
       "      <td>0.250446</td>\n",
       "      <td>None</td>\n",
       "    </tr>\n",
       "    <tr>\n",
       "      <th>12</th>\n",
       "      <td>dose_val_rx</td>\n",
       "      <td>TVComplement</td>\n",
       "      <td>0.447837</td>\n",
       "      <td>None</td>\n",
       "    </tr>\n",
       "    <tr>\n",
       "      <th>13</th>\n",
       "      <td>dose_unit_rx</td>\n",
       "      <td>TVComplement</td>\n",
       "      <td>0.704732</td>\n",
       "      <td>None</td>\n",
       "    </tr>\n",
       "    <tr>\n",
       "      <th>14</th>\n",
       "      <td>form_val_disp</td>\n",
       "      <td>TVComplement</td>\n",
       "      <td>0.520522</td>\n",
       "      <td>None</td>\n",
       "    </tr>\n",
       "    <tr>\n",
       "      <th>15</th>\n",
       "      <td>form_unit_disp</td>\n",
       "      <td>TVComplement</td>\n",
       "      <td>0.713748</td>\n",
       "      <td>None</td>\n",
       "    </tr>\n",
       "    <tr>\n",
       "      <th>16</th>\n",
       "      <td>doses_per_24_hrs</td>\n",
       "      <td>TVComplement</td>\n",
       "      <td>0.925400</td>\n",
       "      <td>None</td>\n",
       "    </tr>\n",
       "    <tr>\n",
       "      <th>17</th>\n",
       "      <td>route</td>\n",
       "      <td>TVComplement</td>\n",
       "      <td>0.626065</td>\n",
       "      <td>None</td>\n",
       "    </tr>\n",
       "  </tbody>\n",
       "</table>\n",
       "</div>"
      ],
      "text/plain": [
       "               Column        Metric     Score  \\\n",
       "0          subject_id  KSComplement  0.000000   \n",
       "1             hadm_id  KSComplement       NaN   \n",
       "2         pharmacy_id  KSComplement  0.805124   \n",
       "3             poe_seq  KSComplement  0.937979   \n",
       "4           starttime  KSComplement  0.855818   \n",
       "5            stoptime  KSComplement  0.845656   \n",
       "6           drug_type  TVComplement  0.926654   \n",
       "7                drug  TVComplement  0.245343   \n",
       "8   formulary_drug_cd  TVComplement  0.175859   \n",
       "9                 gsn  TVComplement  0.169410   \n",
       "10                ndc  KSComplement  0.681090   \n",
       "11      prod_strength  TVComplement  0.250446   \n",
       "12        dose_val_rx  TVComplement  0.447837   \n",
       "13       dose_unit_rx  TVComplement  0.704732   \n",
       "14      form_val_disp  TVComplement  0.520522   \n",
       "15     form_unit_disp  TVComplement  0.713748   \n",
       "16   doses_per_24_hrs  TVComplement  0.925400   \n",
       "17              route  TVComplement  0.626065   \n",
       "\n",
       "                                                Error  \n",
       "0                                                None  \n",
       "1   TypeError: '<' not supported between instances...  \n",
       "2                                                None  \n",
       "3                                                None  \n",
       "4                                                None  \n",
       "5                                                None  \n",
       "6                                                None  \n",
       "7                                                None  \n",
       "8                                                None  \n",
       "9                                                None  \n",
       "10                                               None  \n",
       "11                                               None  \n",
       "12                                               None  \n",
       "13                                               None  \n",
       "14                                               None  \n",
       "15                                               None  \n",
       "16                                               None  \n",
       "17                                               None  "
      ]
     },
     "execution_count": 22,
     "metadata": {},
     "output_type": "execute_result"
    }
   ],
   "source": [
    "quality_report.get_details('Column Shapes')"
   ]
  },
  {
   "cell_type": "code",
   "execution_count": 24,
   "id": "27777d48",
   "metadata": {},
   "outputs": [
    {
     "data": {
      "text/html": [
       "<iframe\n",
       "    scrolling=\"no\"\n",
       "    width=\"100%\"\n",
       "    height=\"545px\"\n",
       "    src=\"iframe_figures/figure_24.html\"\n",
       "    frameborder=\"0\"\n",
       "    allowfullscreen\n",
       "></iframe>\n"
      ]
     },
     "metadata": {},
     "output_type": "display_data"
    }
   ],
   "source": [
    "from sdv.evaluation.single_table import get_column_plot\n",
    "\n",
    "fig = get_column_plot(\n",
    "    real_data=data,\n",
    "    synthetic_data=synthetic_data,\n",
    "    column_name='drug',\n",
    "    metadata=metadata\n",
    ")\n",
    "\n",
    "fig.show()"
   ]
  },
  {
   "cell_type": "code",
   "execution_count": 25,
   "id": "87296f01",
   "metadata": {},
   "outputs": [
    {
     "name": "stdout",
     "output_type": "stream",
     "text": [
      "subject_id meets the threshold with a score of 0.00e+00.\n",
      "hadm_id does not have a valid score. Error: TypeError: '<' not supported between instances\n",
      "pharmacy_id meets the threshold with a score of 8.05e-01.\n",
      "poe_seq meets the threshold with a score of 9.38e-01.\n",
      "starttime meets the threshold with a score of 8.56e-01.\n",
      "stoptime meets the threshold with a score of 8.46e-01.\n",
      "drug_type meets the threshold with a score of 9.27e-01.\n",
      "drug does not meet the threshold. Score: 2.45e-01, Threshold: 7.00e-01\n",
      "formulary_drug_cd does not meet the threshold. Score: 1.76e-01, Threshold: 7.00e-01\n",
      "gsn does not meet the threshold. Score: 1.69e-01, Threshold: 7.00e-01\n",
      "ndc does not meet the threshold. Score: 6.81e-01, Threshold: 7.00e-01\n",
      "prod_strength does not meet the threshold. Score: 2.50e-01, Threshold: 7.00e-01\n",
      "dose_val_rx does not meet the threshold. Score: 4.48e-01, Threshold: 7.00e-01\n",
      "dose_unit_rx meets the threshold with a score of 7.05e-01.\n",
      "form_val_disp does not meet the threshold. Score: 5.21e-01, Threshold: 7.00e-01\n",
      "form_unit_disp meets the threshold with a score of 7.14e-01.\n",
      "doses_per_24_hrs meets the threshold with a score of 9.25e-01.\n",
      "route does not meet the threshold. Score: 6.26e-01, Threshold: 7.00e-01\n"
     ]
    }
   ],
   "source": [
    "import pandas as pd\n",
    "\n",
    "# Loading the new provided data\n",
    "data = [\n",
    "    {'Column': 'subject_id', 'Metric': 'KSComplement', 'Score': 0.0, 'Error': None},\n",
    "    {'Column': 'hadm_id', 'Metric': 'KSComplement', 'Score': None, 'Error': \"TypeError: '<' not supported between instances\"},\n",
    "    {'Column': 'pharmacy_id', 'Metric': 'KSComplement', 'Score': 0.805124, 'Error': None},\n",
    "    {'Column': 'poe_seq', 'Metric': 'KSComplement', 'Score': 0.937979, 'Error': None},\n",
    "    {'Column': 'starttime', 'Metric': 'KSComplement', 'Score': 0.855818, 'Error': None},\n",
    "    {'Column': 'stoptime', 'Metric': 'KSComplement', 'Score': 0.845656, 'Error': None},\n",
    "    {'Column': 'drug_type', 'Metric': 'TVComplement', 'Score': 0.926654, 'Error': None},\n",
    "    {'Column': 'drug', 'Metric': 'TVComplement', 'Score': 0.245343, 'Error': None},\n",
    "    {'Column': 'formulary_drug_cd', 'Metric': 'TVComplement', 'Score': 0.175859, 'Error': None},\n",
    "    {'Column': 'gsn', 'Metric': 'TVComplement', 'Score': 0.169410, 'Error': None},\n",
    "    {'Column': 'ndc', 'Metric': 'KSComplement', 'Score': 0.681090, 'Error': None},\n",
    "    {'Column': 'prod_strength', 'Metric': 'TVComplement', 'Score': 0.250446, 'Error': None},\n",
    "    {'Column': 'dose_val_rx', 'Metric': 'TVComplement', 'Score': 0.447837, 'Error': None},\n",
    "    {'Column': 'dose_unit_rx', 'Metric': 'TVComplement', 'Score': 0.704732, 'Error': None},\n",
    "    {'Column': 'form_val_disp', 'Metric': 'TVComplement', 'Score': 0.520522, 'Error': None},\n",
    "    {'Column': 'form_unit_disp', 'Metric': 'TVComplement', 'Score': 0.713748, 'Error': None},\n",
    "    {'Column': 'doses_per_24_hrs', 'Metric': 'TVComplement', 'Score': 0.925400, 'Error': None},\n",
    "    {'Column': 'route', 'Metric': 'TVComplement', 'Score': 0.626065, 'Error': None}\n",
    "]\n",
    "\n",

    "df = pd.DataFrame(data)\n",
    "\n",
 
    "thresholds = {\n",
    "    'KSComplement': 0.7,\n",
    "    'TVComplement': 0.7,\n",
    "    'critical_columns': {\n",
    "        'admittime': 0.8,\n",
    "        'dischtime': 0.8,\n",
    "        'admission_type': 0.9,\n",
    "        'admission_location': 0.9,\n",
    "        'discharge_location': 0.9,\n",
    "        'insurance': 0.9,\n",
    "        'marital_status': 0.9,\n",
    "    },\n",
    "    'non_critical_columns': {\n",
    "        'subject_id': 0.0,\n",
    "        'language': 0.0,\n",
    "        'race': 0.0,\n",
    "        'edregtime': 0.7,\n",
    "        'edouttime': 0.7,\n",
    "    }\n",
    "}\n",
    "\n",

    "def check_thresholds(df, thresholds):\n",
    "    results = []\n",
    "    for _, row in df.iterrows():\n",
    "        column_name = row['Column']\n",
    "        metric = row['Metric']\n",
    "        score = row['Score']\n",
    "\n",
    "        if column_name in thresholds['critical_columns']:\n",
    "            threshold = thresholds['critical_columns'][column_name]\n",
    "        else:\n",
    "            threshold = thresholds['non_critical_columns'].get(column_name, thresholds.get(metric, 0))\n",
    "\n",
    "        if pd.isna(score):\n",
    "            results.append(f\"{column_name} does not have a valid score. Error: {row['Error']}\")\n",
    "        elif score >= threshold:\n",
    "            results.append(f\"{column_name} meets the threshold with a score of {score:.2e}.\")\n",
    "        else:\n",
    "            results.append(f\"{column_name} does not meet the threshold. Score: {score:.2e}, Threshold: {threshold:.2e}\")\n",
    "    \n",
    "    return results\n",
    "\n",
 
    "results = check_thresholds(df, thresholds)\n",
    "\n",
  
    "for result in results:\n",
    "    print(result)\n"
   ]
  },
  {
   "cell_type": "code",
   "execution_count": null,
   "id": "f9ba138a",
   "metadata": {},
   "outputs": [],
   "source": []
  }
 ],
 "metadata": {
  "kernelspec": {
   "display_name": "Python 3 (ipykernel)",
   "language": "python",
   "name": "python3"
  },
  "language_info": {
   "codemirror_mode": {
    "name": "ipython",
    "version": 3
   },
   "file_extension": ".py",
   "mimetype": "text/x-python",
   "name": "python",
   "nbconvert_exporter": "python",
   "pygments_lexer": "ipython3",
   "version": "3.11.5"
  }
 },
 "nbformat": 4,
 "nbformat_minor": 5
}
