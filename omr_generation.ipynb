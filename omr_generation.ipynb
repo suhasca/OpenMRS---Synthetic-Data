{
 "cells": [
  {
   "cell_type": "code",
   "execution_count": 1,
   "id": "1b669047",
   "metadata": {},
   "outputs": [
    {
     "name": "stdout",
     "output_type": "stream",
     "text": [
      "   subject_id  BMI BMI (kg/m2) Blood Pressure Blood Pressure Lying  \\\n",
      "0    10000032  NaN        18.2          98/66                  NaN   \n",
      "1    10000084  NaN        24.4            NaN                  NaN   \n",
      "2    10000117  NaN        18.9         108/74                  NaN   \n",
      "3    10000248  NaN        25.5            NaN                  NaN   \n",
      "4    10000280  NaN         NaN         125/77                  NaN   \n",
      "\n",
      "  Blood Pressure Sitting Blood Pressure Standing  \\\n",
      "0                    NaN                     NaN   \n",
      "1                    NaN                     NaN   \n",
      "2                    NaN                     NaN   \n",
      "3                    NaN                     NaN   \n",
      "4                    NaN                     NaN   \n",
      "\n",
      "  Blood Pressure Standing (1 min) Blood Pressure Standing (3 mins) Height  \\\n",
      "0                             NaN                              NaN    NaN   \n",
      "1                             NaN                              NaN    NaN   \n",
      "2                             NaN                              NaN    NaN   \n",
      "3                             NaN                              NaN    NaN   \n",
      "4                             NaN                              NaN    NaN   \n",
      "\n",
      "  Height (Inches) Weight Weight (Lbs) eGFR  \n",
      "0              60    NaN        93.03  NaN  \n",
      "1              70    NaN          170  NaN  \n",
      "2              64    NaN          110  NaN  \n",
      "3              68    NaN       168.00  NaN  \n",
      "4             NaN    NaN        170.5  NaN  \n"
     ]
    }
   ],
   "source": [
    "import pandas as pd\n",
    "\n",
    "# Load the CSV file\n",
    "file_path = r\"D:\\coursework\\Main Project\\mimic-iv-2.2\\mimic-iv-2.2\\omr.csv\"\n",
    "df = pd.read_csv(file_path)\n",
    "\n",
    "# Pivot the DataFrame ensuring that we take the latest entry in case of multiple values for the same subject and measurement\n",
    "pivot_df_latest = df.pivot_table(index='subject_id', columns='result_name', values='result_value', aggfunc='last').reset_index()\n",
    "\n",
    "# Rename columns for clarity\n",
    "pivot_df_latest.columns.name = None\n",
    "pivot_df_latest.columns = ['subject_id'] + list(pivot_df_latest.columns[1:])\n",
    "\n",
    "# Display the transformed DataFrame\n",
    "print(pivot_df_latest.head())"
   ]
  },
  {
   "cell_type": "code",
   "execution_count": 2,
   "id": "93fbc0f7",
   "metadata": {},
   "outputs": [],
   "source": [
    "# Optionally, save the transformed DataFrame to a new CSV file\n",
    "pivot_df_latest.to_csv(r'C:\\Users\\Lenovo\\OneDrive - University of Leeds\\Final Code\\transformed_omr_full_data.csv', index=False)\n"
   ]
  },
  {
   "cell_type": "code",
   "execution_count": 3,
   "id": "3ad35e9a",
   "metadata": {},
   "outputs": [
    {
     "name": "stdout",
     "output_type": "stream",
     "text": [
      "   subject_id  BMI (kg/m2) Blood Pressure  Height (Inches)  Weight (Lbs)\n",
      "0    10000032         18.2          98/66             60.0         93.03\n",
      "1    10000084         24.4            NaN             70.0        170.00\n",
      "2    10000117         18.9         108/74             64.0        110.00\n",
      "3    10000248         25.5            NaN             68.0        168.00\n",
      "4    10000280          NaN         125/77              NaN        170.50\n"
     ]
    }
   ],
   "source": [
    "import pandas as pd\n",
    "\n",
    "# Load the data from the provided CSV file\n",
    "file_path = r'C:\\Users\\Lenovo\\OneDrive - University of Leeds\\Final Code\\transformed_omr_full_data.csv'\n",
    "data = pd.read_csv(file_path)\n",
    "\n",
    "# Drop the specified columns\n",
    "columns_to_drop = ['BMI', 'Blood Pressure Lying', 'Blood Pressure Sitting', 'Blood Pressure Standing','Blood Pressure Standing (1 min)','Blood Pressure Standing (3 mins)','Height','Weight','eGFR']\n",
    "data_cleaned = data.drop(columns=columns_to_drop)\n",
    "\n",
    "# Save the cleaned data to a new CSV file\n",
    "cleaned_file_path = r'C:\\Users\\Lenovo\\OneDrive - University of Leeds\\Final Code\\cleaned_transformed_omr_full_data.csv'\n",
    "data_cleaned.to_csv(cleaned_file_path, index=False)\n",
    "\n",
    "# Display the first few rows of the cleaned data to verify the changes\n",
    "print(data_cleaned.head())\n"
   ]
  },
  {
   "cell_type": "code",
   "execution_count": 4,
   "id": "d8c68923",
   "metadata": {},
   "outputs": [
    {
     "data": {
      "text/html": [
       "<div>\n",
       "<style scoped>\n",
       "    .dataframe tbody tr th:only-of-type {\n",
       "        vertical-align: middle;\n",
       "    }\n",
       "\n",
       "    .dataframe tbody tr th {\n",
       "        vertical-align: top;\n",
       "    }\n",
       "\n",
       "    .dataframe thead th {\n",
       "        text-align: right;\n",
       "    }\n",
       "</style>\n",
       "<table border=\"1\" class=\"dataframe\">\n",
       "  <thead>\n",
       "    <tr style=\"text-align: right;\">\n",
       "      <th></th>\n",
       "      <th>subject_id</th>\n",
       "      <th>BMI (kg/m2)</th>\n",
       "      <th>Blood Pressure</th>\n",
       "      <th>Height (Inches)</th>\n",
       "      <th>Weight (Lbs)</th>\n",
       "      <th>Weight (Kg)</th>\n",
       "      <th>Height (Cm)</th>\n",
       "    </tr>\n",
       "  </thead>\n",
       "  <tbody>\n",
       "    <tr>\n",
       "      <th>0</th>\n",
       "      <td>10000032</td>\n",
       "      <td>18.2</td>\n",
       "      <td>98/66</td>\n",
       "      <td>60.0</td>\n",
       "      <td>93.03</td>\n",
       "      <td>42.20</td>\n",
       "      <td>152.40</td>\n",
       "    </tr>\n",
       "    <tr>\n",
       "      <th>1</th>\n",
       "      <td>10000084</td>\n",
       "      <td>24.4</td>\n",
       "      <td>NaN</td>\n",
       "      <td>70.0</td>\n",
       "      <td>170.00</td>\n",
       "      <td>77.11</td>\n",
       "      <td>177.80</td>\n",
       "    </tr>\n",
       "    <tr>\n",
       "      <th>2</th>\n",
       "      <td>10000117</td>\n",
       "      <td>18.9</td>\n",
       "      <td>108/74</td>\n",
       "      <td>64.0</td>\n",
       "      <td>110.00</td>\n",
       "      <td>49.90</td>\n",
       "      <td>162.56</td>\n",
       "    </tr>\n",
       "    <tr>\n",
       "      <th>3</th>\n",
       "      <td>10000248</td>\n",
       "      <td>25.5</td>\n",
       "      <td>NaN</td>\n",
       "      <td>68.0</td>\n",
       "      <td>168.00</td>\n",
       "      <td>76.20</td>\n",
       "      <td>172.72</td>\n",
       "    </tr>\n",
       "    <tr>\n",
       "      <th>4</th>\n",
       "      <td>10000280</td>\n",
       "      <td>NaN</td>\n",
       "      <td>125/77</td>\n",
       "      <td>NaN</td>\n",
       "      <td>170.50</td>\n",
       "      <td>77.34</td>\n",
       "      <td>NaN</td>\n",
       "    </tr>\n",
       "  </tbody>\n",
       "</table>\n",
       "</div>"
      ],
      "text/plain": [
       "   subject_id  BMI (kg/m2) Blood Pressure  Height (Inches)  Weight (Lbs)  \\\n",
       "0    10000032         18.2          98/66             60.0         93.03   \n",
       "1    10000084         24.4            NaN             70.0        170.00   \n",
       "2    10000117         18.9         108/74             64.0        110.00   \n",
       "3    10000248         25.5            NaN             68.0        168.00   \n",
       "4    10000280          NaN         125/77              NaN        170.50   \n",
       "\n",
       "   Weight (Kg)  Height (Cm)  \n",
       "0        42.20       152.40  \n",
       "1        77.11       177.80  \n",
       "2        49.90       162.56  \n",
       "3        76.20       172.72  \n",
       "4        77.34          NaN  "
      ]
     },
     "execution_count": 4,
     "metadata": {},
     "output_type": "execute_result"
    }
   ],
   "source": [
    "# Load the dataset\n",
    "file_path = r'C:\\Users\\Lenovo\\OneDrive - University of Leeds\\Final Code\\cleaned_transformed_omr_full_data.csv'\n",
    "df = pd.read_csv(file_path)\n",
    "\n",
    "# Convert weight from Lbs to Kg and height from Inches to Cms, rounding to 2 decimal places\n",
    "df['Weight (Kg)'] = (df['Weight (Lbs)'] * 0.453592).round(2)\n",
    "df['Height (Cm)'] = (df['Height (Inches)'] * 2.54).round(2)\n",
    "\n",
    "# Save the updated dataframe to the same CSV file\n",
    "df.to_csv(file_path, index=False)\n",
    "\n",
    "# Display the first few rows of the updated dataframe\n",
    "df.head()\n"
   ]
  },
  {
   "cell_type": "code",
   "execution_count": 5,
   "id": "a1ea0488",
   "metadata": {},
   "outputs": [],
   "source": [
    "columns_to_drop = ['Height (Inches)','Weight (Lbs)']\n",
    "df = df.drop(columns=columns_to_drop)\n",
    "\n",
    "df.to_csv(file_path, index=False)"
   ]
  },
  {
   "cell_type": "code",
   "execution_count": 6,
   "id": "66303fdd",
   "metadata": {},
   "outputs": [
    {
     "data": {
      "text/html": [
       "<div>\n",
       "<style scoped>\n",
       "    .dataframe tbody tr th:only-of-type {\n",
       "        vertical-align: middle;\n",
       "    }\n",
       "\n",
       "    .dataframe tbody tr th {\n",
       "        vertical-align: top;\n",
       "    }\n",
       "\n",
       "    .dataframe thead th {\n",
       "        text-align: right;\n",
       "    }\n",
       "</style>\n",
       "<table border=\"1\" class=\"dataframe\">\n",
       "  <thead>\n",
       "    <tr style=\"text-align: right;\">\n",
       "      <th></th>\n",
       "      <th>subject_id</th>\n",
       "      <th>BMI (kg/m2)</th>\n",
       "      <th>Blood Pressure</th>\n",
       "      <th>Weight (Kg)</th>\n",
       "      <th>Height (Cm)</th>\n",
       "    </tr>\n",
       "  </thead>\n",
       "  <tbody>\n",
       "    <tr>\n",
       "      <th>0</th>\n",
       "      <td>10000032</td>\n",
       "      <td>18.2</td>\n",
       "      <td>98/66</td>\n",
       "      <td>42.20</td>\n",
       "      <td>152.40</td>\n",
       "    </tr>\n",
       "    <tr>\n",
       "      <th>1</th>\n",
       "      <td>10000084</td>\n",
       "      <td>24.4</td>\n",
       "      <td>NaN</td>\n",
       "      <td>77.11</td>\n",
       "      <td>177.80</td>\n",
       "    </tr>\n",
       "    <tr>\n",
       "      <th>2</th>\n",
       "      <td>10000117</td>\n",
       "      <td>18.9</td>\n",
       "      <td>108/74</td>\n",
       "      <td>49.90</td>\n",
       "      <td>162.56</td>\n",
       "    </tr>\n",
       "    <tr>\n",
       "      <th>3</th>\n",
       "      <td>10000248</td>\n",
       "      <td>25.5</td>\n",
       "      <td>NaN</td>\n",
       "      <td>76.20</td>\n",
       "      <td>172.72</td>\n",
       "    </tr>\n",
       "    <tr>\n",
       "      <th>4</th>\n",
       "      <td>10000280</td>\n",
       "      <td>NaN</td>\n",
       "      <td>125/77</td>\n",
       "      <td>77.34</td>\n",
       "      <td>NaN</td>\n",
       "    </tr>\n",
       "  </tbody>\n",
       "</table>\n",
       "</div>"
      ],
      "text/plain": [
       "   subject_id  BMI (kg/m2) Blood Pressure  Weight (Kg)  Height (Cm)\n",
       "0    10000032         18.2          98/66        42.20       152.40\n",
       "1    10000084         24.4            NaN        77.11       177.80\n",
       "2    10000117         18.9         108/74        49.90       162.56\n",
       "3    10000248         25.5            NaN        76.20       172.72\n",
       "4    10000280          NaN         125/77        77.34          NaN"
      ]
     },
     "execution_count": 6,
     "metadata": {},
     "output_type": "execute_result"
    }
   ],
   "source": [
    "df.head()"
   ]
  },
  {
   "cell_type": "code",
   "execution_count": 7,
   "id": "321d7d79",
   "metadata": {},
   "outputs": [
    {
     "name": "stdout",
     "output_type": "stream",
     "text": [
      "subject_id            0\n",
      "BMI (kg/m2)       20680\n",
      "Blood Pressure    22722\n",
      "Weight (Kg)        8439\n",
      "Height (Cm)       25372\n",
      "dtype: int64\n"
     ]
    }
   ],
   "source": [
    "# Find missing values\n",
    "missing_values = df.isnull().sum()\n",
    "\n",
    "# Display missing values\n",
    "print(missing_values)"
   ]
  },
  {
   "cell_type": "code",
   "execution_count": 8,
   "id": "21b92ccd",
   "metadata": {},
   "outputs": [
    {
     "name": "stderr",
     "output_type": "stream",
     "text": [
      "C:\\Users\\Lenovo\\AppData\\Local\\Temp\\ipykernel_34724\\4016502772.py:13: FutureWarning: A value is trying to be set on a copy of a DataFrame or Series through chained assignment using an inplace method.\n",
      "The behavior will change in pandas 3.0. This inplace method will never work because the intermediate object on which we are setting values always behaves as a copy.\n",
      "\n",
      "For example, when doing 'df[col].method(value, inplace=True)', try using 'df.method({col: value}, inplace=True)' or df[col] = df[col].method(value) instead, to perform the operation inplace on the original object.\n",
      "\n",
      "\n",
      "  df[col].fillna(median_value, inplace=True)\n",
      "C:\\Users\\Lenovo\\AppData\\Local\\Temp\\ipykernel_34724\\4016502772.py:19: FutureWarning: A value is trying to be set on a copy of a DataFrame or Series through chained assignment using an inplace method.\n",
      "The behavior will change in pandas 3.0. This inplace method will never work because the intermediate object on which we are setting values always behaves as a copy.\n",
      "\n",
      "For example, when doing 'df[col].method(value, inplace=True)', try using 'df.method({col: value}, inplace=True)' or df[col] = df[col].method(value) instead, to perform the operation inplace on the original object.\n",
      "\n",
      "\n",
      "  df[col].fillna(mode_value, inplace=True)\n",
      "C:\\Users\\Lenovo\\anaconda3\\Lib\\site-packages\\sdv\\single_table\\base.py:92: UserWarning: We strongly recommend saving the metadata using 'save_to_json' for replicability in future SDV versions.\n",
      "  warnings.warn(\n"
     ]
    },
    {
     "name": "stdout",
     "output_type": "stream",
     "text": [
      "   subject_id  BMI (kg/m2) Blood Pressure  Weight (Kg)  Height (Cm)\n",
      "0   687749426        34.29         134/69        93.72       165.33\n",
      "1    29880573        30.33         110/66        77.83       160.18\n",
      "2    32829814        34.90         139/82        77.28       148.81\n",
      "3   809018963        35.79         104/70        77.40       147.06\n",
      "4   881725845        30.36         112/72        88.98       171.20\n"
     ]
    }
   ],
   "source": [
    "import pandas as pd\n",
    "from sdv.single_table import CTGANSynthesizer\n",
    "from sdv.metadata import SingleTableMetadata\n",
    "\n",
    "# Load the transformed data\n",
    "file_path = r'C:\\Users\\Lenovo\\OneDrive - University of Leeds\\Final Code\\cleaned_transformed_omr_full_data.csv'\n",
    "df = pd.read_csv(file_path)\n",
    "\n",
    "# Preprocess to handle null values - Imputation example using median for numerical columns\n",
    "numerical_columns = ['Weight (Kg)', 'Height (Cm)']  # Assuming BMI is to be recalculated and thus not imputed\n",
    "for col in numerical_columns:\n",
    "    median_value = df[col].median()\n",
    "    df[col].fillna(median_value, inplace=True)\n",
    "\n",
    "# Check and fill categorical data with the mode\n",
    "categorical_columns = ['Blood Pressure']\n",
    "for col in categorical_columns:\n",
    "    mode_value = df[col].mode()[0]\n",
    "    df[col].fillna(mode_value, inplace=True)\n",
    "\n",
    "# Slice the DataFrame to get only the first 1000 entries\n",
    "df_subset = df.head(1000)  # or df.iloc[:1000]\n",
    "\n",
    "# Define the metadata for the dataset, excluding 'BMI (kg/m2)' since it will be recalculated\n",
    "metadata = SingleTableMetadata()\n",
    "\n",
    "# Add columns to metadata\n",
    "metadata.add_column('subject_id', sdtype='id')\n",
    "metadata.add_column('BMI (kg/m2)', sdtype='numerical')\n",
    "metadata.add_column('Blood Pressure', sdtype='categorical')\n",
    "metadata.add_column('Weight (Kg)', sdtype='numerical')\n",
    "metadata.add_column('Height (Cm)', sdtype='numerical')\n",
    "\n",
    "# Initialize the CTGAN model\n",
    "ctgan = CTGANSynthesizer(metadata)\n",
    "\n",
    "# Train the model using only the subset of data\n",
    "ctgan.fit(df_subset)\n",
    "\n",
    "# Generate synthetic data\n",
    "synthetic_data = ctgan.sample(1000)  # Adjust the number of samples as needed\n",
    "\n",
    "# Post-generation: Calculate BMI\n",
    "synthetic_data['BMI (kg/m2)'] = (synthetic_data['Weight (Kg)'] / (synthetic_data['Height (Cm)'] / 100) ** 2).round(2)\n",
    "\n",
    "# Display the first few rows of the synthetic data\n",
    "print(synthetic_data.head())\n",
    "\n",
    "# Optionally, save the synthetic data to a new CSV file\n",
    "save_path = r'C:\\Users\\Lenovo\\OneDrive - University of Leeds\\Final Code\\synthetic_omr.csv'\n",
    "synthetic_data.to_csv(save_path, index=False)\n"
   ]
  },
  {
   "cell_type": "code",
   "execution_count": 9,
   "id": "ea343d24",
   "metadata": {},
   "outputs": [
    {
     "name": "stdout",
     "output_type": "stream",
     "text": [
      "   subject_id  BMI (kg/m2) Blood Pressure  Weight (Kg)  Height (Cm)\n",
      "0   687749426        34.29         106/74        93.72       165.33\n",
      "1    29880573        30.33          92/79        77.83       160.18\n",
      "2    32829814        34.90         118/60        77.28       148.81\n",
      "3   809018963        35.79         126/88        77.40       147.06\n",
      "4   881725845        30.36         134/88        88.98       171.20\n",
      "Updated synthetic data saved successfully in the same file.\n"
     ]
    }
   ],
   "source": [
    "import pandas as pd\n",
    "import random\n",
    "\n",
    "# Load the synthetic data\n",
    "file_path = r'C:\\Users\\Lenovo\\OneDrive - University of Leeds\\Final Code\\synthetic_omr.csv'\n",
    "synthetic_data = pd.read_csv(file_path)\n",
    "\n",
    "def assign_blood_pressure(row):\n",
    "    # Define the ranges and their corresponding probabilities\n",
    "    ranges = {\n",
    "        \"90-120/60-80\": 0.70,\n",
    "        \"120-140/80-90\": 0.10,\n",
    "        \"140-160/90-100\": 0.10,\n",
    "        \"70-90/40-60\": 0.05,\n",
    "        \"160-185/100-125\": 0.05\n",
    "    }\n",
    "    \n",
    "    # Choose a range based on the specified probabilities\n",
    "    chosen_range = random.choices(\n",
    "        population=list(ranges.keys()),\n",
    "        weights=list(ranges.values()),\n",
    "        k=1\n",
    "    )[0]\n",
    "    \n",
    "    # Generate a random blood pressure value within the chosen range\n",
    "    if chosen_range == \"90-120/60-80\":\n",
    "        systolic = random.randint(90, 120)\n",
    "        diastolic = random.randint(60, 80)\n",
    "    elif chosen_range == \"120-140/80-90\":\n",
    "        systolic = random.randint(120, 140)\n",
    "        diastolic = random.randint(80, 90)\n",
    "    elif chosen_range == \"140-160/90-100\":\n",
    "        systolic = random.randint(140, 160)\n",
    "        diastolic = random.randint(90, 100)\n",
    "    elif chosen_range == \"70-90/40-60\":\n",
    "        systolic = random.randint(70, 90)\n",
    "        diastolic = random.randint(40, 60)\n",
    "    elif chosen_range == \"160-185/100-125\":\n",
    "        systolic = random.randint(160, 185)\n",
    "        diastolic = random.randint(100, 125)\n",
    "    \n",
    "    return f\"{systolic}/{diastolic}\"\n",
    "\n",
    "# Apply the function to adjust blood pressure values\n",
    "synthetic_data['Blood Pressure'] = synthetic_data.apply(assign_blood_pressure, axis=1)\n",
    "\n",
    "# Display the first few rows of the adjusted synthetic data\n",
    "print(synthetic_data.head())\n",
    "\n",
    "# Save the updated synthetic data to the same CSV file\n",
    "synthetic_data.to_csv(file_path, index=False)\n",
    "\n",
    "print(\"Updated synthetic data saved successfully in the same file.\")\n"
   ]
  },
  {
   "cell_type": "code",
   "execution_count": 10,
   "id": "ee0ead4c",
   "metadata": {},
   "outputs": [],
   "source": [
    "real_data_path = r\"C:\\Users\\Lenovo\\OneDrive - University of Leeds\\Final Code\\cleaned_transformed_omr_full_data.csv\"\n",
    "synthetic_data_path = r\"C:\\Users\\Lenovo\\OneDrive - University of Leeds\\Final Code\\synthetic_omr.csv\"\n",
    "\n",
    "real_df = pd.read_csv(real_data_path)\n",
    "synthetic_df = pd.read_csv(synthetic_data_path)\n"
   ]
  },
  {
   "cell_type": "code",
   "execution_count": 11,
   "id": "1d69d920",
   "metadata": {},
   "outputs": [
    {
     "name": "stdout",
     "output_type": "stream",
     "text": [
      "Generating report ...\n",
      "\n",
      "(1/2) Evaluating Data Validity: |██████████████████████████████████████████████████████| 5/5 [00:00<00:00, 146.55it/s]|\n",
      "Data Validity Score: 97.82%\n",
      "\n",
      "(2/2) Evaluating Data Structure: |█████████████████████████████████████████████████████| 1/1 [00:00<00:00, 187.07it/s]|\n",
      "Data Structure Score: 100.0%\n",
      "\n",
      "Overall Score (Average): 98.91%\n",
      "\n"
     ]
    }
   ],
   "source": [
    "from sdv.evaluation.single_table import run_diagnostic\n",
    "\n",
    "diagnostic = run_diagnostic(\n",
    "    real_data=real_df,\n",
    "    synthetic_data=synthetic_df,\n",
    "    metadata=metadata\n",
    ")"
   ]
  },
  {
   "cell_type": "code",
   "execution_count": 12,
   "id": "72409624",
   "metadata": {},
   "outputs": [
    {
     "name": "stdout",
     "output_type": "stream",
     "text": [
      "Generating report ...\n",
      "\n",
      "(1/2) Evaluating Column Shapes: |███████████████████████████████████████████████████████| 5/5 [00:00<00:00,  9.10it/s]|\n",
      "Column Shapes Score: 67.06%\n",
      "\n",
      "(2/2) Evaluating Column Pair Trends: |████████████████████████████████████████████████| 10/10 [00:12<00:00,  1.29s/it]|\n",
      "Column Pair Trends Score: 39.42%\n",
      "\n",
      "Overall Score (Average): 53.24%\n",
      "\n"
     ]
    }
   ],
   "source": [
    "from sdv.evaluation.single_table import evaluate_quality\n",
    "\n",
    "quality_report = evaluate_quality(\n",
    "    real_df,\n",
    "    synthetic_df,\n",
    "    metadata\n",
    ")"
   ]
  },
  {
   "cell_type": "code",
   "execution_count": 13,
   "id": "412641b5",
   "metadata": {},
   "outputs": [
    {
     "data": {
      "text/html": [
       "<div>\n",
       "<style scoped>\n",
       "    .dataframe tbody tr th:only-of-type {\n",
       "        vertical-align: middle;\n",
       "    }\n",
       "\n",
       "    .dataframe tbody tr th {\n",
       "        vertical-align: top;\n",
       "    }\n",
       "\n",
       "    .dataframe thead th {\n",
       "        text-align: right;\n",
       "    }\n",
       "</style>\n",
       "<table border=\"1\" class=\"dataframe\">\n",
       "  <thead>\n",
       "    <tr style=\"text-align: right;\">\n",
       "      <th></th>\n",
       "      <th>Column</th>\n",
       "      <th>Metric</th>\n",
       "      <th>Score</th>\n",
       "    </tr>\n",
       "  </thead>\n",
       "  <tbody>\n",
       "    <tr>\n",
       "      <th>0</th>\n",
       "      <td>BMI (kg/m2)</td>\n",
       "      <td>KSComplement</td>\n",
       "      <td>0.775322</td>\n",
       "    </tr>\n",
       "    <tr>\n",
       "      <th>1</th>\n",
       "      <td>Blood Pressure</td>\n",
       "      <td>TVComplement</td>\n",
       "      <td>0.226713</td>\n",
       "    </tr>\n",
       "    <tr>\n",
       "      <th>2</th>\n",
       "      <td>Weight (Kg)</td>\n",
       "      <td>KSComplement</td>\n",
       "      <td>0.776306</td>\n",
       "    </tr>\n",
       "    <tr>\n",
       "      <th>3</th>\n",
       "      <td>Height (Cm)</td>\n",
       "      <td>KSComplement</td>\n",
       "      <td>0.904172</td>\n",
       "    </tr>\n",
       "  </tbody>\n",
       "</table>\n",
       "</div>"
      ],
      "text/plain": [
       "           Column        Metric     Score\n",
       "0     BMI (kg/m2)  KSComplement  0.775322\n",
       "1  Blood Pressure  TVComplement  0.226713\n",
       "2     Weight (Kg)  KSComplement  0.776306\n",
       "3     Height (Cm)  KSComplement  0.904172"
      ]
     },
     "execution_count": 13,
     "metadata": {},
     "output_type": "execute_result"
    }
   ],
   "source": [
    "quality_report.get_details('Column Shapes')"
   ]
  },
  {
   "cell_type": "code",
   "execution_count": 14,
   "id": "e7ddcfb1",
   "metadata": {},
   "outputs": [
    {
     "data": {
      "text/html": [
       "<iframe\n",
       "    scrolling=\"no\"\n",
       "    width=\"100%\"\n",
       "    height=\"545px\"\n",
       "    src=\"iframe_figures/figure_14.html\"\n",
       "    frameborder=\"0\"\n",
       "    allowfullscreen\n",
       "></iframe>\n"
      ]
     },
     "metadata": {},
     "output_type": "display_data"
    }
   ],
   "source": [
    "from sdv.evaluation.single_table import get_column_plot\n",
    "\n",
    "fig = get_column_plot(\n",
    "    real_data=real_df,\n",
    "    synthetic_data=synthetic_df,\n",
    "    column_name='Blood Pressure',\n",
    "    metadata=metadata\n",
    ")\n",
    "\n",
    "fig.show()"
   ]
  },
  {
   "cell_type": "code",
   "execution_count": 21,
   "id": "73f9f42f",
   "metadata": {},
   "outputs": [
    {
     "data": {
      "text/html": [
       "<iframe\n",
       "    scrolling=\"no\"\n",
       "    width=\"100%\"\n",
       "    height=\"545px\"\n",
       "    src=\"iframe_figures/figure_21.html\"\n",
       "    frameborder=\"0\"\n",
       "    allowfullscreen\n",
       "></iframe>\n"
      ]
     },
     "metadata": {},
     "output_type": "display_data"
    }
   ],
   "source": [
    "from sdv.evaluation.single_table import get_column_plot\n",
    "\n",
    "fig = get_column_plot(\n",
    "    real_data=df_subset,\n",
    "    synthetic_data=synthetic_df,\n",
    "    column_name='Weight (Kg)',\n",
    "    metadata=metadata\n",
    ")\n",
    "\n",
    "fig.show()"
   ]
  },
  {
   "cell_type": "code",
   "execution_count": 22,
   "id": "0d15426b",
   "metadata": {},
   "outputs": [
    {
     "data": {
      "text/html": [
       "<iframe\n",
       "    scrolling=\"no\"\n",
       "    width=\"100%\"\n",
       "    height=\"545px\"\n",
       "    src=\"iframe_figures/figure_22.html\"\n",
       "    frameborder=\"0\"\n",
       "    allowfullscreen\n",
       "></iframe>\n"
      ]
     },
     "metadata": {},
     "output_type": "display_data"
    }
   ],
   "source": [
    "from sdv.evaluation.single_table import get_column_plot\n",
    "\n",
    "fig = get_column_plot(\n",
    "    real_data=df_subset,\n",
    "    synthetic_data=synthetic_df,\n",
    "    column_name='BMI (kg/m2)',\n",
    "    metadata=metadata\n",
    ")\n",
    "\n",
    "fig.show()"
   ]
  },
  {
   "cell_type": "code",
   "execution_count": 23,
   "id": "00af9db7",
   "metadata": {},
   "outputs": [
    {
     "data": {
      "text/html": [
       "<iframe\n",
       "    scrolling=\"no\"\n",
       "    width=\"100%\"\n",
       "    height=\"545px\"\n",
       "    src=\"iframe_figures/figure_23.html\"\n",
       "    frameborder=\"0\"\n",
       "    allowfullscreen\n",
       "></iframe>\n"
      ]
     },
     "metadata": {},
     "output_type": "display_data"
    }
   ],
   "source": [
    "from sdv.evaluation.single_table import get_column_plot\n",
    "\n",
    "fig = get_column_plot(\n",
    "    real_data=df_subset,\n",
    "    synthetic_data=synthetic_df,\n",
    "    column_name='Height (Cm)',\n",
    "    metadata=metadata\n",
    ")\n",
    "\n",
    "fig.show()"
   ]
  },
  {
   "cell_type": "code",
   "execution_count": 26,
   "id": "07518fd5",
   "metadata": {},
   "outputs": [
    {
     "name": "stdout",
     "output_type": "stream",
     "text": [
      "BP Category\n",
      "90-120/60-80             705\n",
      "140-160/90-100            87\n",
      "120-140/80-90             84\n",
      "160-185/100-125           52\n",
      "70-90/40-60               44\n",
      "Out of defined ranges     28\n",
      "Name: count, dtype: int64\n"
     ]
    }
   ],
   "source": [
    "import pandas as pd\n",
    "import matplotlib.pyplot as plt\n",
    "import seaborn as sns\n",
    "\n",
    "# Load the synthetic data\n",
    "file_path = r'C:\\Users\\Lenovo\\OneDrive - University of Leeds\\Final Code\\synthetic_omr.csv'\n",
    "synthetic_data = pd.read_csv(file_path)\n",
    "\n",
    "# Function to classify blood pressure readings\n",
    "def classify_blood_pressure(bp):\n",
    "    systolic, diastolic = map(int, bp.split('/'))\n",
    "    if 90 <= systolic <= 120 and 60 <= diastolic <= 80:\n",
    "        return \"90-120/60-80\"\n",
    "    elif 120 < systolic <= 140 and 80 < diastolic <= 90:\n",
    "        return \"120-140/80-90\"\n",
    "    elif 140 < systolic <= 160 and 90 < diastolic <= 100:\n",
    "        return \"140-160/90-100\"\n",
    "    elif 70 <= systolic < 90 and 40 <= diastolic < 60:\n",
    "        return \"70-90/40-60\"\n",
    "    elif 160 < systolic <= 185 and 100 < diastolic <= 125:\n",
    "        return \"160-185/100-125\"\n",
    "    else:\n",
    "        return \"Out of defined ranges\"  # To handle cases that do not fit any defined category\n",
    "\n",
    "# Apply the classification function to the blood pressure data\n",
    "synthetic_data['BP Category'] = synthetic_data['Blood Pressure'].apply(classify_blood_pressure)\n",
    "\n",
    "# Calculate the frequencies of each category\n",
    "category_frequencies = synthetic_data['BP Category'].value_counts()\n",
    "\n",
    "# Print the frequencies of each category\n",
    "print(category_frequencies)\n"
   ]
  },
  {
   "cell_type": "code",
   "execution_count": 27,
   "id": "05472ee3",
   "metadata": {},
   "outputs": [
    {
     "data": {
      "image/png": "[encoded data removed]",
      "text/plain": [
       "<Figure size 1000x600 with 1 Axes>"
      ]
     },
     "metadata": {},
     "output_type": "display_data"
    }
   ],
   "source": [
    "# Set up the aesthetics for seaborn plots\n",
    "sns.set(style=\"whitegrid\")\n",
    "\n",
    "# Create a count plot for the Blood Pressure categories\n",
    "plt.figure(figsize=(10, 6))\n",
    "ax = sns.countplot(x='BP Category', data=synthetic_data, order=[\n",
    "    \"90-120/60-80\", \"120-140/80-90\", \"140-160/90-100\", \"70-90/40-60\", \"160-185/100-125\", \"Out of defined ranges\"\n",
    "])\n",
    "ax.set_title('Distribution of Blood Pressure Categories in Synthetic Data')\n",
    "ax.set_xlabel('Blood Pressure Categories')\n",
    "ax.set_ylabel('Frequency')\n",
    "plt.xticks(rotation=45)\n",
    "plt.tight_layout()\n",
    "\n",
    "# Show the plot\n",
    "plt.show()"
   ]
  },
  {
   "cell_type": "code",
   "execution_count": null,
   "id": "8899324d",
   "metadata": {},
   "outputs": [],
   "source": []
  }
 ],
 "metadata": {
  "kernelspec": {
   "display_name": "Python 3 (ipykernel)",
   "language": "python",
   "name": "python3"
  },
  "language_info": {
   "codemirror_mode": {
    "name": "ipython",
    "version": 3
   },
   "file_extension": ".py",
   "mimetype": "text/x-python",
   "name": "python",
   "nbconvert_exporter": "python",
   "pygments_lexer": "ipython3",
   "version": "3.11.5"
  }
 },
 "nbformat": 4,
 "nbformat_minor": 5
}
