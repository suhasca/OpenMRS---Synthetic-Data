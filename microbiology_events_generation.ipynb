{
 "cells": [
  {
   "cell_type": "code",
   "execution_count": 4,
   "id": "50eae149",
   "metadata": {},
   "outputs": [
    {
     "name": "stdout",
     "output_type": "stream",
     "text": [
      "First few rows of the dataset:\n",
      "   microevent_id  subject_id     hadm_id  micro_specimen_id order_provider_id  \\\n",
      "0             36    10000032  25742920.0            7814634               NaN   \n",
      "1             15    10000032  22595853.0            5717063               NaN   \n",
      "2             32    10000032  29079034.0            5901894               NaN   \n",
      "3           7013    10020944  29974575.0            4646730               NaN   \n",
      "4          12898    10037975  27617929.0            1636367               NaN   \n",
      "\n",
      "             chartdate            charttime  spec_itemid spec_type_desc  \\\n",
      "0  2180-08-06 00:00:00  2180-08-06 20:35:00        70070           SWAB   \n",
      "1  2180-05-07 00:00:00  2180-05-07 00:19:00        70070           SWAB   \n",
      "2  2180-07-24 00:00:00  2180-07-24 00:55:00        70070           SWAB   \n",
      "3  2131-02-27 00:00:00  2131-02-27 17:41:00        70070           SWAB   \n",
      "4  2185-01-17 00:00:00  2185-01-17 21:32:00        70070           SWAB   \n",
      "\n",
      "   test_seq  ...          org_name isolate_num  quantity ab_itemid  \\\n",
      "0         1  ...               NaN         NaN       NaN       NaN   \n",
      "1         1  ...               NaN         NaN       NaN       NaN   \n",
      "2         1  ...               NaN         NaN       NaN       NaN   \n",
      "3         1  ...  ENTEROCOCCUS SP.         1.0       NaN   90015.0   \n",
      "4         1  ...               NaN         NaN       NaN       NaN   \n",
      "\n",
      "      ab_name dilution_text  dilution_comparison  dilution_value  \\\n",
      "0         NaN           NaN                  NaN             NaN   \n",
      "1         NaN           NaN                  NaN             NaN   \n",
      "2         NaN           NaN                  NaN             NaN   \n",
      "3  VANCOMYCIN          >256                  NaN             NaN   \n",
      "4         NaN           NaN                  NaN             NaN   \n",
      "\n",
      "   interpretation            comments  \n",
      "0             NaN  No VRE isolated.    \n",
      "1             NaN  No VRE isolated.    \n",
      "2             NaN  No VRE isolated.    \n",
      "3               R                 NaN  \n",
      "4             NaN  No VRE isolated.    \n",
      "\n",
      "[5 rows x 25 columns]\n"
     ]
    }
   ],
   "source": [
    "import pandas as pd\n",
   
    "import warnings\n",
    "warnings.filterwarnings(\"ignore\")\n",
    "\n",
    "# Loading the data\n",
    "file_path = r\"C:\\Users\\Lenovo\\OneDrive - University of Leeds\\Project\\mimic-iv-clinical-database-demo-2.2\\mimic-iv-clinical-database-demo-2.2\\microbiologyevents.csv\"\n",
    "data = pd.read_csv(file_path)\n",
    "\n",
    "# Displaying the first few rows of the dataset\n",
    "print(\"First few rows of the dataset:\")\n",
    "print(data.head())"
   ]
  },
  {
   "cell_type": "code",
   "execution_count": 5,
   "id": "92a2330f",
   "metadata": {},
   "outputs": [
    {
     "name": "stdout",
     "output_type": "stream",
     "text": [
      "Total columns: 25\n",
      "Total rows: 2899\n",
      "-------------\n",
      "microevent_id             0\n",
      "subject_id                0\n",
      "hadm_id                 971\n",
      "micro_specimen_id         0\n",
      "order_provider_id      2596\n",
      "chartdate                 0\n",
      "charttime               183\n",
      "spec_itemid               0\n",
      "spec_type_desc            0\n",
      "test_seq                  0\n",
      "storedate                16\n",
      "storetime                16\n",
      "test_itemid               0\n",
      "test_name                 0\n",
      "org_itemid             1641\n",
      "org_name               1641\n",
      "isolate_num            1641\n",
      "quantity               2899\n",
      "ab_itemid              1863\n",
      "ab_name                1863\n",
      "dilution_text          1900\n",
      "dilution_comparison    1901\n",
      "dilution_value         1901\n",
      "interpretation         1863\n",
      "comments                811\n",
      "dtype: int64\n"
     ]
    }
   ],
   "source": [
 
    "null_values = data.isnull().sum()\n",
    "\n",
   
    "total_columns = data.shape[1]\n",
    "total_rows = data.shape[0]\n",
    "print(f\"Total columns: {total_columns}\")\n",
    "print(f\"Total rows: {total_rows}\")\n",
    "print(\"-------------\")\n",
    "\n",

    "print(null_values)\n"
   ]
  },
  {
   "cell_type": "code",
   "execution_count": 6,
   "id": "db71fcd8",
   "metadata": {},
   "outputs": [],
   "source": [
    "# Dealing with null values\n",
    "data['charttime'].fillna(data['chartdate'], inplace=True)\n",
    "\n",
    "data['org_itemid'].fillna(value=0, inplace=True)\n",
    "data['isolate_num'].fillna(value=0, inplace=True)\n",
    "data['ab_itemid'].fillna(value=0, inplace=True)\n",
    "\n",
    "data['org_name'].fillna(value='Na', inplace=True)\n",
    "data['ab_name'].fillna(value='Na', inplace=True)\n",
    "data['dilution_comparison'].fillna(value='Na', inplace=True)\n",
    "data['dilution_text'].fillna(value='Na', inplace=True)\n",
    "\n",
    "data['dilution_value'].fillna(value=999, inplace=True)\n"
   ]
  },
  {
   "cell_type": "code",
   "execution_count": 7,
   "id": "360d40e2",
   "metadata": {},
   "outputs": [
    {
     "name": "stdout",
     "output_type": "stream",
     "text": [
      "Total columns: 25\n",
      "Total rows: 2899\n",
      "-------------\n",
      "microevent_id             0\n",
      "subject_id                0\n",
      "hadm_id                 971\n",
      "micro_specimen_id         0\n",
      "order_provider_id      2596\n",
      "chartdate                 0\n",
      "charttime                 0\n",
      "spec_itemid               0\n",
      "spec_type_desc            0\n",
      "test_seq                  0\n",
      "storedate                16\n",
      "storetime                16\n",
      "test_itemid               0\n",
      "test_name                 0\n",
      "org_itemid                0\n",
      "org_name                  0\n",
      "isolate_num               0\n",
      "quantity               2899\n",
      "ab_itemid                 0\n",
      "ab_name                   0\n",
      "dilution_text             0\n",
      "dilution_comparison       0\n",
      "dilution_value            0\n",
      "interpretation         1863\n",
      "comments                811\n",
      "dtype: int64\n"
     ]
    }
   ],
   "source": [
  
    "null_values = data.isnull().sum()\n",
    "\n",

    "total_columns = data.shape[1]\n",
    "total_rows = data.shape[0]\n",
    "print(f\"Total columns: {total_columns}\")\n",
    "print(f\"Total rows: {total_rows}\")\n",
    "print(\"-------------\")\n",
    "\n",
  
    "print(null_values)\n"
   ]
  },
  {
   "cell_type": "code",
   "execution_count": 8,
   "id": "051ae498",
   "metadata": {},
   "outputs": [
    {
     "data": {
      "text/plain": [
       "microevent_id            int64\n",
       "subject_id               int64\n",
       "hadm_id                float64\n",
       "micro_specimen_id        int64\n",
       "order_provider_id       object\n",
       "chartdate               object\n",
       "charttime               object\n",
       "spec_itemid              int64\n",
       "spec_type_desc          object\n",
       "test_seq                 int64\n",
       "storedate               object\n",
       "storetime               object\n",
       "test_itemid              int64\n",
       "test_name               object\n",
       "org_itemid             float64\n",
       "org_name                object\n",
       "isolate_num            float64\n",
       "quantity               float64\n",
       "ab_itemid              float64\n",
       "ab_name                 object\n",
       "dilution_text           object\n",
       "dilution_comparison     object\n",
       "dilution_value         float64\n",
       "interpretation          object\n",
       "comments                object\n",
       "dtype: object"
      ]
     },
     "execution_count": 8,
     "metadata": {},
     "output_type": "execute_result"
    }
   ],
   "source": [
    "data.dtypes"
   ]
  },
  {
   "cell_type": "code",
   "execution_count": 9,
   "id": "1fb8ed07",
   "metadata": {},
   "outputs": [],
   "source": [
    "data['charttime'] = pd.to_datetime(data['charttime'])"
   ]
  },
  {
   "cell_type": "code",
   "execution_count": 10,
   "id": "7afb47cd",
   "metadata": {},
   "outputs": [
    {
     "data": {
      "text/plain": [
       "microevent_id                   int64\n",
       "subject_id                      int64\n",
       "hadm_id                       float64\n",
       "micro_specimen_id               int64\n",
       "order_provider_id              object\n",
       "chartdate                      object\n",
       "charttime              datetime64[ns]\n",
       "spec_itemid                     int64\n",
       "spec_type_desc                 object\n",
       "test_seq                        int64\n",
       "storedate                      object\n",
       "storetime                      object\n",
       "test_itemid                     int64\n",
       "test_name                      object\n",
       "org_itemid                    float64\n",
       "org_name                       object\n",
       "isolate_num                   float64\n",
       "quantity                      float64\n",
       "ab_itemid                     float64\n",
       "ab_name                        object\n",
       "dilution_text                  object\n",
       "dilution_comparison            object\n",
       "dilution_value                float64\n",
       "interpretation                 object\n",
       "comments                       object\n",
       "dtype: object"
      ]
     },
     "execution_count": 10,
     "metadata": {},
     "output_type": "execute_result"
    }
   ],
   "source": [
    "data.dtypes"
   ]
  },
  {
   "cell_type": "code",
   "execution_count": 11,
   "id": "9f4c38c6",
   "metadata": {},
   "outputs": [],
   "source": [
    "from sdv.metadata import SingleTableMetadata\n",
    "from sdv.single_table import CTGANSynthesizer\n",
    "import time"
   ]
  },
  {
   "cell_type": "code",
   "execution_count": 12,
   "id": "f0a1ac06",
   "metadata": {},
   "outputs": [],
   "source": [
    "df_data = data.head(1000)\n"
   ]
  },
  {
   "cell_type": "code",
   "execution_count": 13,
   "id": "9efaf57c",
   "metadata": {},
   "outputs": [],
   "source": [
    "# Define the metadata\n",
    "metadata = SingleTableMetadata()\n",
    "metadata.detect_from_dataframe(data=df_data)\n"
   ]
  },
  {
   "cell_type": "code",
   "execution_count": 14,
   "id": "ed30bc0a",
   "metadata": {},
   "outputs": [
    {
     "name": "stdout",
     "output_type": "stream",
     "text": [
      "Training time: 439.2030072212219 seconds\n"
     ]
    }
   ],
   "source": [
    "# Initialising the CTGANSynthesizer\n",
    "custom_synthesizer = CTGANSynthesizer(metadata, epochs=1000)\n",
    "\n",
   
    "start_time = time.time()\n",
    "\n",
   
    "custom_synthesizer.fit(df_data)\n",
    "\n",
 
    "end_time = time.time()\n",
    "\n",
   
    "elapsed_time = end_time - start_time\n",
    "print(f\"Training time: {elapsed_time} seconds\")\n",
    "\n"
   ]
  },
  {
   "cell_type": "code",
   "execution_count": 15,
   "id": "e53a2276",
   "metadata": {},
   "outputs": [
    {
     "name": "stdout",
     "output_type": "stream",
     "text": [
      "   microevent_id  subject_id     hadm_id  micro_specimen_id order_provider_id  \\\n",
      "0      841127031    10037466  20204263.0            5749432               NaN   \n",
      "1      499772491    10002544  28248083.0            5738973               NaN   \n",
      "2       47667669    10017042         NaN            2249863               NaN   \n",
      "3      587376802    10017335  27224838.0            9136138            P70R8X   \n",
      "4      351342487    10013312         NaN            7882883               NaN   \n",
      "\n",
      "             chartdate           charttime  spec_itemid     spec_type_desc  \\\n",
      "0  2110-01-04 00:00:00 2118-07-09 20:20:28        70059  Staph aureus swab   \n",
      "1  2183-05-14 04:54:24 2170-08-19 12:37:22        70012      BLOOD CULTURE   \n",
      "2  2182-03-08 21:14:27 2137-03-23 15:45:31        70012  Staph aureus swab   \n",
      "3  2135-07-23 01:31:24 2138-09-10 16:10:44        70084      BLOOD CULTURE   \n",
      "4  2127-10-29 21:32:28 2114-08-12 12:31:30        70012        MRSA SCREEN   \n",
      "\n",
      "   test_seq  ...             org_name isolate_num  quantity ab_itemid  \\\n",
      "0         1  ...                   Na         1.0       NaN   78864.0   \n",
      "1         3  ...                   Na         0.0       NaN       0.0   \n",
      "2         1  ...     ESCHERICHIA COLI         1.0       NaN   90029.0   \n",
      "3         1  ...                   Na         0.0       NaN       0.0   \n",
      "4         1  ...  STAPH AUREUS COAG +         1.0       NaN   90029.0   \n",
      "\n",
      "        ab_name dilution_text  dilution_comparison  dilution_value  \\\n",
      "0            Na            Na                   Na          999.00   \n",
      "1            Na            Na                   Na          989.58   \n",
      "2  ERYTHROMYCIN        <=0.25           <=                    0.06   \n",
      "3            Na            Na                   Na          999.00   \n",
      "4    GENTAMICIN             4           =                     0.06   \n",
      "\n",
      "   interpretation                                           comments  \n",
      "0             NaN                                                ___  \n",
      "1             NaN                                 POSITIVE BY EIA.    \n",
      "2               S                                                NaN  \n",
      "3             NaN  Negative for Chlamydia trachomatis by ___, APT...  \n",
      "4               S                                                NaN  \n",
      "\n",
      "[5 rows x 25 columns]\n"
     ]
    }
   ],
   "source": [

    "synthetic_data = custom_synthesizer.sample(1000)  # Generate 1000 rows of synthetic data\n",
    "\n",
    
    "print(synthetic_data.head())"
   ]
  },
  {
   "cell_type": "code",
   "execution_count": 16,
   "id": "c8ac8ab7",
   "metadata": {},
   "outputs": [],
   "source": [
 
    "synthetic_data['subject_id'] = range(400000, 400000 + len(synthetic_data))\n",
    "synthetic_data['hadm_id'] = synthetic_data['subject_id'].apply(lambda x: f\"{x}{str(synthetic_data.index.get_loc(synthetic_data.index[synthetic_data['subject_id'] == x][0])).zfill(2)}\")\n",
    "\n"
   ]
  },
  {
   "cell_type": "code",
   "execution_count": 17,
   "id": "dc9fefbb",
   "metadata": {},
   "outputs": [
    {
     "name": "stdout",
     "output_type": "stream",
     "text": [
      "Synthetic data generated, updated, and saved successfully.\n"
     ]
    }
   ],
   "source": [
    "synthetic_data.to_csv('synthetic_microbiology_events.csv', index=False)\n",
    "\n",
    "print(\"Synthetic data generated, updated, and saved successfully.\")"
   ]
  },
  {
   "cell_type": "code",
   "execution_count": 18,
   "id": "c05e7519",
   "metadata": {},
   "outputs": [
    {
     "name": "stdout",
     "output_type": "stream",
     "text": [
      "Total columns: 25\n",
      "Total rows: 1000\n",
      "-------------\n",
      "microevent_id             0\n",
      "subject_id                0\n",
      "hadm_id                   0\n",
      "micro_specimen_id         0\n",
      "order_provider_id       772\n",
      "chartdate                 0\n",
      "charttime                 0\n",
      "spec_itemid               0\n",
      "spec_type_desc            0\n",
      "test_seq                  0\n",
      "storedate                 0\n",
      "storetime                 0\n",
      "test_itemid               0\n",
      "test_name                 0\n",
      "org_itemid                0\n",
      "org_name                  0\n",
      "isolate_num               0\n",
      "quantity               1000\n",
      "ab_itemid                 0\n",
      "ab_name                   0\n",
      "dilution_text             0\n",
      "dilution_comparison       0\n",
      "dilution_value            0\n",
      "interpretation          651\n",
      "comments                366\n",
      "dtype: int64\n"
     ]
    }
   ],
   "source": [
   
    "null_values = synthetic_data.isnull().sum()\n",
    "\n",

    "total_columns = synthetic_data.shape[1]\n",
    "total_rows = synthetic_data.shape[0]\n",
    "print(f\"Total columns: {total_columns}\")\n",
    "print(f\"Total rows: {total_rows}\")\n",
    "print(\"-------------\")\n",
    "\n",

    "print(null_values)\n"
   ]
  },
  {
   "cell_type": "code",
   "execution_count": 19,
   "id": "2c41bd9b",
   "metadata": {},
   "outputs": [
    {
     "name": "stdout",
     "output_type": "stream",
     "text": [
      "Generating report ...\n",
      "\n",
      "(1/2) Evaluating Data Validity: |███████████████████████████████████████████████████| 25/25 [00:00<00:00, 1202.83it/s]|\n",
      "Data Validity Score: 95.65%\n",
      "\n",
      "(2/2) Evaluating Data Structure: |█████████████████████████████████████████████████████| 1/1 [00:00<00:00, 198.36it/s]|\n",
      "Data Structure Score: 100.0%\n",
      "\n",
      "Overall Score (Average): 97.83%\n",
      "\n"
     ]
    }
   ],
   "source": [
    "from sdv.evaluation.single_table import run_diagnostic\n",
    "\n",
    "diagnostic = run_diagnostic(\n",
    "    real_data=data,\n",
    "    synthetic_data=synthetic_data,\n",
    "    metadata=metadata\n",
    ")\n"
   ]
  },
  {
   "cell_type": "code",
   "execution_count": 20,
   "id": "0a72d4c4",
   "metadata": {},
   "outputs": [
    {
     "name": "stdout",
     "output_type": "stream",
     "text": [
      "Generating report ...\n",
      "\n",
      "(1/2) Evaluating Column Shapes: |████████████████████████████████████████████████████| 25/25 [00:00<00:00, 187.36it/s]|\n",
      "Column Shapes Score: 71.25%\n",
      "\n",
      "(2/2) Evaluating Column Pair Trends: |██████████████████████████████████████████████| 300/300 [00:04<00:00, 60.77it/s]|\n",
      "Column Pair Trends Score: 65.89%\n",
      "\n",
      "Overall Score (Average): 68.57%\n",
      "\n"
     ]
    }
   ],
   "source": [
    "from sdv.evaluation.single_table import evaluate_quality\n",
    "\n",
    "quality_report = evaluate_quality(\n",
    "    data,\n",
    "    synthetic_data,\n",
    "    metadata\n",
    ")"
   ]
  },
  {
   "cell_type": "code",
   "execution_count": 21,
   "id": "04363cdf",
   "metadata": {},
   "outputs": [
    {
     "data": {
      "text/html": [
       "<div>\n",
       "<style scoped>\n",
       "    .dataframe tbody tr th:only-of-type {\n",
       "        vertical-align: middle;\n",
       "    }\n",
       "\n",
       "    .dataframe tbody tr th {\n",
       "        vertical-align: top;\n",
       "    }\n",
       "\n",
       "    .dataframe thead th {\n",
       "        text-align: right;\n",
       "    }\n",
       "</style>\n",
       "<table border=\"1\" class=\"dataframe\">\n",
       "  <thead>\n",
       "    <tr style=\"text-align: right;\">\n",
       "      <th></th>\n",
       "      <th>Column</th>\n",
       "      <th>Metric</th>\n",
       "      <th>Score</th>\n",
       "      <th>Error</th>\n",
       "    </tr>\n",
       "  </thead>\n",
       "  <tbody>\n",
       "    <tr>\n",
       "      <th>0</th>\n",
       "      <td>subject_id</td>\n",
       "      <td>KSComplement</td>\n",
       "      <td>0.000000</td>\n",
       "      <td>None</td>\n",
       "    </tr>\n",
       "    <tr>\n",
       "      <th>1</th>\n",
       "      <td>hadm_id</td>\n",
       "      <td>KSComplement</td>\n",
       "      <td>NaN</td>\n",
       "      <td>TypeError: '&lt;' not supported between instances...</td>\n",
       "    </tr>\n",
       "    <tr>\n",
       "      <th>2</th>\n",
       "      <td>micro_specimen_id</td>\n",
       "      <td>KSComplement</td>\n",
       "      <td>0.883702</td>\n",
       "      <td>None</td>\n",
       "    </tr>\n",
       "    <tr>\n",
       "      <th>3</th>\n",
       "      <td>order_provider_id</td>\n",
       "      <td>TVComplement</td>\n",
       "      <td>0.581249</td>\n",
       "      <td>None</td>\n",
       "    </tr>\n",
       "    <tr>\n",
       "      <th>4</th>\n",
       "      <td>chartdate</td>\n",
       "      <td>KSComplement</td>\n",
       "      <td>0.833999</td>\n",
       "      <td>None</td>\n",
       "    </tr>\n",
       "    <tr>\n",
       "      <th>5</th>\n",
       "      <td>charttime</td>\n",
       "      <td>KSComplement</td>\n",
       "      <td>0.754654</td>\n",
       "      <td>None</td>\n",
       "    </tr>\n",
       "    <tr>\n",
       "      <th>6</th>\n",
       "      <td>spec_itemid</td>\n",
       "      <td>KSComplement</td>\n",
       "      <td>0.755640</td>\n",
       "      <td>None</td>\n",
       "    </tr>\n",
       "    <tr>\n",
       "      <th>7</th>\n",
       "      <td>spec_type_desc</td>\n",
       "      <td>TVComplement</td>\n",
       "      <td>0.490372</td>\n",
       "      <td>None</td>\n",
       "    </tr>\n",
       "    <tr>\n",
       "      <th>8</th>\n",
       "      <td>test_seq</td>\n",
       "      <td>TVComplement</td>\n",
       "      <td>0.816301</td>\n",
       "      <td>None</td>\n",
       "    </tr>\n",
       "    <tr>\n",
       "      <th>9</th>\n",
       "      <td>storedate</td>\n",
       "      <td>KSComplement</td>\n",
       "      <td>0.812398</td>\n",
       "      <td>None</td>\n",
       "    </tr>\n",
       "    <tr>\n",
       "      <th>10</th>\n",
       "      <td>storetime</td>\n",
       "      <td>KSComplement</td>\n",
       "      <td>0.830181</td>\n",
       "      <td>None</td>\n",
       "    </tr>\n",
       "    <tr>\n",
       "      <th>11</th>\n",
       "      <td>test_itemid</td>\n",
       "      <td>KSComplement</td>\n",
       "      <td>0.575716</td>\n",
       "      <td>None</td>\n",
       "    </tr>\n",
       "    <tr>\n",
       "      <th>12</th>\n",
       "      <td>test_name</td>\n",
       "      <td>TVComplement</td>\n",
       "      <td>0.348741</td>\n",
       "      <td>None</td>\n",
       "    </tr>\n",
       "    <tr>\n",
       "      <th>13</th>\n",
       "      <td>org_itemid</td>\n",
       "      <td>KSComplement</td>\n",
       "      <td>0.709943</td>\n",
       "      <td>None</td>\n",
       "    </tr>\n",
       "    <tr>\n",
       "      <th>14</th>\n",
       "      <td>org_name</td>\n",
       "      <td>TVComplement</td>\n",
       "      <td>0.820886</td>\n",
       "      <td>None</td>\n",
       "    </tr>\n",
       "    <tr>\n",
       "      <th>15</th>\n",
       "      <td>isolate_num</td>\n",
       "      <td>TVComplement</td>\n",
       "      <td>0.979648</td>\n",
       "      <td>None</td>\n",
       "    </tr>\n",
       "    <tr>\n",
       "      <th>16</th>\n",
       "      <td>quantity</td>\n",
       "      <td>KSComplement</td>\n",
       "      <td>NaN</td>\n",
       "      <td>ValueError: Data passed to ks_2samp must not b...</td>\n",
       "    </tr>\n",
       "    <tr>\n",
       "      <th>17</th>\n",
       "      <td>ab_itemid</td>\n",
       "      <td>KSComplement</td>\n",
       "      <td>0.562365</td>\n",
       "      <td>None</td>\n",
       "    </tr>\n",
       "    <tr>\n",
       "      <th>18</th>\n",
       "      <td>ab_name</td>\n",
       "      <td>TVComplement</td>\n",
       "      <td>0.896153</td>\n",
       "      <td>None</td>\n",
       "    </tr>\n",
       "    <tr>\n",
       "      <th>19</th>\n",
       "      <td>dilution_text</td>\n",
       "      <td>TVComplement</td>\n",
       "      <td>0.908743</td>\n",
       "      <td>None</td>\n",
       "    </tr>\n",
       "    <tr>\n",
       "      <th>20</th>\n",
       "      <td>dilution_comparison</td>\n",
       "      <td>TVComplement</td>\n",
       "      <td>0.956628</td>\n",
       "      <td>None</td>\n",
       "    </tr>\n",
       "    <tr>\n",
       "      <th>21</th>\n",
       "      <td>dilution_value</td>\n",
       "      <td>KSComplement</td>\n",
       "      <td>0.586257</td>\n",
       "      <td>None</td>\n",
       "    </tr>\n",
       "    <tr>\n",
       "      <th>22</th>\n",
       "      <td>interpretation</td>\n",
       "      <td>TVComplement</td>\n",
       "      <td>0.982825</td>\n",
       "      <td>None</td>\n",
       "    </tr>\n",
       "    <tr>\n",
       "      <th>23</th>\n",
       "      <td>comments</td>\n",
       "      <td>TVComplement</td>\n",
       "      <td>0.588478</td>\n",
       "      <td>None</td>\n",
       "    </tr>\n",
       "  </tbody>\n",
       "</table>\n",
       "</div>"
      ],
      "text/plain": [
       "                 Column        Metric     Score  \\\n",
       "0            subject_id  KSComplement  0.000000   \n",
       "1               hadm_id  KSComplement       NaN   \n",
       "2     micro_specimen_id  KSComplement  0.883702   \n",
       "3     order_provider_id  TVComplement  0.581249   \n",
       "4             chartdate  KSComplement  0.833999   \n",
       "5             charttime  KSComplement  0.754654   \n",
       "6           spec_itemid  KSComplement  0.755640   \n",
       "7        spec_type_desc  TVComplement  0.490372   \n",
       "8              test_seq  TVComplement  0.816301   \n",
       "9             storedate  KSComplement  0.812398   \n",
       "10            storetime  KSComplement  0.830181   \n",
       "11          test_itemid  KSComplement  0.575716   \n",
       "12            test_name  TVComplement  0.348741   \n",
       "13           org_itemid  KSComplement  0.709943   \n",
       "14             org_name  TVComplement  0.820886   \n",
       "15          isolate_num  TVComplement  0.979648   \n",
       "16             quantity  KSComplement       NaN   \n",
       "17            ab_itemid  KSComplement  0.562365   \n",
       "18              ab_name  TVComplement  0.896153   \n",
       "19        dilution_text  TVComplement  0.908743   \n",
       "20  dilution_comparison  TVComplement  0.956628   \n",
       "21       dilution_value  KSComplement  0.586257   \n",
       "22       interpretation  TVComplement  0.982825   \n",
       "23             comments  TVComplement  0.588478   \n",
       "\n",
       "                                                Error  \n",
       "0                                                None  \n",
       "1   TypeError: '<' not supported between instances...  \n",
       "2                                                None  \n",
       "3                                                None  \n",
       "4                                                None  \n",
       "5                                                None  \n",
       "6                                                None  \n",
       "7                                                None  \n",
       "8                                                None  \n",
       "9                                                None  \n",
       "10                                               None  \n",
       "11                                               None  \n",
       "12                                               None  \n",
       "13                                               None  \n",
       "14                                               None  \n",
       "15                                               None  \n",
       "16  ValueError: Data passed to ks_2samp must not b...  \n",
       "17                                               None  \n",
       "18                                               None  \n",
       "19                                               None  \n",
       "20                                               None  \n",
       "21                                               None  \n",
       "22                                               None  \n",
       "23                                               None  "
      ]
     },
     "execution_count": 21,
     "metadata": {},
     "output_type": "execute_result"
    }
   ],
   "source": [
    "quality_report.get_details('Column Shapes')"
   ]
  },
  {
   "cell_type": "code",
   "execution_count": 22,
   "id": "926ca6f6",
   "metadata": {},
   "outputs": [
    {
     "data": {
      "text/html": [
       "<iframe\n",
       "    scrolling=\"no\"\n",
       "    width=\"100%\"\n",
       "    height=\"545px\"\n",
       "    src=\"iframe_figures/figure_22.html\"\n",
       "    frameborder=\"0\"\n",
       "    allowfullscreen\n",
       "></iframe>\n"
      ]
     },
     "metadata": {},
     "output_type": "display_data"
    }
   ],
   "source": [
    "from sdv.evaluation.single_table import get_column_plot\n",
    "\n",
    "fig = get_column_plot(\n",
    "    real_data=data,\n",
    "    synthetic_data=synthetic_data,\n",
    "    column_name='ab_name',\n",
    "    metadata=metadata\n",
    ")\n",
    "\n",
    "fig.show()"
   ]
  },
  {
   "cell_type": "code",
   "execution_count": 23,
   "id": "1e13b6cd",
   "metadata": {},
   "outputs": [
    {
     "name": "stdout",
     "output_type": "stream",
     "text": [
      "subject_id meets the threshold with a score of 0.00e+00.\n",
      "hadm_id does not have a valid score. Error: TypeError: '<' not supported between instances\n",
      "micro_specimen_id meets the threshold with a score of 9.54e-01.\n",
      "order_provider_id does not meet the threshold. Score: 5.72e-01, Threshold: 7.00e-01\n",
      "chartdate meets the threshold with a score of 9.08e-01.\n",
      "charttime meets the threshold with a score of 8.51e-01.\n",
      "spec_itemid does not meet the threshold. Score: 6.80e-01, Threshold: 7.00e-01\n",
      "spec_type_desc does not meet the threshold. Score: 4.83e-01, Threshold: 7.00e-01\n",
      "test_seq meets the threshold with a score of 7.65e-01.\n",
      "storedate meets the threshold with a score of 9.17e-01.\n",
      "storetime meets the threshold with a score of 9.12e-01.\n",
      "test_itemid does not meet the threshold. Score: 5.76e-01, Threshold: 7.00e-01\n",
      "test_name does not meet the threshold. Score: 3.49e-01, Threshold: 7.00e-01\n",
      "org_itemid meets the threshold with a score of 7.16e-01.\n",
      "org_name meets the threshold with a score of 8.14e-01.\n",
      "isolate_num meets the threshold with a score of 9.80e-01.\n",
      "quantity does not have a valid score. Error: ValueError: Data passed to ks_2samp must not be\n",
      "ab_itemid does not meet the threshold. Score: 5.65e-01, Threshold: 7.00e-01\n",
      "ab_name meets the threshold with a score of 9.04e-01.\n",
      "dilution_text meets the threshold with a score of 8.97e-01.\n",
      "dilution_comparison meets the threshold with a score of 9.76e-01.\n",
      "dilution_value does not meet the threshold. Score: 5.94e-01, Threshold: 7.00e-01\n",
      "interpretation meets the threshold with a score of 9.90e-01.\n",
      "comments does not meet the threshold. Score: 5.54e-01, Threshold: 7.00e-01\n"
     ]
    }
   ],
   "source": [
    "import pandas as pd\n",
    "\n",
    "# Loading the provided data\n",
    "data = [\n",
    "    {'Column': 'subject_id', 'Metric': 'KSComplement', 'Score': 0.0},\n",
    "    {'Column': 'hadm_id', 'Metric': 'KSComplement', 'Score': None, 'Error': \"TypeError: '<' not supported between instances\"},\n",
    "    {'Column': 'micro_specimen_id', 'Metric': 'KSComplement', 'Score': 0.953791},\n",
    "    {'Column': 'order_provider_id', 'Metric': 'TVComplement', 'Score': 0.572497},\n",
    "    {'Column': 'chartdate', 'Metric': 'KSComplement', 'Score': 0.908277},\n",
    "    {'Column': 'charttime', 'Metric': 'KSComplement', 'Score': 0.851153},\n",
    "    {'Column': 'spec_itemid', 'Metric': 'KSComplement', 'Score': 0.680166},\n",
    "    {'Column': 'spec_type_desc', 'Metric': 'TVComplement', 'Score': 0.483357},\n",
    "    {'Column': 'test_seq', 'Metric': 'TVComplement', 'Score': 0.765301},\n",
    "    {'Column': 'storedate', 'Metric': 'KSComplement', 'Score': 0.917398},\n",
    "    {'Column': 'storetime', 'Metric': 'KSComplement', 'Score': 0.912398},\n",
    "    {'Column': 'test_itemid', 'Metric': 'KSComplement', 'Score': 0.575716},\n",
    "    {'Column': 'test_name', 'Metric': 'TVComplement', 'Score': 0.349431},\n",
    "    {'Column': 'org_itemid', 'Metric': 'KSComplement', 'Score': 0.715943},\n",
    "    {'Column': 'org_name', 'Metric': 'TVComplement', 'Score': 0.813541},\n",
    "    {'Column': 'isolate_num', 'Metric': 'TVComplement', 'Score': 0.979648},\n",
    "    {'Column': 'quantity', 'Metric': 'KSComplement', 'Score': None, 'Error': \"ValueError: Data passed to ks_2samp must not be\"},\n",
    "    {'Column': 'ab_itemid', 'Metric': 'KSComplement', 'Score': 0.565365},\n",
    "    {'Column': 'ab_name', 'Metric': 'TVComplement', 'Score': 0.903788},\n",
    "    {'Column': 'dilution_text', 'Metric': 'TVComplement', 'Score': 0.896558},\n",
    "    {'Column': 'dilution_comparison', 'Metric': 'TVComplement', 'Score': 0.975628},\n",
    "    {'Column': 'dilution_value', 'Metric': 'KSComplement', 'Score': 0.594257},\n",
    "    {'Column': 'interpretation', 'Metric': 'TVComplement', 'Score': 0.989640},\n",
    "    {'Column': 'comments', 'Metric': 'TVComplement', 'Score': 0.554425}\n",
    "]\n",
    "\n",

    "df = pd.DataFrame(data)\n",
    "\n",

    "thresholds = {\n",
    "    'KSComplement': 0.7,\n",
    "    'TVComplement': 0.7,\n",
    "    'critical_columns': {\n",
    "        'admittime': 0.8,\n",
    "        'dischtime': 0.8,\n",
    "        'admission_type': 0.9,\n",
    "        'admission_location': 0.9,\n",
    "        'discharge_location': 0.9,\n",
    "        'insurance': 0.9,\n",
    "        'marital_status': 0.9,\n",
    "    },\n",
    "    'non_critical_columns': {\n",
    "        'subject_id': 0.0,\n",
    "        'language': 0.0,\n",
    "        'race': 0.0,\n",
    "        'edregtime': 0.7,\n",
    "        'edouttime': 0.7,\n",
    "    }\n",
    "}\n",
    "\n",
  
    "def check_thresholds(df, thresholds):\n",
    "    results = []\n",
    "    for _, row in df.iterrows():\n",
    "        column_name = row['Column']\n",
    "        metric = row['Metric']\n",
    "        score = row['Score']\n",
    "\n",
    "        if column_name in thresholds['critical_columns']:\n",
    "            threshold = thresholds['critical_columns'][column_name]\n",
    "        else:\n",
    "            threshold = thresholds['non_critical_columns'].get(column_name, thresholds.get(metric, 0))\n",
    "\n",
    "        if pd.isna(score):\n",
    "            results.append(f\"{column_name} does not have a valid score. Error: {row['Error']}\")\n",
    "        elif score >= threshold:\n",
    "            results.append(f\"{column_name} meets the threshold with a score of {score:.2e}.\")\n",
    "        else:\n",
    "            results.append(f\"{column_name} does not meet the threshold. Score: {score:.2e}, Threshold: {threshold:.2e}\")\n",
    "    \n",
    "    return results\n",
    "\n",
 
    "results = check_thresholds(df, thresholds)\n",
    "\n",
 
    "for result in results:\n",
    "    print(result)\n"
   ]
  },
  {
   "cell_type": "code",
   "execution_count": null,
   "id": "136d2748",
   "metadata": {},
   "outputs": [],
   "source": []
  }
 ],
 "metadata": {
  "kernelspec": {
   "display_name": "Python 3 (ipykernel)",
   "language": "python",
   "name": "python3"
  },
  "language_info": {
   "codemirror_mode": {
    "name": "ipython",
    "version": 3
   },
   "file_extension": ".py",
   "mimetype": "text/x-python",
   "name": "python",
   "nbconvert_exporter": "python",
   "pygments_lexer": "ipython3",
   "version": "3.11.5"
  }
 },
 "nbformat": 4,
 "nbformat_minor": 5
}
