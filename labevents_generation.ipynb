{
 "cells": [
  {
   "cell_type": "code",
   "execution_count": 14,
   "id": "c791f7d7",
   "metadata": {},
   "outputs": [
    {
     "name": "stdout",
     "output_type": "stream",
     "text": [
      "First few rows of the dataset:\n",
      "   labevent_id  subject_id     hadm_id  specimen_id  itemid order_provider_id  \\\n",
      "0       172061    10014354  29600294.0      1808066   51277               NaN   \n",
      "1       172062    10014354  29600294.0      1808066   51279               NaN   \n",
      "2       172068    10014354  29600294.0      1808066   52172               NaN   \n",
      "3       172063    10014354  29600294.0      1808066   51301               NaN   \n",
      "4       172050    10014354  29600294.0      1808066   51249               NaN   \n",
      "\n",
      "             charttime            storetime value  valuenum valueuom  \\\n",
      "0  2148-08-16 00:00:00  2148-08-16 01:30:00  15.4     15.40        %   \n",
      "1  2148-08-16 00:00:00  2148-08-16 01:30:00  3.35      3.35     m/uL   \n",
      "2  2148-08-16 00:00:00  2148-08-16 01:30:00  49.7     49.70       fL   \n",
      "3  2148-08-16 00:00:00  2148-08-16 01:30:00  20.3     20.30     K/uL   \n",
      "4  2148-08-16 00:00:00  2148-08-16 01:30:00  31.1     31.10     g/dL   \n",
      "\n",
      "   ref_range_lower  ref_range_upper      flag priority comments  \n",
      "0             10.5             15.5       NaN  ROUTINE      NaN  \n",
      "1              4.6              6.1  abnormal  ROUTINE      NaN  \n",
      "2             35.1             46.3  abnormal  ROUTINE      NaN  \n",
      "3              4.0             10.0  abnormal  ROUTINE      NaN  \n",
      "4             32.0             37.0  abnormal  ROUTINE      NaN  \n"
     ]
    }
   ],
   "source": [
    "import pandas as pd\n",
    "# Ignore warnings\n",
    "import warnings\n",
    "warnings.filterwarnings(\"ignore\")\n",
    "\n",
    "# Load the data\n",
    "file_path = r\"C:\\Users\\Lenovo\\OneDrive - University of Leeds\\Project\\mimic-iv-clinical-database-demo-2.2\\mimic-iv-clinical-database-demo-2.2\\labevents.csv\"\n",
    "data = pd.read_csv(file_path)\n",
    "\n",
    "# Display the first few rows of the dataset\n",
    "print(\"First few rows of the dataset:\")\n",
    "print(data.head())"
   ]
  },
  {
   "cell_type": "code",
   "execution_count": 15,
   "id": "148d8a63",
   "metadata": {},
   "outputs": [
    {
     "name": "stdout",
     "output_type": "stream",
     "text": [
      "Total columns: 16\n",
      "Total rows: 107727\n",
      "-------------\n",
      "labevent_id              0\n",
      "subject_id               0\n",
      "hadm_id              28420\n",
      "specimen_id              0\n",
      "itemid                   0\n",
      "order_provider_id    90897\n",
      "charttime                0\n",
      "storetime              992\n",
      "value                 9588\n",
      "valuenum             12481\n",
      "valueuom             16203\n",
      "ref_range_lower      18728\n",
      "ref_range_upper      18728\n",
      "flag                 67452\n",
      "priority              9329\n",
      "comments             89273\n",
      "dtype: int64\n"
     ]
    }
   ],
   "source": [
    "# Calculate the number of null values in each column\n",
    "null_values = data.isnull().sum()\n",
    "\n",
    "# Display the total number of columns and rows\n",
    "total_columns = data.shape[1]\n",
    "total_rows = data.shape[0]\n",
    "print(f\"Total columns: {total_columns}\")\n",
    "print(f\"Total rows: {total_rows}\")\n",
    "print(\"-------------\")\n",
    "\n",
    "# Display the null values in each column\n",
    "print(null_values)\n"
   ]
  },
  {
   "cell_type": "code",
   "execution_count": 16,
   "id": "74420c69",
   "metadata": {},
   "outputs": [
    {
     "data": {
      "text/plain": [
       "labevent_id            int64\n",
       "subject_id             int64\n",
       "hadm_id              float64\n",
       "specimen_id            int64\n",
       "itemid                 int64\n",
       "order_provider_id     object\n",
       "charttime             object\n",
       "storetime             object\n",
       "value                 object\n",
       "valuenum             float64\n",
       "valueuom              object\n",
       "ref_range_lower      float64\n",
       "ref_range_upper      float64\n",
       "flag                  object\n",
       "priority              object\n",
       "comments              object\n",
       "dtype: object"
      ]
     },
     "execution_count": 16,
     "metadata": {},
     "output_type": "execute_result"
    }
   ],
   "source": [
    "data.dtypes"
   ]
  },
  {
   "cell_type": "code",
   "execution_count": 17,
   "id": "7af3bb35",
   "metadata": {},
   "outputs": [],
   "source": [
    "data['charttime'] = pd.to_datetime(data['charttime'])"
   ]
  },
  {
   "cell_type": "code",
   "execution_count": 18,
   "id": "21947c57",
   "metadata": {},
   "outputs": [],
   "source": [
    "data['storetime'] = pd.to_datetime(data['storetime'])"
   ]
  },
  {
   "cell_type": "code",
   "execution_count": 19,
   "id": "c88c839b",
   "metadata": {},
   "outputs": [
    {
     "data": {
      "text/plain": [
       "labevent_id                   int64\n",
       "subject_id                    int64\n",
       "hadm_id                     float64\n",
       "specimen_id                   int64\n",
       "itemid                        int64\n",
       "order_provider_id            object\n",
       "charttime            datetime64[ns]\n",
       "storetime            datetime64[ns]\n",
       "value                        object\n",
       "valuenum                    float64\n",
       "valueuom                     object\n",
       "ref_range_lower             float64\n",
       "ref_range_upper             float64\n",
       "flag                         object\n",
       "priority                     object\n",
       "comments                     object\n",
       "dtype: object"
      ]
     },
     "execution_count": 19,
     "metadata": {},
     "output_type": "execute_result"
    }
   ],
   "source": [
    "data.dtypes"
   ]
  },
  {
   "cell_type": "code",
   "execution_count": 20,
   "id": "bf119c4c",
   "metadata": {},
   "outputs": [],
   "source": [
    "from sdv.metadata import SingleTableMetadata\n",
    "from sdv.single_table import CTGANSynthesizer\n",
    "import time"
   ]
  },
  {
   "cell_type": "code",
   "execution_count": 21,
   "id": "6a69dec1",
   "metadata": {},
   "outputs": [],
   "source": [
    "df_data = data.head(2000)\n"
   ]
  },
  {
   "cell_type": "code",
   "execution_count": 22,
   "id": "7f0d9e74",
   "metadata": {},
   "outputs": [],
   "source": [
    "# Define the metadata\n",
    "metadata = SingleTableMetadata()\n",
    "metadata.detect_from_dataframe(data=df_data)\n"
   ]
  },
  {
   "cell_type": "code",
   "execution_count": 23,
   "id": "87796ccc",
   "metadata": {},
   "outputs": [
    {
     "name": "stdout",
     "output_type": "stream",
     "text": [
      "Training time: 494.44371914863586 seconds\n"
     ]
    }
   ],
   "source": [
    "# Initialize the CTGANSynthesizer\n",
    "custom_synthesizer = CTGANSynthesizer(metadata, epochs=1000)\n",
    "\n",
    "# Start timing\n",
    "start_time = time.time()\n",
    "\n",
    "# Train the synthesizer on the real data\n",
    "custom_synthesizer.fit(df_data)\n",
    "\n",
    "# End timing\n",
    "end_time = time.time()\n",
    "\n",
    "# Calculate elapsed time\n",
    "elapsed_time = end_time - start_time\n",
    "print(f\"Training time: {elapsed_time} seconds\")\n",
    "\n"
   ]
  },
  {
   "cell_type": "code",
   "execution_count": 24,
   "id": "2787b9c5",
   "metadata": {},
   "outputs": [
    {
     "name": "stdout",
     "output_type": "stream",
     "text": [
      "   labevent_id  subject_id     hadm_id  specimen_id  itemid order_provider_id  \\\n",
      "0    883134354    10038959  28523098.0       629482   51554               NaN   \n",
      "1    531875589    10020575  24852670.0     51033801   51286               NaN   \n",
      "2    306336250    10021242  24844635.0     48309049   52117            P89ZCW   \n",
      "3    558234971    10035673         NaN     85201794   51247            P82TOD   \n",
      "4    916898341    10005663  25001306.0     52886273   50918               NaN   \n",
      "\n",
      "            charttime           storetime          value  valuenum valueuom  \\\n",
      "0 2185-03-22 11:07:20 2150-07-21 03:32:14            NaN    42.165    mEq/L   \n",
      "1 2183-04-28 11:45:01 2184-10-28 21:00:23  sdv-pii-gae51     5.969       fL   \n",
      "2 2162-02-12 03:42:04 2149-01-07 03:12:00  sdv-pii-y1y9g     1.828    mg/dL   \n",
      "3 2117-08-19 16:16:11 2117-08-15 11:02:03  sdv-pii-p0uzv    44.379      NaN   \n",
      "4 2150-12-21 23:47:40 2149-09-14 04:12:44  sdv-pii-im7f2     1.602     IU/L   \n",
      "\n",
      "   ref_range_lower  ref_range_upper flag priority comments  \n",
      "0           26.417              NaN  NaN     STAT      NaN  \n",
      "1              NaN           38.164  NaN     STAT      NaN  \n",
      "2            2.744           10.796  NaN     STAT      NaN  \n",
      "3           38.601           47.597  NaN     STAT      NaN  \n",
      "4            1.085          397.551  NaN     STAT      NaN  \n"
     ]
    }
   ],
   "source": [
    "# Generate synthetic data\n",
    "synthetic_data = custom_synthesizer.sample(1000)  # Generate 1000 rows of synthetic data\n",
    "\n",
    "# Display the first few rows of synthetic data\n",
    "print(synthetic_data.head())"
   ]
  },
  {
   "cell_type": "code",
   "execution_count": 25,
   "id": "85a82967",
   "metadata": {},
   "outputs": [],
   "source": [
    "# Update the 'subject_id' to start from 400000\n",
    "synthetic_data['subject_id'] = range(400000, 400000 + len(synthetic_data))\n",
    "synthetic_data['hadm_id'] = synthetic_data['subject_id'].apply(lambda x: f\"{x}{str(synthetic_data.index.get_loc(synthetic_data.index[synthetic_data['subject_id'] == x][0])).zfill(2)}\")\n",
    "\n"
   ]
  },
  {
   "cell_type": "code",
   "execution_count": 26,
   "id": "c6536e36",
   "metadata": {},
   "outputs": [
    {
     "name": "stdout",
     "output_type": "stream",
     "text": [
      "Synthetic data generated, updated, and saved successfully.\n"
     ]
    }
   ],
   "source": [
    "synthetic_data.to_csv('synthetic_labevents.csv', index=False)\n",
    "\n",
    "print(\"Synthetic data generated, updated, and saved successfully.\")"
   ]
  },
  {
   "cell_type": "code",
   "execution_count": 27,
   "id": "d495a5b9",
   "metadata": {},
   "outputs": [
    {
     "name": "stdout",
     "output_type": "stream",
     "text": [
      "Total columns: 16\n",
      "Total rows: 1000\n",
      "-------------\n",
      "labevent_id            0\n",
      "subject_id             0\n",
      "hadm_id                0\n",
      "specimen_id            0\n",
      "itemid                 0\n",
      "order_provider_id    749\n",
      "charttime              0\n",
      "storetime              3\n",
      "value                102\n",
      "valuenum             108\n",
      "valueuom             234\n",
      "ref_range_lower      167\n",
      "ref_range_upper      150\n",
      "flag                 557\n",
      "priority              47\n",
      "comments             704\n",
      "dtype: int64\n"
     ]
    }
   ],
   "source": [
    "# Calculate the number of null values in each column\n",
    "null_values = synthetic_data.isnull().sum()\n",
    "\n",
    "# Display the total number of columns and rows\n",
    "total_columns = synthetic_data.shape[1]\n",
    "total_rows = synthetic_data.shape[0]\n",
    "print(f\"Total columns: {total_columns}\")\n",
    "print(f\"Total rows: {total_rows}\")\n",
    "print(\"-------------\")\n",
    "\n",
    "# Display the null values in each column\n",
    "print(null_values)\n"
   ]
  },
  {
   "cell_type": "code",
   "execution_count": 28,
   "id": "c1537d53",
   "metadata": {},
   "outputs": [
    {
     "name": "stdout",
     "output_type": "stream",
     "text": [
      "Generating report ...\n",
      "\n",
      "(1/2) Evaluating Data Validity: |████████████████████████████████████████████████████| 16/16 [00:00<00:00, 752.68it/s]|\n",
      "Data Validity Score: 92.86%\n",
      "\n",
      "(2/2) Evaluating Data Structure: |█████████████████████████████████████████████████████| 1/1 [00:00<00:00, 246.90it/s]|\n",
      "Data Structure Score: 100.0%\n",
      "\n",
      "Overall Score (Average): 96.43%\n",
      "\n"
     ]
    }
   ],
   "source": [
    "from sdv.evaluation.single_table import run_diagnostic\n",
    "\n",
    "diagnostic = run_diagnostic(\n",
    "    real_data=df_data,\n",
    "    synthetic_data=synthetic_data,\n",
    "    metadata=metadata\n",
    ")\n"
   ]
  },
  {
   "cell_type": "code",
   "execution_count": 29,
   "id": "e7e615f2",
   "metadata": {},
   "outputs": [
    {
     "name": "stdout",
     "output_type": "stream",
     "text": [
      "Generating report ...\n",
      "\n",
      "(1/2) Evaluating Column Shapes: |████████████████████████████████████████████████████| 16/16 [00:00<00:00, 280.16it/s]|\n",
      "Column Shapes Score: 77.08%\n",
      "\n",
      "(2/2) Evaluating Column Pair Trends: |██████████████████████████████████████████████| 120/120 [00:01<00:00, 86.68it/s]|\n",
      "Column Pair Trends Score: 79.92%\n",
      "\n",
      "Overall Score (Average): 78.5%\n",
      "\n"
     ]
    }
   ],
   "source": [
    "from sdv.evaluation.single_table import evaluate_quality\n",
    "\n",
    "quality_report = evaluate_quality(\n",
    "    df_data,\n",
    "    synthetic_data,\n",
    "    metadata\n",
    ")"
   ]
  },
  {
   "cell_type": "code",
   "execution_count": 30,
   "id": "e556ce94",
   "metadata": {},
   "outputs": [
    {
     "data": {
      "text/html": [
       "<div>\n",
       "<style scoped>\n",
       "    .dataframe tbody tr th:only-of-type {\n",
       "        vertical-align: middle;\n",
       "    }\n",
       "\n",
       "    .dataframe tbody tr th {\n",
       "        vertical-align: top;\n",
       "    }\n",
       "\n",
       "    .dataframe thead th {\n",
       "        text-align: right;\n",
       "    }\n",
       "</style>\n",
       "<table border=\"1\" class=\"dataframe\">\n",
       "  <thead>\n",
       "    <tr style=\"text-align: right;\">\n",
       "      <th></th>\n",
       "      <th>Column</th>\n",
       "      <th>Metric</th>\n",
       "      <th>Score</th>\n",
       "      <th>Error</th>\n",
       "    </tr>\n",
       "  </thead>\n",
       "  <tbody>\n",
       "    <tr>\n",
       "      <th>0</th>\n",
       "      <td>subject_id</td>\n",
       "      <td>KSComplement</td>\n",
       "      <td>0.000000</td>\n",
       "      <td>None</td>\n",
       "    </tr>\n",
       "    <tr>\n",
       "      <th>1</th>\n",
       "      <td>hadm_id</td>\n",
       "      <td>KSComplement</td>\n",
       "      <td>NaN</td>\n",
       "      <td>TypeError: '&lt;' not supported between instances...</td>\n",
       "    </tr>\n",
       "    <tr>\n",
       "      <th>2</th>\n",
       "      <td>specimen_id</td>\n",
       "      <td>KSComplement</td>\n",
       "      <td>0.909000</td>\n",
       "      <td>None</td>\n",
       "    </tr>\n",
       "    <tr>\n",
       "      <th>3</th>\n",
       "      <td>itemid</td>\n",
       "      <td>KSComplement</td>\n",
       "      <td>0.862000</td>\n",
       "      <td>None</td>\n",
       "    </tr>\n",
       "    <tr>\n",
       "      <th>4</th>\n",
       "      <td>order_provider_id</td>\n",
       "      <td>TVComplement</td>\n",
       "      <td>0.871572</td>\n",
       "      <td>None</td>\n",
       "    </tr>\n",
       "    <tr>\n",
       "      <th>5</th>\n",
       "      <td>charttime</td>\n",
       "      <td>KSComplement</td>\n",
       "      <td>0.861500</td>\n",
       "      <td>None</td>\n",
       "    </tr>\n",
       "    <tr>\n",
       "      <th>6</th>\n",
       "      <td>storetime</td>\n",
       "      <td>KSComplement</td>\n",
       "      <td>0.860782</td>\n",
       "      <td>None</td>\n",
       "    </tr>\n",
       "    <tr>\n",
       "      <th>7</th>\n",
       "      <td>valuenum</td>\n",
       "      <td>KSComplement</td>\n",
       "      <td>0.776132</td>\n",
       "      <td>None</td>\n",
       "    </tr>\n",
       "    <tr>\n",
       "      <th>8</th>\n",
       "      <td>valueuom</td>\n",
       "      <td>TVComplement</td>\n",
       "      <td>0.861771</td>\n",
       "      <td>None</td>\n",
       "    </tr>\n",
       "    <tr>\n",
       "      <th>9</th>\n",
       "      <td>ref_range_lower</td>\n",
       "      <td>KSComplement</td>\n",
       "      <td>0.748837</td>\n",
       "      <td>None</td>\n",
       "    </tr>\n",
       "    <tr>\n",
       "      <th>10</th>\n",
       "      <td>ref_range_upper</td>\n",
       "      <td>KSComplement</td>\n",
       "      <td>0.698618</td>\n",
       "      <td>None</td>\n",
       "    </tr>\n",
       "    <tr>\n",
       "      <th>11</th>\n",
       "      <td>flag</td>\n",
       "      <td>TVComplement</td>\n",
       "      <td>1.000000</td>\n",
       "      <td>None</td>\n",
       "    </tr>\n",
       "    <tr>\n",
       "      <th>12</th>\n",
       "      <td>priority</td>\n",
       "      <td>TVComplement</td>\n",
       "      <td>0.927246</td>\n",
       "      <td>None</td>\n",
       "    </tr>\n",
       "    <tr>\n",
       "      <th>13</th>\n",
       "      <td>comments</td>\n",
       "      <td>TVComplement</td>\n",
       "      <td>0.642692</td>\n",
       "      <td>None</td>\n",
       "    </tr>\n",
       "  </tbody>\n",
       "</table>\n",
       "</div>"
      ],
      "text/plain": [
       "               Column        Metric     Score  \\\n",
       "0          subject_id  KSComplement  0.000000   \n",
       "1             hadm_id  KSComplement       NaN   \n",
       "2         specimen_id  KSComplement  0.909000   \n",
       "3              itemid  KSComplement  0.862000   \n",
       "4   order_provider_id  TVComplement  0.871572   \n",
       "5           charttime  KSComplement  0.861500   \n",
       "6           storetime  KSComplement  0.860782   \n",
       "7            valuenum  KSComplement  0.776132   \n",
       "8            valueuom  TVComplement  0.861771   \n",
       "9     ref_range_lower  KSComplement  0.748837   \n",
       "10    ref_range_upper  KSComplement  0.698618   \n",
       "11               flag  TVComplement  1.000000   \n",
       "12           priority  TVComplement  0.927246   \n",
       "13           comments  TVComplement  0.642692   \n",
       "\n",
       "                                                Error  \n",
       "0                                                None  \n",
       "1   TypeError: '<' not supported between instances...  \n",
       "2                                                None  \n",
       "3                                                None  \n",
       "4                                                None  \n",
       "5                                                None  \n",
       "6                                                None  \n",
       "7                                                None  \n",
       "8                                                None  \n",
       "9                                                None  \n",
       "10                                               None  \n",
       "11                                               None  \n",
       "12                                               None  \n",
       "13                                               None  "
      ]
     },
     "execution_count": 30,
     "metadata": {},
     "output_type": "execute_result"
    }
   ],
   "source": [
    "quality_report.get_details('Column Shapes')"
   ]
  },
  {
   "cell_type": "code",
   "execution_count": 32,
   "id": "2d881238",
   "metadata": {},
   "outputs": [
    {
     "data": {
      "text/html": [
       "<iframe\n",
       "    scrolling=\"no\"\n",
       "    width=\"100%\"\n",
       "    height=\"545px\"\n",
       "    src=\"iframe_figures/figure_32.html\"\n",
       "    frameborder=\"0\"\n",
       "    allowfullscreen\n",
       "></iframe>\n"
      ]
     },
     "metadata": {},
     "output_type": "display_data"
    }
   ],
   "source": [
    "from sdv.evaluation.single_table import get_column_plot\n",
    "\n",
    "fig = get_column_plot(\n",
    "    real_data=df_data,\n",
    "    synthetic_data=synthetic_data,\n",
    "    column_name='valuenum',\n",
    "    metadata=metadata\n",
    ")\n",
    "\n",
    "fig.show()"
   ]
  },
  {
   "cell_type": "code",
   "execution_count": 35,
   "id": "e1c99e83",
   "metadata": {},
   "outputs": [
    {
     "data": {
      "text/html": [
       "<iframe\n",
       "    scrolling=\"no\"\n",
       "    width=\"100%\"\n",
       "    height=\"545px\"\n",
       "    src=\"iframe_figures/figure_35.html\"\n",
       "    frameborder=\"0\"\n",
       "    allowfullscreen\n",
       "></iframe>\n"
      ]
     },
     "metadata": {},
     "output_type": "display_data"
    }
   ],
   "source": [
    "from sdv.evaluation.single_table import get_column_plot\n",
    "\n",
    "fig = get_column_plot(\n",
    "    real_data=df_data,\n",
    "    synthetic_data=synthetic_data,\n",
    "    column_name='ref_range_upper',\n",
    "    metadata=metadata\n",
    ")\n",
    "\n",
    "fig.show()"
   ]
  },
  {
   "cell_type": "code",
   "execution_count": 36,
   "id": "3fb2ec70",
   "metadata": {},
   "outputs": [
    {
     "name": "stdout",
     "output_type": "stream",
     "text": [
      "subject_id meets the threshold with a score of 0.00e+00.\n",
      "hadm_id does not have a valid score. Error: TypeError: '<' not supported between instances\n",
      "specimen_id meets the threshold with a score of 9.09e-01.\n",
      "itemid meets the threshold with a score of 8.62e-01.\n",
      "order_provider_id meets the threshold with a score of 8.72e-01.\n",
      "charttime meets the threshold with a score of 8.62e-01.\n",
      "storetime meets the threshold with a score of 8.61e-01.\n",
      "valuenum meets the threshold with a score of 7.76e-01.\n",
      "valueuom meets the threshold with a score of 8.62e-01.\n",
      "ref_range_lower meets the threshold with a score of 7.49e-01.\n",
      "ref_range_upper does not meet the threshold. Score: 6.99e-01, Threshold: 7.00e-01\n",
      "flag meets the threshold with a score of 1.00e+00.\n",
      "priority meets the threshold with a score of 9.27e-01.\n",
      "comments does not meet the threshold. Score: 6.43e-01, Threshold: 7.00e-01\n"
     ]
    }
   ],
   "source": [
    "import pandas as pd\n",
    "\n",
    "# Load the provided data\n",
    "data = [\n",
    "    {'Column': 'subject_id', 'Metric': 'KSComplement', 'Score': 0.000000},\n",
    "    {'Column': 'hadm_id', 'Metric': 'KSComplement', 'Score': None, 'Error': \"TypeError: '<' not supported between instances\"},\n",
    "    {'Column': 'specimen_id', 'Metric': 'KSComplement', 'Score': 0.909000},\n",
    "    {'Column': 'itemid', 'Metric': 'KSComplement', 'Score': 0.862000},\n",
    "    {'Column': 'order_provider_id', 'Metric': 'TVComplement', 'Score': 0.871572},\n",
    "    {'Column': 'charttime', 'Metric': 'KSComplement', 'Score': 0.861500},\n",
    "    {'Column': 'storetime', 'Metric': 'KSComplement', 'Score': 0.860782},\n",
    "    {'Column': 'valuenum', 'Metric': 'KSComplement', 'Score': 0.776132},\n",
    "    {'Column': 'valueuom', 'Metric': 'TVComplement', 'Score': 0.861771},\n",
    "    {'Column': 'ref_range_lower', 'Metric': 'KSComplement', 'Score': 0.748837},\n",
    "    {'Column': 'ref_range_upper', 'Metric': 'KSComplement', 'Score': 0.698618},\n",
    "    {'Column': 'flag', 'Metric': 'TVComplement', 'Score': 1.000000},\n",
    "    {'Column': 'priority', 'Metric': 'TVComplement', 'Score': 0.927246},\n",
    "    {'Column': 'comments', 'Metric': 'TVComplement', 'Score': 0.642692}\n",
    "]\n",
    "\n",
    "# Create a DataFrame from the provided data\n",
    "df = pd.DataFrame(data)\n",
    "\n",
    "# Define the thresholds\n",
    "thresholds = {\n",
    "    'KSComplement': 0.7,\n",
    "    'TVComplement': 0.7,\n",
    "    'critical_columns': {\n",
    "        'admittime': 0.8,\n",
    "        'dischtime': 0.8,\n",
    "        'admission_type': 0.9,\n",
    "        'admission_location': 0.9,\n",
    "        'discharge_location': 0.9,\n",
    "        'insurance': 0.9,\n",
    "        'marital_status': 0.9,\n",
    "    },\n",
    "    'non_critical_columns': {\n",
    "        'subject_id': 0.0,\n",
    "        'language': 0.0,\n",
    "        'race': 0.0,\n",
    "        'edregtime': 0.7,\n",
    "        'edouttime': 0.7,\n",
    "    }\n",
    "}\n",
    "\n",
    "# Function to check if columns meet the threshold\n",
    "def check_thresholds(df, thresholds):\n",
    "    results = []\n",
    "    for _, row in df.iterrows():\n",
    "        column_name = row['Column']\n",
    "        metric = row['Metric']\n",
    "        score = row['Score']\n",
    "\n",
    "        if column_name in thresholds['critical_columns']:\n",
    "            threshold = thresholds['critical_columns'][column_name]\n",
    "        else:\n",
    "            threshold = thresholds['non_critical_columns'].get(column_name, thresholds.get(metric, 0))\n",
    "\n",
    "        if pd.isna(score):\n",
    "            results.append(f\"{column_name} does not have a valid score. Error: {row['Error']}\")\n",
    "        elif score >= threshold:\n",
    "            results.append(f\"{column_name} meets the threshold with a score of {score:.2e}.\")\n",
    "        else:\n",
    "            results.append(f\"{column_name} does not meet the threshold. Score: {score:.2e}, Threshold: {threshold:.2e}\")\n",
    "    \n",
    "    return results\n",
    "\n",
    "# Call the function with the data\n",
    "results = check_thresholds(df, thresholds)\n",
    "\n",
    "# Print the results\n",
    "for result in results:\n",
    "    print(result)\n"
   ]
  },
  {
   "cell_type": "code",
   "execution_count": null,
   "id": "74e3b8a5",
   "metadata": {},
   "outputs": [],
   "source": []
  }
 ],
 "metadata": {
  "kernelspec": {
   "display_name": "Python 3 (ipykernel)",
   "language": "python",
   "name": "python3"
  },
  "language_info": {
   "codemirror_mode": {
    "name": "ipython",
    "version": 3
   },
   "file_extension": ".py",
   "mimetype": "text/x-python",
   "name": "python",
   "nbconvert_exporter": "python",
   "pygments_lexer": "ipython3",
   "version": "3.11.5"
  }
 },
 "nbformat": 4,
 "nbformat_minor": 5
}
